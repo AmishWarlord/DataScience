{
  "nbformat": 4,
  "nbformat_minor": 0,
  "metadata": {
    "colab": {
      "name": "Starbucks_etl.ipynb",
      "provenance": []
    },
    "kernelspec": {
      "name": "python3",
      "display_name": "Python 3"
    }
  },
  "cells": [
    {
      "cell_type": "markdown",
      "metadata": {
        "id": "Hbj8KFyzEU22",
        "colab_type": "text"
      },
      "source": [
        "Starbucks Capstone Project\n",
        "\n",
        "Starbucks has an app that gives individually tailored coupons to app users in hopes that the coupon entices people into their stores. So their objective with this dataset is to discern which types of users should receive which types of coupons.\n",
        "\n",
        "This project is to identify the conditions under which a Starbucks App user will respond to a coupon that was randomly given to them. Note that some customers would have gone to Starbucks regardless of whether or not they received a coupon. So this model will then give a prediction as to whether any given customer, if they are given a specific coupon, will *change* their behavior and go to Starbucks. \n",
        "\n",
        "There are a few difficulties with this that we will deal with as they occur, but the overall goal is to clean the dataset for exploratory analysis, then feed it into a predictive model that will assess whether or not they will buy a product after viewing the coupon. \n",
        "\n",
        "Overall, we were able to make a model that, after removing all trivially predictable data, was able to correctly predict consumer behavior 77.1% of the time. "
      ]
    },
    {
      "cell_type": "code",
      "metadata": {
        "id": "_ZIZl8Q-U0gG",
        "colab_type": "code",
        "colab": {
          "base_uri": "https://localhost:8080/",
          "height": 52
        },
        "outputId": "529abcb1-0e28-40c4-a4ed-7c875b01770d"
      },
      "source": [
        "# import essentials\n",
        "import pandas as pd\n",
        "import numpy as np\n",
        "import math\n",
        "import json\n",
        "import re\n",
        "import seaborn as sns\n",
        "import matplotlib.pyplot as plt\n",
        "% matplotlib inline"
      ],
      "execution_count": 1,
      "outputs": [
        {
          "output_type": "stream",
          "text": [
            "/usr/local/lib/python3.6/dist-packages/statsmodels/tools/_testing.py:19: FutureWarning: pandas.util.testing is deprecated. Use the functions in the public API at pandas.testing instead.\n",
            "  import pandas.util.testing as tm\n"
          ],
          "name": "stderr"
        }
      ]
    },
    {
      "cell_type": "code",
      "metadata": {
        "id": "0ilwHZ4EUfyL",
        "colab_type": "code",
        "colab": {}
      },
      "source": [
        "# set our seaborn style\n",
        "sns.set_style('darkgrid')\n",
        "pd.options.display.float_format = '{:,.2f}'.format"
      ],
      "execution_count": 2,
      "outputs": []
    },
    {
      "cell_type": "code",
      "metadata": {
        "id": "kTLTmNvK9h6y",
        "colab_type": "code",
        "colab": {}
      },
      "source": [
        "seed = 69 # Bill & Ted > 42\n",
        "np.random.seed(seed) "
      ],
      "execution_count": 3,
      "outputs": []
    },
    {
      "cell_type": "code",
      "metadata": {
        "id": "ifIwUyNQCotD",
        "colab_type": "code",
        "colab": {}
      },
      "source": [
        "# read in the json files\n",
        "portfolio = pd.read_json('data/portfolio.json', orient='records', lines=True)\n",
        "profile = pd.read_json('data/profile.json', orient='records', lines=True)\n",
        "transcript = pd.read_json('data/transcript.json', orient='records', lines=True)"
      ],
      "execution_count": null,
      "outputs": []
    },
    {
      "cell_type": "code",
      "metadata": {
        "id": "W9PCH-3KVkZF",
        "colab_type": "code",
        "colab": {
          "base_uri": "https://localhost:8080/",
          "height": 197
        },
        "outputId": "063f58fe-0212-485f-f835-fbcb0c5e6d69"
      },
      "source": [
        "# multiple dataframes have an 'id' column, each one means something different\n",
        "# clarify the id variables\n",
        "portfolio.rename(columns={'id':'coupon_id'},inplace=True)\n",
        "portfolio.head()"
      ],
      "execution_count": 7,
      "outputs": [
        {
          "output_type": "execute_result",
          "data": {
            "text/html": [
              "<div>\n",
              "<style scoped>\n",
              "    .dataframe tbody tr th:only-of-type {\n",
              "        vertical-align: middle;\n",
              "    }\n",
              "\n",
              "    .dataframe tbody tr th {\n",
              "        vertical-align: top;\n",
              "    }\n",
              "\n",
              "    .dataframe thead th {\n",
              "        text-align: right;\n",
              "    }\n",
              "</style>\n",
              "<table border=\"1\" class=\"dataframe\">\n",
              "  <thead>\n",
              "    <tr style=\"text-align: right;\">\n",
              "      <th></th>\n",
              "      <th>reward</th>\n",
              "      <th>channels</th>\n",
              "      <th>difficulty</th>\n",
              "      <th>duration</th>\n",
              "      <th>offer_type</th>\n",
              "      <th>coupon_id</th>\n",
              "    </tr>\n",
              "  </thead>\n",
              "  <tbody>\n",
              "    <tr>\n",
              "      <th>0</th>\n",
              "      <td>10</td>\n",
              "      <td>[email, mobile, social]</td>\n",
              "      <td>10</td>\n",
              "      <td>7</td>\n",
              "      <td>bogo</td>\n",
              "      <td>ae264e3637204a6fb9bb56bc8210ddfd</td>\n",
              "    </tr>\n",
              "    <tr>\n",
              "      <th>1</th>\n",
              "      <td>10</td>\n",
              "      <td>[web, email, mobile, social]</td>\n",
              "      <td>10</td>\n",
              "      <td>5</td>\n",
              "      <td>bogo</td>\n",
              "      <td>4d5c57ea9a6940dd891ad53e9dbe8da0</td>\n",
              "    </tr>\n",
              "    <tr>\n",
              "      <th>2</th>\n",
              "      <td>0</td>\n",
              "      <td>[web, email, mobile]</td>\n",
              "      <td>0</td>\n",
              "      <td>4</td>\n",
              "      <td>informational</td>\n",
              "      <td>3f207df678b143eea3cee63160fa8bed</td>\n",
              "    </tr>\n",
              "    <tr>\n",
              "      <th>3</th>\n",
              "      <td>5</td>\n",
              "      <td>[web, email, mobile]</td>\n",
              "      <td>5</td>\n",
              "      <td>7</td>\n",
              "      <td>bogo</td>\n",
              "      <td>9b98b8c7a33c4b65b9aebfe6a799e6d9</td>\n",
              "    </tr>\n",
              "    <tr>\n",
              "      <th>4</th>\n",
              "      <td>5</td>\n",
              "      <td>[web, email]</td>\n",
              "      <td>20</td>\n",
              "      <td>10</td>\n",
              "      <td>discount</td>\n",
              "      <td>0b1e1539f2cc45b7b9fa7c272da2e1d7</td>\n",
              "    </tr>\n",
              "  </tbody>\n",
              "</table>\n",
              "</div>"
            ],
            "text/plain": [
              "   reward  ...                         coupon_id\n",
              "0      10  ...  ae264e3637204a6fb9bb56bc8210ddfd\n",
              "1      10  ...  4d5c57ea9a6940dd891ad53e9dbe8da0\n",
              "2       0  ...  3f207df678b143eea3cee63160fa8bed\n",
              "3       5  ...  9b98b8c7a33c4b65b9aebfe6a799e6d9\n",
              "4       5  ...  0b1e1539f2cc45b7b9fa7c272da2e1d7\n",
              "\n",
              "[5 rows x 6 columns]"
            ]
          },
          "metadata": {
            "tags": []
          },
          "execution_count": 7
        }
      ]
    },
    {
      "cell_type": "code",
      "metadata": {
        "id": "IZUPYctpVkbr",
        "colab_type": "code",
        "colab": {
          "base_uri": "https://localhost:8080/",
          "height": 197
        },
        "outputId": "9fce83a0-213f-4307-a496-a427579be1f7"
      },
      "source": [
        "profile.rename(columns={'id':'customer_id'},inplace=True)\n",
        "profile.became_member_on = pd.to_datetime(profile.became_member_on,format='%Y%m%d')\n",
        "profile.head()"
      ],
      "execution_count": 8,
      "outputs": [
        {
          "output_type": "execute_result",
          "data": {
            "text/html": [
              "<div>\n",
              "<style scoped>\n",
              "    .dataframe tbody tr th:only-of-type {\n",
              "        vertical-align: middle;\n",
              "    }\n",
              "\n",
              "    .dataframe tbody tr th {\n",
              "        vertical-align: top;\n",
              "    }\n",
              "\n",
              "    .dataframe thead th {\n",
              "        text-align: right;\n",
              "    }\n",
              "</style>\n",
              "<table border=\"1\" class=\"dataframe\">\n",
              "  <thead>\n",
              "    <tr style=\"text-align: right;\">\n",
              "      <th></th>\n",
              "      <th>gender</th>\n",
              "      <th>age</th>\n",
              "      <th>customer_id</th>\n",
              "      <th>became_member_on</th>\n",
              "      <th>income</th>\n",
              "    </tr>\n",
              "  </thead>\n",
              "  <tbody>\n",
              "    <tr>\n",
              "      <th>0</th>\n",
              "      <td>None</td>\n",
              "      <td>118</td>\n",
              "      <td>68be06ca386d4c31939f3a4f0e3dd783</td>\n",
              "      <td>2017-02-12</td>\n",
              "      <td>nan</td>\n",
              "    </tr>\n",
              "    <tr>\n",
              "      <th>1</th>\n",
              "      <td>F</td>\n",
              "      <td>55</td>\n",
              "      <td>0610b486422d4921ae7d2bf64640c50b</td>\n",
              "      <td>2017-07-15</td>\n",
              "      <td>112,000.00</td>\n",
              "    </tr>\n",
              "    <tr>\n",
              "      <th>2</th>\n",
              "      <td>None</td>\n",
              "      <td>118</td>\n",
              "      <td>38fe809add3b4fcf9315a9694bb96ff5</td>\n",
              "      <td>2018-07-12</td>\n",
              "      <td>nan</td>\n",
              "    </tr>\n",
              "    <tr>\n",
              "      <th>3</th>\n",
              "      <td>F</td>\n",
              "      <td>75</td>\n",
              "      <td>78afa995795e4d85b5d9ceeca43f5fef</td>\n",
              "      <td>2017-05-09</td>\n",
              "      <td>100,000.00</td>\n",
              "    </tr>\n",
              "    <tr>\n",
              "      <th>4</th>\n",
              "      <td>None</td>\n",
              "      <td>118</td>\n",
              "      <td>a03223e636434f42ac4c3df47e8bac43</td>\n",
              "      <td>2017-08-04</td>\n",
              "      <td>nan</td>\n",
              "    </tr>\n",
              "  </tbody>\n",
              "</table>\n",
              "</div>"
            ],
            "text/plain": [
              "  gender  age                       customer_id became_member_on     income\n",
              "0   None  118  68be06ca386d4c31939f3a4f0e3dd783       2017-02-12        nan\n",
              "1      F   55  0610b486422d4921ae7d2bf64640c50b       2017-07-15 112,000.00\n",
              "2   None  118  38fe809add3b4fcf9315a9694bb96ff5       2018-07-12        nan\n",
              "3      F   75  78afa995795e4d85b5d9ceeca43f5fef       2017-05-09 100,000.00\n",
              "4   None  118  a03223e636434f42ac4c3df47e8bac43       2017-08-04        nan"
            ]
          },
          "metadata": {
            "tags": []
          },
          "execution_count": 8
        }
      ]
    },
    {
      "cell_type": "code",
      "metadata": {
        "id": "SiuN7-tWWOJ7",
        "colab_type": "code",
        "colab": {}
      },
      "source": [
        "\n",
        "transcript['event_id'] = transcript.value.apply(\n",
        "    lambda x: list(x.values())[0]\n",
        ")"
      ],
      "execution_count": 9,
      "outputs": []
    },
    {
      "cell_type": "code",
      "metadata": {
        "id": "80bE4VcEU5Hu",
        "colab_type": "code",
        "colab": {
          "base_uri": "https://localhost:8080/",
          "height": 197
        },
        "outputId": "9c100a25-3e40-409b-f549-a74d2967edc2"
      },
      "source": [
        "transcript.head()"
      ],
      "execution_count": 10,
      "outputs": [
        {
          "output_type": "execute_result",
          "data": {
            "text/html": [
              "<div>\n",
              "<style scoped>\n",
              "    .dataframe tbody tr th:only-of-type {\n",
              "        vertical-align: middle;\n",
              "    }\n",
              "\n",
              "    .dataframe tbody tr th {\n",
              "        vertical-align: top;\n",
              "    }\n",
              "\n",
              "    .dataframe thead th {\n",
              "        text-align: right;\n",
              "    }\n",
              "</style>\n",
              "<table border=\"1\" class=\"dataframe\">\n",
              "  <thead>\n",
              "    <tr style=\"text-align: right;\">\n",
              "      <th></th>\n",
              "      <th>person</th>\n",
              "      <th>event</th>\n",
              "      <th>value</th>\n",
              "      <th>time</th>\n",
              "      <th>event_id</th>\n",
              "    </tr>\n",
              "  </thead>\n",
              "  <tbody>\n",
              "    <tr>\n",
              "      <th>0</th>\n",
              "      <td>78afa995795e4d85b5d9ceeca43f5fef</td>\n",
              "      <td>offer received</td>\n",
              "      <td>{'offer id': '9b98b8c7a33c4b65b9aebfe6a799e6d9'}</td>\n",
              "      <td>0</td>\n",
              "      <td>9b98b8c7a33c4b65b9aebfe6a799e6d9</td>\n",
              "    </tr>\n",
              "    <tr>\n",
              "      <th>1</th>\n",
              "      <td>a03223e636434f42ac4c3df47e8bac43</td>\n",
              "      <td>offer received</td>\n",
              "      <td>{'offer id': '0b1e1539f2cc45b7b9fa7c272da2e1d7'}</td>\n",
              "      <td>0</td>\n",
              "      <td>0b1e1539f2cc45b7b9fa7c272da2e1d7</td>\n",
              "    </tr>\n",
              "    <tr>\n",
              "      <th>2</th>\n",
              "      <td>e2127556f4f64592b11af22de27a7932</td>\n",
              "      <td>offer received</td>\n",
              "      <td>{'offer id': '2906b810c7d4411798c6938adc9daaa5'}</td>\n",
              "      <td>0</td>\n",
              "      <td>2906b810c7d4411798c6938adc9daaa5</td>\n",
              "    </tr>\n",
              "    <tr>\n",
              "      <th>3</th>\n",
              "      <td>8ec6ce2a7e7949b1bf142def7d0e0586</td>\n",
              "      <td>offer received</td>\n",
              "      <td>{'offer id': 'fafdcd668e3743c1bb461111dcafc2a4'}</td>\n",
              "      <td>0</td>\n",
              "      <td>fafdcd668e3743c1bb461111dcafc2a4</td>\n",
              "    </tr>\n",
              "    <tr>\n",
              "      <th>4</th>\n",
              "      <td>68617ca6246f4fbc85e91a2a49552598</td>\n",
              "      <td>offer received</td>\n",
              "      <td>{'offer id': '4d5c57ea9a6940dd891ad53e9dbe8da0'}</td>\n",
              "      <td>0</td>\n",
              "      <td>4d5c57ea9a6940dd891ad53e9dbe8da0</td>\n",
              "    </tr>\n",
              "  </tbody>\n",
              "</table>\n",
              "</div>"
            ],
            "text/plain": [
              "                             person  ...                          event_id\n",
              "0  78afa995795e4d85b5d9ceeca43f5fef  ...  9b98b8c7a33c4b65b9aebfe6a799e6d9\n",
              "1  a03223e636434f42ac4c3df47e8bac43  ...  0b1e1539f2cc45b7b9fa7c272da2e1d7\n",
              "2  e2127556f4f64592b11af22de27a7932  ...  2906b810c7d4411798c6938adc9daaa5\n",
              "3  8ec6ce2a7e7949b1bf142def7d0e0586  ...  fafdcd668e3743c1bb461111dcafc2a4\n",
              "4  68617ca6246f4fbc85e91a2a49552598  ...  4d5c57ea9a6940dd891ad53e9dbe8da0\n",
              "\n",
              "[5 rows x 5 columns]"
            ]
          },
          "metadata": {
            "tags": []
          },
          "execution_count": 10
        }
      ]
    },
    {
      "cell_type": "code",
      "metadata": {
        "id": "h6kJ8ghKGl4S",
        "colab_type": "code",
        "colab": {
          "base_uri": "https://localhost:8080/",
          "height": 197
        },
        "outputId": "1c615707-b9c9-4eb8-c93a-c3dfecd00f13"
      },
      "source": [
        "df = transcript.join(profile.set_index('customer_id'),on='person')\n",
        "df = df.join(portfolio.set_index('coupon_id'),on='event_id')\n",
        "df.head()"
      ],
      "execution_count": 11,
      "outputs": [
        {
          "output_type": "execute_result",
          "data": {
            "text/html": [
              "<div>\n",
              "<style scoped>\n",
              "    .dataframe tbody tr th:only-of-type {\n",
              "        vertical-align: middle;\n",
              "    }\n",
              "\n",
              "    .dataframe tbody tr th {\n",
              "        vertical-align: top;\n",
              "    }\n",
              "\n",
              "    .dataframe thead th {\n",
              "        text-align: right;\n",
              "    }\n",
              "</style>\n",
              "<table border=\"1\" class=\"dataframe\">\n",
              "  <thead>\n",
              "    <tr style=\"text-align: right;\">\n",
              "      <th></th>\n",
              "      <th>person</th>\n",
              "      <th>event</th>\n",
              "      <th>value</th>\n",
              "      <th>time</th>\n",
              "      <th>event_id</th>\n",
              "      <th>gender</th>\n",
              "      <th>age</th>\n",
              "      <th>became_member_on</th>\n",
              "      <th>income</th>\n",
              "      <th>reward</th>\n",
              "      <th>channels</th>\n",
              "      <th>difficulty</th>\n",
              "      <th>duration</th>\n",
              "      <th>offer_type</th>\n",
              "    </tr>\n",
              "  </thead>\n",
              "  <tbody>\n",
              "    <tr>\n",
              "      <th>0</th>\n",
              "      <td>78afa995795e4d85b5d9ceeca43f5fef</td>\n",
              "      <td>offer received</td>\n",
              "      <td>{'offer id': '9b98b8c7a33c4b65b9aebfe6a799e6d9'}</td>\n",
              "      <td>0</td>\n",
              "      <td>9b98b8c7a33c4b65b9aebfe6a799e6d9</td>\n",
              "      <td>F</td>\n",
              "      <td>75</td>\n",
              "      <td>2017-05-09</td>\n",
              "      <td>100,000.00</td>\n",
              "      <td>5.00</td>\n",
              "      <td>[web, email, mobile]</td>\n",
              "      <td>5.00</td>\n",
              "      <td>7.00</td>\n",
              "      <td>bogo</td>\n",
              "    </tr>\n",
              "    <tr>\n",
              "      <th>1</th>\n",
              "      <td>a03223e636434f42ac4c3df47e8bac43</td>\n",
              "      <td>offer received</td>\n",
              "      <td>{'offer id': '0b1e1539f2cc45b7b9fa7c272da2e1d7'}</td>\n",
              "      <td>0</td>\n",
              "      <td>0b1e1539f2cc45b7b9fa7c272da2e1d7</td>\n",
              "      <td>None</td>\n",
              "      <td>118</td>\n",
              "      <td>2017-08-04</td>\n",
              "      <td>nan</td>\n",
              "      <td>5.00</td>\n",
              "      <td>[web, email]</td>\n",
              "      <td>20.00</td>\n",
              "      <td>10.00</td>\n",
              "      <td>discount</td>\n",
              "    </tr>\n",
              "    <tr>\n",
              "      <th>2</th>\n",
              "      <td>e2127556f4f64592b11af22de27a7932</td>\n",
              "      <td>offer received</td>\n",
              "      <td>{'offer id': '2906b810c7d4411798c6938adc9daaa5'}</td>\n",
              "      <td>0</td>\n",
              "      <td>2906b810c7d4411798c6938adc9daaa5</td>\n",
              "      <td>M</td>\n",
              "      <td>68</td>\n",
              "      <td>2018-04-26</td>\n",
              "      <td>70,000.00</td>\n",
              "      <td>2.00</td>\n",
              "      <td>[web, email, mobile]</td>\n",
              "      <td>10.00</td>\n",
              "      <td>7.00</td>\n",
              "      <td>discount</td>\n",
              "    </tr>\n",
              "    <tr>\n",
              "      <th>3</th>\n",
              "      <td>8ec6ce2a7e7949b1bf142def7d0e0586</td>\n",
              "      <td>offer received</td>\n",
              "      <td>{'offer id': 'fafdcd668e3743c1bb461111dcafc2a4'}</td>\n",
              "      <td>0</td>\n",
              "      <td>fafdcd668e3743c1bb461111dcafc2a4</td>\n",
              "      <td>None</td>\n",
              "      <td>118</td>\n",
              "      <td>2017-09-25</td>\n",
              "      <td>nan</td>\n",
              "      <td>2.00</td>\n",
              "      <td>[web, email, mobile, social]</td>\n",
              "      <td>10.00</td>\n",
              "      <td>10.00</td>\n",
              "      <td>discount</td>\n",
              "    </tr>\n",
              "    <tr>\n",
              "      <th>4</th>\n",
              "      <td>68617ca6246f4fbc85e91a2a49552598</td>\n",
              "      <td>offer received</td>\n",
              "      <td>{'offer id': '4d5c57ea9a6940dd891ad53e9dbe8da0'}</td>\n",
              "      <td>0</td>\n",
              "      <td>4d5c57ea9a6940dd891ad53e9dbe8da0</td>\n",
              "      <td>None</td>\n",
              "      <td>118</td>\n",
              "      <td>2017-10-02</td>\n",
              "      <td>nan</td>\n",
              "      <td>10.00</td>\n",
              "      <td>[web, email, mobile, social]</td>\n",
              "      <td>10.00</td>\n",
              "      <td>5.00</td>\n",
              "      <td>bogo</td>\n",
              "    </tr>\n",
              "  </tbody>\n",
              "</table>\n",
              "</div>"
            ],
            "text/plain": [
              "                             person           event  ... duration  offer_type\n",
              "0  78afa995795e4d85b5d9ceeca43f5fef  offer received  ...     7.00        bogo\n",
              "1  a03223e636434f42ac4c3df47e8bac43  offer received  ...    10.00    discount\n",
              "2  e2127556f4f64592b11af22de27a7932  offer received  ...     7.00    discount\n",
              "3  8ec6ce2a7e7949b1bf142def7d0e0586  offer received  ...    10.00    discount\n",
              "4  68617ca6246f4fbc85e91a2a49552598  offer received  ...     5.00        bogo\n",
              "\n",
              "[5 rows x 14 columns]"
            ]
          },
          "metadata": {
            "tags": []
          },
          "execution_count": 11
        }
      ]
    },
    {
      "cell_type": "code",
      "metadata": {
        "id": "YL2XpjNJVfrs",
        "colab_type": "code",
        "colab": {
          "base_uri": "https://localhost:8080/",
          "height": 52
        },
        "outputId": "a784806a-2de7-450c-a0e2-44e27d8aa375"
      },
      "source": [
        "transcript.event.unique()"
      ],
      "execution_count": 12,
      "outputs": [
        {
          "output_type": "execute_result",
          "data": {
            "text/plain": [
              "array(['offer received', 'offer viewed', 'transaction', 'offer completed'],\n",
              "      dtype=object)"
            ]
          },
          "metadata": {
            "tags": []
          },
          "execution_count": 12
        }
      ]
    },
    {
      "cell_type": "code",
      "metadata": {
        "id": "9i1_v7B4WAwd",
        "colab_type": "code",
        "colab": {
          "base_uri": "https://localhost:8080/",
          "height": 197
        },
        "outputId": "f5e55421-3d9f-4106-f389-111d9a1a2ec8"
      },
      "source": [
        "transaction = df[df.event=='transaction'].copy()\n",
        "transaction.head()"
      ],
      "execution_count": 13,
      "outputs": [
        {
          "output_type": "execute_result",
          "data": {
            "text/html": [
              "<div>\n",
              "<style scoped>\n",
              "    .dataframe tbody tr th:only-of-type {\n",
              "        vertical-align: middle;\n",
              "    }\n",
              "\n",
              "    .dataframe tbody tr th {\n",
              "        vertical-align: top;\n",
              "    }\n",
              "\n",
              "    .dataframe thead th {\n",
              "        text-align: right;\n",
              "    }\n",
              "</style>\n",
              "<table border=\"1\" class=\"dataframe\">\n",
              "  <thead>\n",
              "    <tr style=\"text-align: right;\">\n",
              "      <th></th>\n",
              "      <th>person</th>\n",
              "      <th>event</th>\n",
              "      <th>value</th>\n",
              "      <th>time</th>\n",
              "      <th>event_id</th>\n",
              "      <th>gender</th>\n",
              "      <th>age</th>\n",
              "      <th>became_member_on</th>\n",
              "      <th>income</th>\n",
              "      <th>reward</th>\n",
              "      <th>channels</th>\n",
              "      <th>difficulty</th>\n",
              "      <th>duration</th>\n",
              "      <th>offer_type</th>\n",
              "    </tr>\n",
              "  </thead>\n",
              "  <tbody>\n",
              "    <tr>\n",
              "      <th>12654</th>\n",
              "      <td>02c083884c7d45b39cc68e1314fec56c</td>\n",
              "      <td>transaction</td>\n",
              "      <td>{'amount': 0.8300000000000001}</td>\n",
              "      <td>0</td>\n",
              "      <td>0.83</td>\n",
              "      <td>F</td>\n",
              "      <td>20</td>\n",
              "      <td>2016-07-11</td>\n",
              "      <td>30,000.00</td>\n",
              "      <td>nan</td>\n",
              "      <td>NaN</td>\n",
              "      <td>nan</td>\n",
              "      <td>nan</td>\n",
              "      <td>NaN</td>\n",
              "    </tr>\n",
              "    <tr>\n",
              "      <th>12657</th>\n",
              "      <td>9fa9ae8f57894cc9a3b8a9bbe0fc1b2f</td>\n",
              "      <td>transaction</td>\n",
              "      <td>{'amount': 34.56}</td>\n",
              "      <td>0</td>\n",
              "      <td>34.56</td>\n",
              "      <td>M</td>\n",
              "      <td>42</td>\n",
              "      <td>2016-01-17</td>\n",
              "      <td>96,000.00</td>\n",
              "      <td>nan</td>\n",
              "      <td>NaN</td>\n",
              "      <td>nan</td>\n",
              "      <td>nan</td>\n",
              "      <td>NaN</td>\n",
              "    </tr>\n",
              "    <tr>\n",
              "      <th>12659</th>\n",
              "      <td>54890f68699049c2a04d415abc25e717</td>\n",
              "      <td>transaction</td>\n",
              "      <td>{'amount': 13.23}</td>\n",
              "      <td>0</td>\n",
              "      <td>13.23</td>\n",
              "      <td>M</td>\n",
              "      <td>36</td>\n",
              "      <td>2017-12-28</td>\n",
              "      <td>56,000.00</td>\n",
              "      <td>nan</td>\n",
              "      <td>NaN</td>\n",
              "      <td>nan</td>\n",
              "      <td>nan</td>\n",
              "      <td>NaN</td>\n",
              "    </tr>\n",
              "    <tr>\n",
              "      <th>12670</th>\n",
              "      <td>b2f1cd155b864803ad8334cdf13c4bd2</td>\n",
              "      <td>transaction</td>\n",
              "      <td>{'amount': 19.51}</td>\n",
              "      <td>0</td>\n",
              "      <td>19.51</td>\n",
              "      <td>F</td>\n",
              "      <td>55</td>\n",
              "      <td>2017-10-16</td>\n",
              "      <td>94,000.00</td>\n",
              "      <td>nan</td>\n",
              "      <td>NaN</td>\n",
              "      <td>nan</td>\n",
              "      <td>nan</td>\n",
              "      <td>NaN</td>\n",
              "    </tr>\n",
              "    <tr>\n",
              "      <th>12671</th>\n",
              "      <td>fe97aa22dd3e48c8b143116a8403dd52</td>\n",
              "      <td>transaction</td>\n",
              "      <td>{'amount': 18.97}</td>\n",
              "      <td>0</td>\n",
              "      <td>18.97</td>\n",
              "      <td>F</td>\n",
              "      <td>39</td>\n",
              "      <td>2017-12-17</td>\n",
              "      <td>67,000.00</td>\n",
              "      <td>nan</td>\n",
              "      <td>NaN</td>\n",
              "      <td>nan</td>\n",
              "      <td>nan</td>\n",
              "      <td>NaN</td>\n",
              "    </tr>\n",
              "  </tbody>\n",
              "</table>\n",
              "</div>"
            ],
            "text/plain": [
              "                                 person        event  ... duration  offer_type\n",
              "12654  02c083884c7d45b39cc68e1314fec56c  transaction  ...      nan         NaN\n",
              "12657  9fa9ae8f57894cc9a3b8a9bbe0fc1b2f  transaction  ...      nan         NaN\n",
              "12659  54890f68699049c2a04d415abc25e717  transaction  ...      nan         NaN\n",
              "12670  b2f1cd155b864803ad8334cdf13c4bd2  transaction  ...      nan         NaN\n",
              "12671  fe97aa22dd3e48c8b143116a8403dd52  transaction  ...      nan         NaN\n",
              "\n",
              "[5 rows x 14 columns]"
            ]
          },
          "metadata": {
            "tags": []
          },
          "execution_count": 13
        }
      ]
    },
    {
      "cell_type": "code",
      "metadata": {
        "id": "dEdz6TcQJKU1",
        "colab_type": "code",
        "colab": {}
      },
      "source": [
        "viewed = df[df.event=='offer viewed'].copy()"
      ],
      "execution_count": 14,
      "outputs": []
    },
    {
      "cell_type": "code",
      "metadata": {
        "id": "hgOb6sX2FPla",
        "colab_type": "code",
        "colab": {
          "base_uri": "https://localhost:8080/",
          "height": 197
        },
        "outputId": "8bee546c-8011-4b2f-b0bc-be0426a3e39b"
      },
      "source": [
        "completed = df[df.event=='offer completed'].copy()\n",
        "completed.head()"
      ],
      "execution_count": 15,
      "outputs": [
        {
          "output_type": "execute_result",
          "data": {
            "text/html": [
              "<div>\n",
              "<style scoped>\n",
              "    .dataframe tbody tr th:only-of-type {\n",
              "        vertical-align: middle;\n",
              "    }\n",
              "\n",
              "    .dataframe tbody tr th {\n",
              "        vertical-align: top;\n",
              "    }\n",
              "\n",
              "    .dataframe thead th {\n",
              "        text-align: right;\n",
              "    }\n",
              "</style>\n",
              "<table border=\"1\" class=\"dataframe\">\n",
              "  <thead>\n",
              "    <tr style=\"text-align: right;\">\n",
              "      <th></th>\n",
              "      <th>person</th>\n",
              "      <th>event</th>\n",
              "      <th>value</th>\n",
              "      <th>time</th>\n",
              "      <th>event_id</th>\n",
              "      <th>gender</th>\n",
              "      <th>age</th>\n",
              "      <th>became_member_on</th>\n",
              "      <th>income</th>\n",
              "      <th>reward</th>\n",
              "      <th>channels</th>\n",
              "      <th>difficulty</th>\n",
              "      <th>duration</th>\n",
              "      <th>offer_type</th>\n",
              "    </tr>\n",
              "  </thead>\n",
              "  <tbody>\n",
              "    <tr>\n",
              "      <th>12658</th>\n",
              "      <td>9fa9ae8f57894cc9a3b8a9bbe0fc1b2f</td>\n",
              "      <td>offer completed</td>\n",
              "      <td>{'offer_id': '2906b810c7d4411798c6938adc9daaa5...</td>\n",
              "      <td>0</td>\n",
              "      <td>2906b810c7d4411798c6938adc9daaa5</td>\n",
              "      <td>M</td>\n",
              "      <td>42</td>\n",
              "      <td>2016-01-17</td>\n",
              "      <td>96,000.00</td>\n",
              "      <td>2.00</td>\n",
              "      <td>[web, email, mobile]</td>\n",
              "      <td>10.00</td>\n",
              "      <td>7.00</td>\n",
              "      <td>discount</td>\n",
              "    </tr>\n",
              "    <tr>\n",
              "      <th>12672</th>\n",
              "      <td>fe97aa22dd3e48c8b143116a8403dd52</td>\n",
              "      <td>offer completed</td>\n",
              "      <td>{'offer_id': 'fafdcd668e3743c1bb461111dcafc2a4...</td>\n",
              "      <td>0</td>\n",
              "      <td>fafdcd668e3743c1bb461111dcafc2a4</td>\n",
              "      <td>F</td>\n",
              "      <td>39</td>\n",
              "      <td>2017-12-17</td>\n",
              "      <td>67,000.00</td>\n",
              "      <td>2.00</td>\n",
              "      <td>[web, email, mobile, social]</td>\n",
              "      <td>10.00</td>\n",
              "      <td>10.00</td>\n",
              "      <td>discount</td>\n",
              "    </tr>\n",
              "    <tr>\n",
              "      <th>12679</th>\n",
              "      <td>629fc02d56414d91bca360decdfa9288</td>\n",
              "      <td>offer completed</td>\n",
              "      <td>{'offer_id': '9b98b8c7a33c4b65b9aebfe6a799e6d9...</td>\n",
              "      <td>0</td>\n",
              "      <td>9b98b8c7a33c4b65b9aebfe6a799e6d9</td>\n",
              "      <td>M</td>\n",
              "      <td>52</td>\n",
              "      <td>2018-06-05</td>\n",
              "      <td>72,000.00</td>\n",
              "      <td>5.00</td>\n",
              "      <td>[web, email, mobile]</td>\n",
              "      <td>5.00</td>\n",
              "      <td>7.00</td>\n",
              "      <td>bogo</td>\n",
              "    </tr>\n",
              "    <tr>\n",
              "      <th>12692</th>\n",
              "      <td>676506bad68e4161b9bbaffeb039626b</td>\n",
              "      <td>offer completed</td>\n",
              "      <td>{'offer_id': 'ae264e3637204a6fb9bb56bc8210ddfd...</td>\n",
              "      <td>0</td>\n",
              "      <td>ae264e3637204a6fb9bb56bc8210ddfd</td>\n",
              "      <td>M</td>\n",
              "      <td>37</td>\n",
              "      <td>2017-05-15</td>\n",
              "      <td>92,000.00</td>\n",
              "      <td>10.00</td>\n",
              "      <td>[email, mobile, social]</td>\n",
              "      <td>10.00</td>\n",
              "      <td>7.00</td>\n",
              "      <td>bogo</td>\n",
              "    </tr>\n",
              "    <tr>\n",
              "      <th>12697</th>\n",
              "      <td>8f7dd3b2afe14c078eb4f6e6fe4ba97d</td>\n",
              "      <td>offer completed</td>\n",
              "      <td>{'offer_id': '4d5c57ea9a6940dd891ad53e9dbe8da0...</td>\n",
              "      <td>0</td>\n",
              "      <td>4d5c57ea9a6940dd891ad53e9dbe8da0</td>\n",
              "      <td>M</td>\n",
              "      <td>48</td>\n",
              "      <td>2015-09-03</td>\n",
              "      <td>62,000.00</td>\n",
              "      <td>10.00</td>\n",
              "      <td>[web, email, mobile, social]</td>\n",
              "      <td>10.00</td>\n",
              "      <td>5.00</td>\n",
              "      <td>bogo</td>\n",
              "    </tr>\n",
              "  </tbody>\n",
              "</table>\n",
              "</div>"
            ],
            "text/plain": [
              "                                 person            event  ... duration  offer_type\n",
              "12658  9fa9ae8f57894cc9a3b8a9bbe0fc1b2f  offer completed  ...     7.00    discount\n",
              "12672  fe97aa22dd3e48c8b143116a8403dd52  offer completed  ...    10.00    discount\n",
              "12679  629fc02d56414d91bca360decdfa9288  offer completed  ...     7.00        bogo\n",
              "12692  676506bad68e4161b9bbaffeb039626b  offer completed  ...     7.00        bogo\n",
              "12697  8f7dd3b2afe14c078eb4f6e6fe4ba97d  offer completed  ...     5.00        bogo\n",
              "\n",
              "[5 rows x 14 columns]"
            ]
          },
          "metadata": {
            "tags": []
          },
          "execution_count": 15
        }
      ]
    },
    {
      "cell_type": "code",
      "metadata": {
        "id": "-18d5pDWV5IN",
        "colab_type": "code",
        "colab": {
          "base_uri": "https://localhost:8080/",
          "height": 34
        },
        "outputId": "5a84668d-8d44-4ad3-d6eb-4c1897ea1fc5"
      },
      "source": [
        "received = df[df.event=='offer received'].copy()\n",
        "received.shape"
      ],
      "execution_count": 16,
      "outputs": [
        {
          "output_type": "execute_result",
          "data": {
            "text/plain": [
              "(76277, 14)"
            ]
          },
          "metadata": {
            "tags": []
          },
          "execution_count": 16
        }
      ]
    },
    {
      "cell_type": "code",
      "metadata": {
        "id": "3bzEhxa-t96r",
        "colab_type": "code",
        "colab": {}
      },
      "source": [
        "# now add coupon viewed, and coupon completed to received\n",
        "# start with viewed\n",
        "def check_feat(df,other) :\n",
        "    output = pd.Series(np.zeros(received.shape[0]),dtype=int)\n",
        "    for i,row in received.iterrows() :\n",
        "        temp = other[other.person == row.person]\n",
        "        temp = temp[temp.event_id==row.event_id]\n",
        "        temp = temp[temp.time >= row.time]\n",
        "        temp = temp[temp.time <= row.time + (row.duration * 24)]\n",
        "        if temp.shape[0] > 0 : output[i] = 1\n",
        "        else : output[i] = 0\n",
        "    return output"
      ],
      "execution_count": 17,
      "outputs": []
    },
    {
      "cell_type": "code",
      "metadata": {
        "id": "lx4L-0PXWMZV",
        "colab_type": "code",
        "colab": {}
      },
      "source": [
        "from time import time\n",
        "t = time()"
      ],
      "execution_count": 18,
      "outputs": []
    },
    {
      "cell_type": "markdown",
      "metadata": {
        "id": "gyT2JOJw7rpn",
        "colab_type": "text"
      },
      "source": [
        "This code will take a while. For google colab, it takes a little over 30 minutes without GPU assistance."
      ]
    },
    {
      "cell_type": "code",
      "metadata": {
        "id": "7gqziYooInL8",
        "colab_type": "code",
        "colab": {}
      },
      "source": [
        "received['viewed'] = check_feat(df,viewed)"
      ],
      "execution_count": 19,
      "outputs": []
    },
    {
      "cell_type": "code",
      "metadata": {
        "id": "GFCG_MhQJRPh",
        "colab_type": "code",
        "colab": {}
      },
      "source": [
        "received['completed'] = check_feat(df,completed)"
      ],
      "execution_count": 20,
      "outputs": []
    },
    {
      "cell_type": "code",
      "metadata": {
        "id": "76B9LLG0uDCx",
        "colab_type": "code",
        "colab": {
          "base_uri": "https://localhost:8080/",
          "height": 34
        },
        "outputId": "3f53a0b5-828f-41bb-e9fb-f2608572d382"
      },
      "source": [
        "print(time()-t)"
      ],
      "execution_count": 21,
      "outputs": [
        {
          "output_type": "stream",
          "text": [
            "1886.4447572231293\n"
          ],
          "name": "stdout"
        }
      ]
    },
    {
      "cell_type": "code",
      "metadata": {
        "id": "zeWX7t4kqtRQ",
        "colab_type": "code",
        "colab": {}
      },
      "source": [
        "# anyone who completes the offer without viewing it shouldnt be counted\n",
        "received.completed *= received.viewed"
      ],
      "execution_count": 22,
      "outputs": []
    },
    {
      "cell_type": "code",
      "metadata": {
        "id": "SpilD3cne-xt",
        "colab_type": "code",
        "colab": {}
      },
      "source": [
        "from sklearn.preprocessing import LabelEncoder"
      ],
      "execution_count": 23,
      "outputs": []
    },
    {
      "cell_type": "code",
      "metadata": {
        "id": "B2wmH5qvfBz9",
        "colab_type": "code",
        "colab": {}
      },
      "source": [
        "labelencoder = LabelEncoder()\n",
        "received.event_id = labelencoder.fit_transform(received.event_id)"
      ],
      "execution_count": 24,
      "outputs": []
    },
    {
      "cell_type": "code",
      "metadata": {
        "id": "lCvjRf9TsQ02",
        "colab_type": "code",
        "colab": {
          "base_uri": "https://localhost:8080/",
          "height": 197
        },
        "outputId": "43b094e4-aed2-4c81-e92e-ad1e1554d8a0"
      },
      "source": [
        "received.head()"
      ],
      "execution_count": 25,
      "outputs": [
        {
          "output_type": "execute_result",
          "data": {
            "text/html": [
              "<div>\n",
              "<style scoped>\n",
              "    .dataframe tbody tr th:only-of-type {\n",
              "        vertical-align: middle;\n",
              "    }\n",
              "\n",
              "    .dataframe tbody tr th {\n",
              "        vertical-align: top;\n",
              "    }\n",
              "\n",
              "    .dataframe thead th {\n",
              "        text-align: right;\n",
              "    }\n",
              "</style>\n",
              "<table border=\"1\" class=\"dataframe\">\n",
              "  <thead>\n",
              "    <tr style=\"text-align: right;\">\n",
              "      <th></th>\n",
              "      <th>person</th>\n",
              "      <th>event</th>\n",
              "      <th>value</th>\n",
              "      <th>time</th>\n",
              "      <th>event_id</th>\n",
              "      <th>gender</th>\n",
              "      <th>age</th>\n",
              "      <th>became_member_on</th>\n",
              "      <th>income</th>\n",
              "      <th>reward</th>\n",
              "      <th>channels</th>\n",
              "      <th>difficulty</th>\n",
              "      <th>duration</th>\n",
              "      <th>offer_type</th>\n",
              "      <th>viewed</th>\n",
              "      <th>completed</th>\n",
              "    </tr>\n",
              "  </thead>\n",
              "  <tbody>\n",
              "    <tr>\n",
              "      <th>0</th>\n",
              "      <td>78afa995795e4d85b5d9ceeca43f5fef</td>\n",
              "      <td>offer received</td>\n",
              "      <td>{'offer id': '9b98b8c7a33c4b65b9aebfe6a799e6d9'}</td>\n",
              "      <td>0</td>\n",
              "      <td>6</td>\n",
              "      <td>F</td>\n",
              "      <td>75</td>\n",
              "      <td>2017-05-09</td>\n",
              "      <td>100,000.00</td>\n",
              "      <td>5.00</td>\n",
              "      <td>[web, email, mobile]</td>\n",
              "      <td>5.00</td>\n",
              "      <td>7.00</td>\n",
              "      <td>bogo</td>\n",
              "      <td>1</td>\n",
              "      <td>1</td>\n",
              "    </tr>\n",
              "    <tr>\n",
              "      <th>1</th>\n",
              "      <td>a03223e636434f42ac4c3df47e8bac43</td>\n",
              "      <td>offer received</td>\n",
              "      <td>{'offer id': '0b1e1539f2cc45b7b9fa7c272da2e1d7'}</td>\n",
              "      <td>0</td>\n",
              "      <td>0</td>\n",
              "      <td>None</td>\n",
              "      <td>118</td>\n",
              "      <td>2017-08-04</td>\n",
              "      <td>nan</td>\n",
              "      <td>5.00</td>\n",
              "      <td>[web, email]</td>\n",
              "      <td>20.00</td>\n",
              "      <td>10.00</td>\n",
              "      <td>discount</td>\n",
              "      <td>1</td>\n",
              "      <td>0</td>\n",
              "    </tr>\n",
              "    <tr>\n",
              "      <th>2</th>\n",
              "      <td>e2127556f4f64592b11af22de27a7932</td>\n",
              "      <td>offer received</td>\n",
              "      <td>{'offer id': '2906b810c7d4411798c6938adc9daaa5'}</td>\n",
              "      <td>0</td>\n",
              "      <td>2</td>\n",
              "      <td>M</td>\n",
              "      <td>68</td>\n",
              "      <td>2018-04-26</td>\n",
              "      <td>70,000.00</td>\n",
              "      <td>2.00</td>\n",
              "      <td>[web, email, mobile]</td>\n",
              "      <td>10.00</td>\n",
              "      <td>7.00</td>\n",
              "      <td>discount</td>\n",
              "      <td>1</td>\n",
              "      <td>0</td>\n",
              "    </tr>\n",
              "    <tr>\n",
              "      <th>3</th>\n",
              "      <td>8ec6ce2a7e7949b1bf142def7d0e0586</td>\n",
              "      <td>offer received</td>\n",
              "      <td>{'offer id': 'fafdcd668e3743c1bb461111dcafc2a4'}</td>\n",
              "      <td>0</td>\n",
              "      <td>9</td>\n",
              "      <td>None</td>\n",
              "      <td>118</td>\n",
              "      <td>2017-09-25</td>\n",
              "      <td>nan</td>\n",
              "      <td>2.00</td>\n",
              "      <td>[web, email, mobile, social]</td>\n",
              "      <td>10.00</td>\n",
              "      <td>10.00</td>\n",
              "      <td>discount</td>\n",
              "      <td>1</td>\n",
              "      <td>0</td>\n",
              "    </tr>\n",
              "    <tr>\n",
              "      <th>4</th>\n",
              "      <td>68617ca6246f4fbc85e91a2a49552598</td>\n",
              "      <td>offer received</td>\n",
              "      <td>{'offer id': '4d5c57ea9a6940dd891ad53e9dbe8da0'}</td>\n",
              "      <td>0</td>\n",
              "      <td>4</td>\n",
              "      <td>None</td>\n",
              "      <td>118</td>\n",
              "      <td>2017-10-02</td>\n",
              "      <td>nan</td>\n",
              "      <td>10.00</td>\n",
              "      <td>[web, email, mobile, social]</td>\n",
              "      <td>10.00</td>\n",
              "      <td>5.00</td>\n",
              "      <td>bogo</td>\n",
              "      <td>1</td>\n",
              "      <td>0</td>\n",
              "    </tr>\n",
              "  </tbody>\n",
              "</table>\n",
              "</div>"
            ],
            "text/plain": [
              "                             person           event  ... viewed  completed\n",
              "0  78afa995795e4d85b5d9ceeca43f5fef  offer received  ...      1          1\n",
              "1  a03223e636434f42ac4c3df47e8bac43  offer received  ...      1          0\n",
              "2  e2127556f4f64592b11af22de27a7932  offer received  ...      1          0\n",
              "3  8ec6ce2a7e7949b1bf142def7d0e0586  offer received  ...      1          0\n",
              "4  68617ca6246f4fbc85e91a2a49552598  offer received  ...      1          0\n",
              "\n",
              "[5 rows x 16 columns]"
            ]
          },
          "metadata": {
            "tags": []
          },
          "execution_count": 25
        }
      ]
    },
    {
      "cell_type": "code",
      "metadata": {
        "id": "F--QJfK8tzWT",
        "colab_type": "code",
        "colab": {
          "base_uri": "https://localhost:8080/",
          "height": 34
        },
        "outputId": "559a1f50-130e-498d-c66b-42b8b3d57712"
      },
      "source": [
        "# find most recent start date\n",
        "date_max = received.became_member_on[received.became_member_on.argsort()==(received.shape[0]-1)].values[0]\n",
        "date_max"
      ],
      "execution_count": 26,
      "outputs": [
        {
          "output_type": "execute_result",
          "data": {
            "text/plain": [
              "numpy.datetime64('2016-05-01T00:00:00.000000000')"
            ]
          },
          "metadata": {
            "tags": []
          },
          "execution_count": 26
        }
      ]
    },
    {
      "cell_type": "code",
      "metadata": {
        "id": "00PHgBPlLE3f",
        "colab_type": "code",
        "colab": {
          "base_uri": "https://localhost:8080/",
          "height": 34
        },
        "outputId": "cdd15c79-1de8-425b-8d9c-8655a236f419"
      },
      "source": [
        "received.completed.mean()"
      ],
      "execution_count": 27,
      "outputs": [
        {
          "output_type": "execute_result",
          "data": {
            "text/plain": [
              "0.36573278970069617"
            ]
          },
          "metadata": {
            "tags": []
          },
          "execution_count": 27
        }
      ]
    },
    {
      "cell_type": "code",
      "metadata": {
        "id": "ak14xEjs-AUY",
        "colab_type": "code",
        "colab": {}
      },
      "source": [
        "from sklearn.impute import SimpleImputer\n",
        "from sklearn.preprocessing import OneHotEncoder\n",
        "from sklearn.preprocessing import MinMaxScaler\n",
        "from sklearn_pandas import DataFrameMapper\n",
        "from category_encoders import LeaveOneOutEncoder\n",
        "from scipy.stats import skew"
      ],
      "execution_count": 28,
      "outputs": []
    },
    {
      "cell_type": "code",
      "metadata": {
        "id": "bEEi4dqSH1C5",
        "colab_type": "code",
        "colab": {}
      },
      "source": [
        "from sklearn.model_selection import train_test_split"
      ],
      "execution_count": 29,
      "outputs": []
    },
    {
      "cell_type": "markdown",
      "metadata": {
        "id": "olYdmv5Ya_d1",
        "colab_type": "text"
      },
      "source": [
        "Now for some data visualization"
      ]
    },
    {
      "cell_type": "code",
      "metadata": {
        "id": "zHHdFopEbwY5",
        "colab_type": "code",
        "colab": {
          "base_uri": "https://localhost:8080/",
          "height": 197
        },
        "outputId": "2d552aef-c289-4148-d5d1-702d25ca9e9e"
      },
      "source": [
        "received.head()"
      ],
      "execution_count": 30,
      "outputs": [
        {
          "output_type": "execute_result",
          "data": {
            "text/html": [
              "<div>\n",
              "<style scoped>\n",
              "    .dataframe tbody tr th:only-of-type {\n",
              "        vertical-align: middle;\n",
              "    }\n",
              "\n",
              "    .dataframe tbody tr th {\n",
              "        vertical-align: top;\n",
              "    }\n",
              "\n",
              "    .dataframe thead th {\n",
              "        text-align: right;\n",
              "    }\n",
              "</style>\n",
              "<table border=\"1\" class=\"dataframe\">\n",
              "  <thead>\n",
              "    <tr style=\"text-align: right;\">\n",
              "      <th></th>\n",
              "      <th>person</th>\n",
              "      <th>event</th>\n",
              "      <th>value</th>\n",
              "      <th>time</th>\n",
              "      <th>event_id</th>\n",
              "      <th>gender</th>\n",
              "      <th>age</th>\n",
              "      <th>became_member_on</th>\n",
              "      <th>income</th>\n",
              "      <th>reward</th>\n",
              "      <th>channels</th>\n",
              "      <th>difficulty</th>\n",
              "      <th>duration</th>\n",
              "      <th>offer_type</th>\n",
              "      <th>viewed</th>\n",
              "      <th>completed</th>\n",
              "    </tr>\n",
              "  </thead>\n",
              "  <tbody>\n",
              "    <tr>\n",
              "      <th>0</th>\n",
              "      <td>78afa995795e4d85b5d9ceeca43f5fef</td>\n",
              "      <td>offer received</td>\n",
              "      <td>{'offer id': '9b98b8c7a33c4b65b9aebfe6a799e6d9'}</td>\n",
              "      <td>0</td>\n",
              "      <td>6</td>\n",
              "      <td>F</td>\n",
              "      <td>75</td>\n",
              "      <td>2017-05-09</td>\n",
              "      <td>100,000.00</td>\n",
              "      <td>5.00</td>\n",
              "      <td>[web, email, mobile]</td>\n",
              "      <td>5.00</td>\n",
              "      <td>7.00</td>\n",
              "      <td>bogo</td>\n",
              "      <td>1</td>\n",
              "      <td>1</td>\n",
              "    </tr>\n",
              "    <tr>\n",
              "      <th>1</th>\n",
              "      <td>a03223e636434f42ac4c3df47e8bac43</td>\n",
              "      <td>offer received</td>\n",
              "      <td>{'offer id': '0b1e1539f2cc45b7b9fa7c272da2e1d7'}</td>\n",
              "      <td>0</td>\n",
              "      <td>0</td>\n",
              "      <td>None</td>\n",
              "      <td>118</td>\n",
              "      <td>2017-08-04</td>\n",
              "      <td>nan</td>\n",
              "      <td>5.00</td>\n",
              "      <td>[web, email]</td>\n",
              "      <td>20.00</td>\n",
              "      <td>10.00</td>\n",
              "      <td>discount</td>\n",
              "      <td>1</td>\n",
              "      <td>0</td>\n",
              "    </tr>\n",
              "    <tr>\n",
              "      <th>2</th>\n",
              "      <td>e2127556f4f64592b11af22de27a7932</td>\n",
              "      <td>offer received</td>\n",
              "      <td>{'offer id': '2906b810c7d4411798c6938adc9daaa5'}</td>\n",
              "      <td>0</td>\n",
              "      <td>2</td>\n",
              "      <td>M</td>\n",
              "      <td>68</td>\n",
              "      <td>2018-04-26</td>\n",
              "      <td>70,000.00</td>\n",
              "      <td>2.00</td>\n",
              "      <td>[web, email, mobile]</td>\n",
              "      <td>10.00</td>\n",
              "      <td>7.00</td>\n",
              "      <td>discount</td>\n",
              "      <td>1</td>\n",
              "      <td>0</td>\n",
              "    </tr>\n",
              "    <tr>\n",
              "      <th>3</th>\n",
              "      <td>8ec6ce2a7e7949b1bf142def7d0e0586</td>\n",
              "      <td>offer received</td>\n",
              "      <td>{'offer id': 'fafdcd668e3743c1bb461111dcafc2a4'}</td>\n",
              "      <td>0</td>\n",
              "      <td>9</td>\n",
              "      <td>None</td>\n",
              "      <td>118</td>\n",
              "      <td>2017-09-25</td>\n",
              "      <td>nan</td>\n",
              "      <td>2.00</td>\n",
              "      <td>[web, email, mobile, social]</td>\n",
              "      <td>10.00</td>\n",
              "      <td>10.00</td>\n",
              "      <td>discount</td>\n",
              "      <td>1</td>\n",
              "      <td>0</td>\n",
              "    </tr>\n",
              "    <tr>\n",
              "      <th>4</th>\n",
              "      <td>68617ca6246f4fbc85e91a2a49552598</td>\n",
              "      <td>offer received</td>\n",
              "      <td>{'offer id': '4d5c57ea9a6940dd891ad53e9dbe8da0'}</td>\n",
              "      <td>0</td>\n",
              "      <td>4</td>\n",
              "      <td>None</td>\n",
              "      <td>118</td>\n",
              "      <td>2017-10-02</td>\n",
              "      <td>nan</td>\n",
              "      <td>10.00</td>\n",
              "      <td>[web, email, mobile, social]</td>\n",
              "      <td>10.00</td>\n",
              "      <td>5.00</td>\n",
              "      <td>bogo</td>\n",
              "      <td>1</td>\n",
              "      <td>0</td>\n",
              "    </tr>\n",
              "  </tbody>\n",
              "</table>\n",
              "</div>"
            ],
            "text/plain": [
              "                             person           event  ... viewed  completed\n",
              "0  78afa995795e4d85b5d9ceeca43f5fef  offer received  ...      1          1\n",
              "1  a03223e636434f42ac4c3df47e8bac43  offer received  ...      1          0\n",
              "2  e2127556f4f64592b11af22de27a7932  offer received  ...      1          0\n",
              "3  8ec6ce2a7e7949b1bf142def7d0e0586  offer received  ...      1          0\n",
              "4  68617ca6246f4fbc85e91a2a49552598  offer received  ...      1          0\n",
              "\n",
              "[5 rows x 16 columns]"
            ]
          },
          "metadata": {
            "tags": []
          },
          "execution_count": 30
        }
      ]
    },
    {
      "cell_type": "code",
      "metadata": {
        "id": "FGOzjOCnXFnh",
        "colab_type": "code",
        "colab": {
          "base_uri": "https://localhost:8080/",
          "height": 34
        },
        "outputId": "0fdec8ad-e3b7-43aa-ef89-049f256ac7d0"
      },
      "source": [
        "received.income.max()"
      ],
      "execution_count": 31,
      "outputs": [
        {
          "output_type": "execute_result",
          "data": {
            "text/plain": [
              "120000.0"
            ]
          },
          "metadata": {
            "tags": []
          },
          "execution_count": 31
        }
      ]
    },
    {
      "cell_type": "code",
      "metadata": {
        "id": "9qxz21N04LqX",
        "colab_type": "code",
        "colab": {
          "base_uri": "https://localhost:8080/",
          "height": 247
        },
        "outputId": "7434ed68-1a0e-45fc-e418-3c07ad478f52"
      },
      "source": [
        "completed_series = received.completed.astype('category').cat.rename_categories(['No','Yes'])\n",
        "completed_series"
      ],
      "execution_count": 32,
      "outputs": [
        {
          "output_type": "execute_result",
          "data": {
            "text/plain": [
              "0         Yes\n",
              "1          No\n",
              "2          No\n",
              "3          No\n",
              "4          No\n",
              "         ... \n",
              "257882    Yes\n",
              "257883     No\n",
              "257884     No\n",
              "257885    Yes\n",
              "257886     No\n",
              "Name: completed, Length: 76277, dtype: category\n",
              "Categories (2, object): ['No', 'Yes']"
            ]
          },
          "metadata": {
            "tags": []
          },
          "execution_count": 32
        }
      ]
    },
    {
      "cell_type": "code",
      "metadata": {
        "id": "NEh0UQYV-FM-",
        "colab_type": "code",
        "colab": {
          "base_uri": "https://localhost:8080/",
          "height": 310
        },
        "outputId": "0296ca98-ba8b-47ce-bf48-917fe8c1a855"
      },
      "source": [
        "plt.title('Income distribution in dataset\\n'\n",
        "'Income skewness: {:.2f}'.format(received.income.skew()))\n",
        "fig = sns.countplot(pd.cut(received.income,bins=[30000,50000,70000,90000,120000],\n",
        "              labels=['average','middle-high','high','rich']),\n",
        "              hue=completed_series,palette=['r','#00ff00'])"
      ],
      "execution_count": 33,
      "outputs": [
        {
          "output_type": "display_data",
          "data": {
            "image/png": "[encoded data removed]",
            "text/plain": [
              "<Figure size 432x288 with 1 Axes>"
            ]
          },
          "metadata": {
            "tags": []
          }
        }
      ]
    },
    {
      "cell_type": "markdown",
      "metadata": {
        "id": "Btt52qnwaEXt",
        "colab_type": "text"
      },
      "source": [
        "It looks like the higher a person's income, the more likely they are to use a coupon after viewing it"
      ]
    },
    {
      "cell_type": "code",
      "metadata": {
        "id": "wPNeEe9hUrUN",
        "colab_type": "code",
        "colab": {
          "base_uri": "https://localhost:8080/",
          "height": 176
        },
        "outputId": "b9bb0b32-4a53-4c8b-fa4f-5b3d94ae4129"
      },
      "source": [
        "received['income'].describe()"
      ],
      "execution_count": 34,
      "outputs": [
        {
          "output_type": "execute_result",
          "data": {
            "text/plain": [
              "count    66,501.00\n",
              "mean     65,371.62\n",
              "std      21,623.29\n",
              "min      30,000.00\n",
              "25%      49,000.00\n",
              "50%      64,000.00\n",
              "75%      80,000.00\n",
              "max     120,000.00\n",
              "Name: income, dtype: float64"
            ]
          },
          "metadata": {
            "tags": []
          },
          "execution_count": 34
        }
      ]
    },
    {
      "cell_type": "code",
      "metadata": {
        "id": "1LH-rYajgezS",
        "colab_type": "code",
        "colab": {
          "base_uri": "https://localhost:8080/",
          "height": 294
        },
        "outputId": "4dc1987d-7961-48ae-919a-9383ef1c005c"
      },
      "source": [
        "plt.title('Gender frequency in dataset')\n",
        "fig = sns.countplot(x=received.gender,hue=completed_series,palette=['r','#00ff00']);"
      ],
      "execution_count": 35,
      "outputs": [
        {
          "output_type": "display_data",
          "data": {
            "image/png": "[encoded data removed]",
            "text/plain": [
              "<Figure size 432x288 with 1 Axes>"
            ]
          },
          "metadata": {
            "tags": []
          }
        }
      ]
    },
    {
      "cell_type": "code",
      "metadata": {
        "id": "6JW_fRHQg0XZ",
        "colab_type": "code",
        "colab": {
          "base_uri": "https://localhost:8080/",
          "height": 294
        },
        "outputId": "b902a070-bd16-41ae-a6d9-70d66d8d418a"
      },
      "source": [
        "plt.title('Received Coupons by Age')\n",
        "fig = sns.countplot(x=pd.cut(received.age,bins=[17,22,30,40,60,118],\n",
        "        labels=['college age','young adult','adult','middle age','elderly']),\n",
        "        hue=completed_series, palette=['r','#00ff00'])"
      ],
      "execution_count": 36,
      "outputs": [
        {
          "output_type": "display_data",
          "data": {
            "image/png": "[encoded data removed]",
            "text/plain": [
              "<Figure size 432x288 with 1 Axes>"
            ]
          },
          "metadata": {
            "tags": []
          }
        }
      ]
    },
    {
      "cell_type": "code",
      "metadata": {
        "id": "7vKql0erlRre",
        "colab_type": "code",
        "colab": {
          "base_uri": "https://localhost:8080/",
          "height": 281
        },
        "outputId": "f92704d6-f31b-4691-bddf-90a8459558f2"
      },
      "source": [
        "# now check the ages of people who complete these coupons\n",
        "plt.title('Completed Coupons by Age')\n",
        "received[completed_series=='Yes'].age.hist(color='b');"
      ],
      "execution_count": 37,
      "outputs": [
        {
          "output_type": "display_data",
          "data": {
            "image/png": "[encoded data removed]",
            "text/plain": [
              "<Figure size 432x288 with 1 Axes>"
            ]
          },
          "metadata": {
            "tags": []
          }
        }
      ]
    },
    {
      "cell_type": "code",
      "metadata": {
        "id": "KPwv_e12qUL6",
        "colab_type": "code",
        "colab": {
          "base_uri": "https://localhost:8080/",
          "height": 281
        },
        "outputId": "2399ad03-a526-4c65-9483-b6724993f01c"
      },
      "source": [
        "kde_df = pd.DataFrame({\n",
        "    'Only_Viewed':received[received.completed==0].age,\n",
        "    'Completed':received[received.completed==1].age\n",
        "}).plot.kde(title='KDE for age',color=['#ee1111','g']);"
      ],
      "execution_count": 38,
      "outputs": [
        {
          "output_type": "display_data",
          "data": {
            "image/png": "[encoded data removed]",
            "text/plain": [
              "<Figure size 432x288 with 1 Axes>"
            ]
          },
          "metadata": {
            "tags": []
          }
        }
      ]
    },
    {
      "cell_type": "markdown",
      "metadata": {
        "id": "mI-riGJhg5aN",
        "colab_type": "text"
      },
      "source": [
        "Surprisingly, the age of a customer doesnt seem to have much impact on whether they redeem their coupon.\n",
        "But, we have a large number of people at the maximum age. Let's look closer."
      ]
    },
    {
      "cell_type": "code",
      "metadata": {
        "id": "ZhxqYcvaugnj",
        "colab_type": "code",
        "colab": {
          "base_uri": "https://localhost:8080/",
          "height": 441
        },
        "outputId": "ffcf71fa-7ff0-4e30-db1a-e5af609f9629"
      },
      "source": [
        "plt.figure(figsize=(8,6))\n",
        "\n",
        "fig = sns.countplot(x=completed_series,\n",
        "                    hue=received['offer_type'],\n",
        "                    palette=['red','green','blue'],\n",
        "                    ).set_title('Offers completed')\n",
        "plt.tight_layout()"
      ],
      "execution_count": 39,
      "outputs": [
        {
          "output_type": "display_data",
          "data": {
            "image/png": "[encoded data removed]",
            "text/plain": [
              "<Figure size 576x432 with 1 Axes>"
            ]
          },
          "metadata": {
            "tags": []
          }
        }
      ]
    },
    {
      "cell_type": "code",
      "metadata": {
        "id": "kxXdPgIZu29I",
        "colab_type": "code",
        "colab": {
          "base_uri": "https://localhost:8080/",
          "height": 52
        },
        "outputId": "4a5d0118-a115-4918-f6ec-ee7ea274dd91"
      },
      "source": [
        "received[received.offer_type=='informational'].completed.value_counts()"
      ],
      "execution_count": 40,
      "outputs": [
        {
          "output_type": "execute_result",
          "data": {
            "text/plain": [
              "0    15235\n",
              "Name: completed, dtype: int64"
            ]
          },
          "metadata": {
            "tags": []
          },
          "execution_count": 40
        }
      ]
    },
    {
      "cell_type": "markdown",
      "metadata": {
        "id": "dcknSRwLvZvb",
        "colab_type": "text"
      },
      "source": [
        "All informational offers are not completed. We should drop this when cleaning for prediction"
      ]
    },
    {
      "cell_type": "code",
      "metadata": {
        "id": "0cdMYavMfyX0",
        "colab_type": "code",
        "colab": {
          "base_uri": "https://localhost:8080/",
          "height": 197
        },
        "outputId": "20ef2f4f-21f3-4e35-96c9-b944e15b9efc"
      },
      "source": [
        "received[received['age']==118].head()"
      ],
      "execution_count": 41,
      "outputs": [
        {
          "output_type": "execute_result",
          "data": {
            "text/html": [
              "<div>\n",
              "<style scoped>\n",
              "    .dataframe tbody tr th:only-of-type {\n",
              "        vertical-align: middle;\n",
              "    }\n",
              "\n",
              "    .dataframe tbody tr th {\n",
              "        vertical-align: top;\n",
              "    }\n",
              "\n",
              "    .dataframe thead th {\n",
              "        text-align: right;\n",
              "    }\n",
              "</style>\n",
              "<table border=\"1\" class=\"dataframe\">\n",
              "  <thead>\n",
              "    <tr style=\"text-align: right;\">\n",
              "      <th></th>\n",
              "      <th>person</th>\n",
              "      <th>event</th>\n",
              "      <th>value</th>\n",
              "      <th>time</th>\n",
              "      <th>event_id</th>\n",
              "      <th>gender</th>\n",
              "      <th>age</th>\n",
              "      <th>became_member_on</th>\n",
              "      <th>income</th>\n",
              "      <th>reward</th>\n",
              "      <th>channels</th>\n",
              "      <th>difficulty</th>\n",
              "      <th>duration</th>\n",
              "      <th>offer_type</th>\n",
              "      <th>viewed</th>\n",
              "      <th>completed</th>\n",
              "    </tr>\n",
              "  </thead>\n",
              "  <tbody>\n",
              "    <tr>\n",
              "      <th>1</th>\n",
              "      <td>a03223e636434f42ac4c3df47e8bac43</td>\n",
              "      <td>offer received</td>\n",
              "      <td>{'offer id': '0b1e1539f2cc45b7b9fa7c272da2e1d7'}</td>\n",
              "      <td>0</td>\n",
              "      <td>0</td>\n",
              "      <td>None</td>\n",
              "      <td>118</td>\n",
              "      <td>2017-08-04</td>\n",
              "      <td>nan</td>\n",
              "      <td>5.00</td>\n",
              "      <td>[web, email]</td>\n",
              "      <td>20.00</td>\n",
              "      <td>10.00</td>\n",
              "      <td>discount</td>\n",
              "      <td>1</td>\n",
              "      <td>0</td>\n",
              "    </tr>\n",
              "    <tr>\n",
              "      <th>3</th>\n",
              "      <td>8ec6ce2a7e7949b1bf142def7d0e0586</td>\n",
              "      <td>offer received</td>\n",
              "      <td>{'offer id': 'fafdcd668e3743c1bb461111dcafc2a4'}</td>\n",
              "      <td>0</td>\n",
              "      <td>9</td>\n",
              "      <td>None</td>\n",
              "      <td>118</td>\n",
              "      <td>2017-09-25</td>\n",
              "      <td>nan</td>\n",
              "      <td>2.00</td>\n",
              "      <td>[web, email, mobile, social]</td>\n",
              "      <td>10.00</td>\n",
              "      <td>10.00</td>\n",
              "      <td>discount</td>\n",
              "      <td>1</td>\n",
              "      <td>0</td>\n",
              "    </tr>\n",
              "    <tr>\n",
              "      <th>4</th>\n",
              "      <td>68617ca6246f4fbc85e91a2a49552598</td>\n",
              "      <td>offer received</td>\n",
              "      <td>{'offer id': '4d5c57ea9a6940dd891ad53e9dbe8da0'}</td>\n",
              "      <td>0</td>\n",
              "      <td>4</td>\n",
              "      <td>None</td>\n",
              "      <td>118</td>\n",
              "      <td>2017-10-02</td>\n",
              "      <td>nan</td>\n",
              "      <td>10.00</td>\n",
              "      <td>[web, email, mobile, social]</td>\n",
              "      <td>10.00</td>\n",
              "      <td>5.00</td>\n",
              "      <td>bogo</td>\n",
              "      <td>1</td>\n",
              "      <td>0</td>\n",
              "    </tr>\n",
              "    <tr>\n",
              "      <th>6</th>\n",
              "      <td>c4863c7985cf408faee930f111475da3</td>\n",
              "      <td>offer received</td>\n",
              "      <td>{'offer id': '2298d6c36e964ae4a3e7e9706d1fb8c2'}</td>\n",
              "      <td>0</td>\n",
              "      <td>1</td>\n",
              "      <td>None</td>\n",
              "      <td>118</td>\n",
              "      <td>2017-08-24</td>\n",
              "      <td>nan</td>\n",
              "      <td>3.00</td>\n",
              "      <td>[web, email, mobile, social]</td>\n",
              "      <td>7.00</td>\n",
              "      <td>7.00</td>\n",
              "      <td>discount</td>\n",
              "      <td>1</td>\n",
              "      <td>0</td>\n",
              "    </tr>\n",
              "    <tr>\n",
              "      <th>10</th>\n",
              "      <td>744d603ef08c4f33af5a61c8c7628d1c</td>\n",
              "      <td>offer received</td>\n",
              "      <td>{'offer id': '0b1e1539f2cc45b7b9fa7c272da2e1d7'}</td>\n",
              "      <td>0</td>\n",
              "      <td>0</td>\n",
              "      <td>None</td>\n",
              "      <td>118</td>\n",
              "      <td>2017-08-01</td>\n",
              "      <td>nan</td>\n",
              "      <td>5.00</td>\n",
              "      <td>[web, email]</td>\n",
              "      <td>20.00</td>\n",
              "      <td>10.00</td>\n",
              "      <td>discount</td>\n",
              "      <td>1</td>\n",
              "      <td>0</td>\n",
              "    </tr>\n",
              "  </tbody>\n",
              "</table>\n",
              "</div>"
            ],
            "text/plain": [
              "                              person           event  ... viewed  completed\n",
              "1   a03223e636434f42ac4c3df47e8bac43  offer received  ...      1          0\n",
              "3   8ec6ce2a7e7949b1bf142def7d0e0586  offer received  ...      1          0\n",
              "4   68617ca6246f4fbc85e91a2a49552598  offer received  ...      1          0\n",
              "6   c4863c7985cf408faee930f111475da3  offer received  ...      1          0\n",
              "10  744d603ef08c4f33af5a61c8c7628d1c  offer received  ...      1          0\n",
              "\n",
              "[5 rows x 16 columns]"
            ]
          },
          "metadata": {
            "tags": []
          },
          "execution_count": 41
        }
      ]
    },
    {
      "cell_type": "markdown",
      "metadata": {
        "id": "KYnkZho8f9TP",
        "colab_type": "text"
      },
      "source": [
        "age 118 seems to have errors with its data collection. All income is NaN and all gender is None. Drop these rows."
      ]
    },
    {
      "cell_type": "code",
      "metadata": {
        "id": "kNs4AdhLZVZt",
        "colab_type": "code",
        "colab": {
          "base_uri": "https://localhost:8080/",
          "height": 176
        },
        "outputId": "bb30c639-bdd7-40e1-ddff-173d545bff55"
      },
      "source": [
        "received[received['age']!=118]['age'].describe()"
      ],
      "execution_count": 42,
      "outputs": [
        {
          "output_type": "execute_result",
          "data": {
            "text/plain": [
              "count   66,501.00\n",
              "mean        54.37\n",
              "std         17.40\n",
              "min         18.00\n",
              "25%         42.00\n",
              "50%         55.00\n",
              "75%         66.00\n",
              "max        101.00\n",
              "Name: age, dtype: float64"
            ]
          },
          "metadata": {
            "tags": []
          },
          "execution_count": 42
        }
      ]
    },
    {
      "cell_type": "code",
      "metadata": {
        "id": "Vt0cBbBFk805",
        "colab_type": "code",
        "colab": {
          "base_uri": "https://localhost:8080/",
          "height": 34
        },
        "outputId": "77c8c027-6c5e-4429-c972-0f47244b0f12"
      },
      "source": [
        "received.offer_type.unique()"
      ],
      "execution_count": 43,
      "outputs": [
        {
          "output_type": "execute_result",
          "data": {
            "text/plain": [
              "array(['bogo', 'discount', 'informational'], dtype=object)"
            ]
          },
          "metadata": {
            "tags": []
          },
          "execution_count": 43
        }
      ]
    },
    {
      "cell_type": "code",
      "metadata": {
        "id": "8xl8UexlLGam",
        "colab_type": "code",
        "colab": {}
      },
      "source": [
        "def clean_dataframe(df:pd.DataFrame) :\n",
        "    \"\"\"\n",
        "    clean a dataframe\n",
        "    :param df: dataframe to be cleaned\n",
        "    :return: cleaned dataframe\n",
        "    \"\"\"\n",
        "    age_imputer = SimpleImputer()\n",
        "    income_imputer = SimpleImputer()\n",
        "    age_min_max_scaler = MinMaxScaler()\n",
        "    year_min_max_scaler = MinMaxScaler()\n",
        "    month_min_max_scaler = MinMaxScaler()\n",
        "    day_min_max_scaler = MinMaxScaler()\n",
        "    time_min_max_scaler = MinMaxScaler()\n",
        "    channels_min_max_scaler = MinMaxScaler()\n",
        "    difficulty_min_max_scaler = MinMaxScaler()\n",
        "    duration_min_max_scaler = MinMaxScaler()\n",
        "    reward_min_max_scaler = MinMaxScaler()\n",
        "    income_min_max_scaler = MinMaxScaler()\n",
        "    leave_one_out = LeaveOneOutEncoder()\n",
        "    member_min_max_scaler = MinMaxScaler()\n",
        "\n",
        "    df = df.copy()\n",
        "\n",
        "    # drop all informational events because they cant be completed\n",
        "    df = df[df.offer_type != 'informational']\n",
        "    df['bogo'] = df.offer_type.apply(\n",
        "        lambda x: x == 'bogo'\n",
        "    ).astype(int)\n",
        "\n",
        "    df['female'] = df['gender'].apply(lambda x : x=='F').astype(int)\n",
        "    df['other'] = df['gender'].apply(lambda x : x=='O').astype(int)\n",
        "    # I dont know many 118 year old people with smartphones, \n",
        "    # but I know a lot of < 118 people who lie\n",
        "    df = df[df['age']!=118]\n",
        "    df = df[df['viewed']==1]\n",
        "\n",
        "    df['member_for_days'] = df['became_member_on'].apply(\n",
        "        lambda x: (date_max - x).days\n",
        "    )\n",
        "\n",
        "    # completion only counts if they know about it\n",
        "    df = df[df['viewed']==1]\n",
        "\n",
        "    df['num_channels'] = df['channels'].apply(lambda x: len(str(x).split(','))/4)\n",
        "\n",
        "    df['channel_social'] = df['channels'].apply(lambda x: 'social' in str(x)).astype(int)\n",
        "    df['channel_mobile'] = df['channels'].apply(lambda x: 'mobile' in str(x)).astype(int)\n",
        "    df['channel_web'] = df['channels'].apply(lambda x: 'web' in str(x)).astype(int)\n",
        "\n",
        "    mapper = DataFrameMapper([\n",
        "        (['bogo'],None),\n",
        "        (['female'],None),\n",
        "        (['other'],None),\n",
        "        (['reward'],[reward_min_max_scaler]),\n",
        "        (['event_id'],None),\n",
        "        (['num_channels'],None),\n",
        "        (['age'], [age_imputer, age_min_max_scaler], {'alias':'age_scaled'}),\n",
        "        (['income'],[income_imputer,income_min_max_scaler],{'alias':'income_scaled'}),\n",
        "        (['member_for_days'],[member_min_max_scaler]),\n",
        "        (['difficulty'],[difficulty_min_max_scaler],{'alias':'difficulty_scaled'}),\n",
        "        (['duration'],[duration_min_max_scaler],{'alias':'duration_scaled'})\n",
        "    ],df_out=True)\n",
        "\n",
        "    y = df.pop('completed')\n",
        "    mapper.fit(X=df,y=y)\n",
        "    X = mapper.transform(X=df)\n",
        "    df = pd.concat([X,y],axis=1).rename(columns={\n",
        "        'offer_type_x0_bogo':'bogo',\n",
        "        'offer_type_x0_discount':'discount',\n",
        "        'offer_type_x0_informational':'informational'})\n",
        "    return df,mapper # return mapper for easy mapping future test data"
      ],
      "execution_count": 44,
      "outputs": []
    },
    {
      "cell_type": "code",
      "metadata": {
        "id": "94sswL51Rvvv",
        "colab_type": "code",
        "colab": {}
      },
      "source": [
        "def add_feats(df) :\n",
        "    scale_cols = ['reward','age_scaled','income_scaled']\n",
        "    for col in scale_cols :\n",
        "        df[col+'_2'] = df[col]**2\n",
        "\n",
        "    return df"
      ],
      "execution_count": 45,
      "outputs": []
    },
    {
      "cell_type": "code",
      "metadata": {
        "id": "zXWRJxE29aOl",
        "colab_type": "code",
        "colab": {
          "base_uri": "https://localhost:8080/",
          "height": 197
        },
        "outputId": "59f24ded-bff5-495a-c2a7-b12bb6826a0a"
      },
      "source": [
        "df_clean,mapper = clean_dataframe(received)\n",
        "df_clean = add_feats(df_clean)\n",
        "df_clean.head()"
      ],
      "execution_count": 46,
      "outputs": [
        {
          "output_type": "execute_result",
          "data": {
            "text/html": [
              "<div>\n",
              "<style scoped>\n",
              "    .dataframe tbody tr th:only-of-type {\n",
              "        vertical-align: middle;\n",
              "    }\n",
              "\n",
              "    .dataframe tbody tr th {\n",
              "        vertical-align: top;\n",
              "    }\n",
              "\n",
              "    .dataframe thead th {\n",
              "        text-align: right;\n",
              "    }\n",
              "</style>\n",
              "<table border=\"1\" class=\"dataframe\">\n",
              "  <thead>\n",
              "    <tr style=\"text-align: right;\">\n",
              "      <th></th>\n",
              "      <th>bogo</th>\n",
              "      <th>female</th>\n",
              "      <th>other</th>\n",
              "      <th>reward</th>\n",
              "      <th>event_id</th>\n",
              "      <th>num_channels</th>\n",
              "      <th>age_scaled</th>\n",
              "      <th>income_scaled</th>\n",
              "      <th>member_for_days</th>\n",
              "      <th>difficulty_scaled</th>\n",
              "      <th>duration_scaled</th>\n",
              "      <th>completed</th>\n",
              "      <th>reward_2</th>\n",
              "      <th>age_scaled_2</th>\n",
              "      <th>income_scaled_2</th>\n",
              "    </tr>\n",
              "  </thead>\n",
              "  <tbody>\n",
              "    <tr>\n",
              "      <th>0</th>\n",
              "      <td>1</td>\n",
              "      <td>1</td>\n",
              "      <td>0</td>\n",
              "      <td>0.38</td>\n",
              "      <td>6</td>\n",
              "      <td>0.75</td>\n",
              "      <td>0.69</td>\n",
              "      <td>0.78</td>\n",
              "      <td>0.24</td>\n",
              "      <td>0.00</td>\n",
              "      <td>0.40</td>\n",
              "      <td>1</td>\n",
              "      <td>0.14</td>\n",
              "      <td>0.47</td>\n",
              "      <td>0.60</td>\n",
              "    </tr>\n",
              "    <tr>\n",
              "      <th>2</th>\n",
              "      <td>0</td>\n",
              "      <td>0</td>\n",
              "      <td>0</td>\n",
              "      <td>0.00</td>\n",
              "      <td>2</td>\n",
              "      <td>0.75</td>\n",
              "      <td>0.60</td>\n",
              "      <td>0.44</td>\n",
              "      <td>0.05</td>\n",
              "      <td>0.33</td>\n",
              "      <td>0.40</td>\n",
              "      <td>0</td>\n",
              "      <td>0.00</td>\n",
              "      <td>0.36</td>\n",
              "      <td>0.20</td>\n",
              "    </tr>\n",
              "    <tr>\n",
              "      <th>5</th>\n",
              "      <td>1</td>\n",
              "      <td>0</td>\n",
              "      <td>0</td>\n",
              "      <td>0.38</td>\n",
              "      <td>8</td>\n",
              "      <td>1.00</td>\n",
              "      <td>0.57</td>\n",
              "      <td>0.26</td>\n",
              "      <td>0.09</td>\n",
              "      <td>0.00</td>\n",
              "      <td>0.00</td>\n",
              "      <td>1</td>\n",
              "      <td>0.14</td>\n",
              "      <td>0.32</td>\n",
              "      <td>0.07</td>\n",
              "    </tr>\n",
              "    <tr>\n",
              "      <th>8</th>\n",
              "      <td>0</td>\n",
              "      <td>1</td>\n",
              "      <td>0</td>\n",
              "      <td>0.38</td>\n",
              "      <td>0</td>\n",
              "      <td>0.50</td>\n",
              "      <td>0.52</td>\n",
              "      <td>0.30</td>\n",
              "      <td>0.17</td>\n",
              "      <td>1.00</td>\n",
              "      <td>1.00</td>\n",
              "      <td>0</td>\n",
              "      <td>0.14</td>\n",
              "      <td>0.27</td>\n",
              "      <td>0.09</td>\n",
              "    </tr>\n",
              "    <tr>\n",
              "      <th>9</th>\n",
              "      <td>0</td>\n",
              "      <td>1</td>\n",
              "      <td>0</td>\n",
              "      <td>0.38</td>\n",
              "      <td>0</td>\n",
              "      <td>0.50</td>\n",
              "      <td>0.53</td>\n",
              "      <td>0.46</td>\n",
              "      <td>0.49</td>\n",
              "      <td>1.00</td>\n",
              "      <td>1.00</td>\n",
              "      <td>0</td>\n",
              "      <td>0.14</td>\n",
              "      <td>0.28</td>\n",
              "      <td>0.21</td>\n",
              "    </tr>\n",
              "  </tbody>\n",
              "</table>\n",
              "</div>"
            ],
            "text/plain": [
              "   bogo  female  other  ...  reward_2  age_scaled_2  income_scaled_2\n",
              "0     1       1      0  ...      0.14          0.47             0.60\n",
              "2     0       0      0  ...      0.00          0.36             0.20\n",
              "5     1       0      0  ...      0.14          0.32             0.07\n",
              "8     0       1      0  ...      0.14          0.27             0.09\n",
              "9     0       1      0  ...      0.14          0.28             0.21\n",
              "\n",
              "[5 rows x 15 columns]"
            ]
          },
          "metadata": {
            "tags": []
          },
          "execution_count": 46
        }
      ]
    },
    {
      "cell_type": "markdown",
      "metadata": {
        "id": "BcHSKINsdo6N",
        "colab_type": "text"
      },
      "source": [
        "More data visualization"
      ]
    },
    {
      "cell_type": "code",
      "metadata": {
        "id": "xaafWOMwALWU",
        "colab_type": "code",
        "colab": {}
      },
      "source": [
        "X_train,X_test,y_train,y_test = train_test_split(df_clean.drop(columns=['completed']),df_clean['completed'],test_size=.2)"
      ],
      "execution_count": 47,
      "outputs": []
    },
    {
      "cell_type": "code",
      "metadata": {
        "id": "eK2hPWmD7zJp",
        "colab_type": "code",
        "colab": {
          "base_uri": "https://localhost:8080/",
          "height": 197
        },
        "outputId": "dc3a8433-20fe-4fbd-91e3-c360fff0ac52"
      },
      "source": [
        "pd.concat([y_train,X_train],axis=1).head()"
      ],
      "execution_count": 48,
      "outputs": [
        {
          "output_type": "execute_result",
          "data": {
            "text/html": [
              "<div>\n",
              "<style scoped>\n",
              "    .dataframe tbody tr th:only-of-type {\n",
              "        vertical-align: middle;\n",
              "    }\n",
              "\n",
              "    .dataframe tbody tr th {\n",
              "        vertical-align: top;\n",
              "    }\n",
              "\n",
              "    .dataframe thead th {\n",
              "        text-align: right;\n",
              "    }\n",
              "</style>\n",
              "<table border=\"1\" class=\"dataframe\">\n",
              "  <thead>\n",
              "    <tr style=\"text-align: right;\">\n",
              "      <th></th>\n",
              "      <th>completed</th>\n",
              "      <th>bogo</th>\n",
              "      <th>female</th>\n",
              "      <th>other</th>\n",
              "      <th>reward</th>\n",
              "      <th>event_id</th>\n",
              "      <th>num_channels</th>\n",
              "      <th>age_scaled</th>\n",
              "      <th>income_scaled</th>\n",
              "      <th>member_for_days</th>\n",
              "      <th>difficulty_scaled</th>\n",
              "      <th>duration_scaled</th>\n",
              "      <th>reward_2</th>\n",
              "      <th>age_scaled_2</th>\n",
              "      <th>income_scaled_2</th>\n",
              "    </tr>\n",
              "  </thead>\n",
              "  <tbody>\n",
              "    <tr>\n",
              "      <th>58721</th>\n",
              "      <td>0</td>\n",
              "      <td>1</td>\n",
              "      <td>1</td>\n",
              "      <td>0</td>\n",
              "      <td>0.38</td>\n",
              "      <td>6</td>\n",
              "      <td>0.75</td>\n",
              "      <td>0.53</td>\n",
              "      <td>0.49</td>\n",
              "      <td>0.09</td>\n",
              "      <td>0.00</td>\n",
              "      <td>0.40</td>\n",
              "      <td>0.14</td>\n",
              "      <td>0.28</td>\n",
              "      <td>0.24</td>\n",
              "    </tr>\n",
              "    <tr>\n",
              "      <th>201981</th>\n",
              "      <td>0</td>\n",
              "      <td>1</td>\n",
              "      <td>0</td>\n",
              "      <td>0</td>\n",
              "      <td>0.38</td>\n",
              "      <td>8</td>\n",
              "      <td>1.00</td>\n",
              "      <td>0.69</td>\n",
              "      <td>0.50</td>\n",
              "      <td>0.02</td>\n",
              "      <td>0.00</td>\n",
              "      <td>0.00</td>\n",
              "      <td>0.14</td>\n",
              "      <td>0.47</td>\n",
              "      <td>0.25</td>\n",
              "    </tr>\n",
              "    <tr>\n",
              "      <th>9724</th>\n",
              "      <td>1</td>\n",
              "      <td>1</td>\n",
              "      <td>0</td>\n",
              "      <td>0</td>\n",
              "      <td>0.38</td>\n",
              "      <td>8</td>\n",
              "      <td>1.00</td>\n",
              "      <td>0.28</td>\n",
              "      <td>0.32</td>\n",
              "      <td>0.20</td>\n",
              "      <td>0.00</td>\n",
              "      <td>0.00</td>\n",
              "      <td>0.14</td>\n",
              "      <td>0.08</td>\n",
              "      <td>0.10</td>\n",
              "    </tr>\n",
              "    <tr>\n",
              "      <th>162050</th>\n",
              "      <td>1</td>\n",
              "      <td>1</td>\n",
              "      <td>1</td>\n",
              "      <td>0</td>\n",
              "      <td>1.00</td>\n",
              "      <td>4</td>\n",
              "      <td>1.00</td>\n",
              "      <td>0.66</td>\n",
              "      <td>0.73</td>\n",
              "      <td>0.05</td>\n",
              "      <td>0.33</td>\n",
              "      <td>0.00</td>\n",
              "      <td>1.00</td>\n",
              "      <td>0.44</td>\n",
              "      <td>0.54</td>\n",
              "    </tr>\n",
              "    <tr>\n",
              "      <th>245843</th>\n",
              "      <td>1</td>\n",
              "      <td>1</td>\n",
              "      <td>1</td>\n",
              "      <td>0</td>\n",
              "      <td>1.00</td>\n",
              "      <td>4</td>\n",
              "      <td>1.00</td>\n",
              "      <td>0.39</td>\n",
              "      <td>0.69</td>\n",
              "      <td>0.32</td>\n",
              "      <td>0.33</td>\n",
              "      <td>0.00</td>\n",
              "      <td>1.00</td>\n",
              "      <td>0.15</td>\n",
              "      <td>0.47</td>\n",
              "    </tr>\n",
              "  </tbody>\n",
              "</table>\n",
              "</div>"
            ],
            "text/plain": [
              "        completed  bogo  female  ...  reward_2  age_scaled_2  income_scaled_2\n",
              "58721           0     1       1  ...      0.14          0.28             0.24\n",
              "201981          0     1       0  ...      0.14          0.47             0.25\n",
              "9724            1     1       0  ...      0.14          0.08             0.10\n",
              "162050          1     1       1  ...      1.00          0.44             0.54\n",
              "245843          1     1       1  ...      1.00          0.15             0.47\n",
              "\n",
              "[5 rows x 15 columns]"
            ]
          },
          "metadata": {
            "tags": []
          },
          "execution_count": 48
        }
      ]
    },
    {
      "cell_type": "code",
      "metadata": {
        "id": "4A1huc9_X6HO",
        "colab_type": "code",
        "colab": {
          "base_uri": "https://localhost:8080/",
          "height": 123
        },
        "outputId": "f3b76cd8-3a50-4358-ac20-98b7701b18fb"
      },
      "source": [
        "y_train[:5]"
      ],
      "execution_count": 49,
      "outputs": [
        {
          "output_type": "execute_result",
          "data": {
            "text/plain": [
              "58721     0\n",
              "201981    0\n",
              "9724      1\n",
              "162050    1\n",
              "245843    1\n",
              "Name: completed, dtype: int64"
            ]
          },
          "metadata": {
            "tags": []
          },
          "execution_count": 49
        }
      ]
    },
    {
      "cell_type": "code",
      "metadata": {
        "id": "AOHTLObQ9ZLV",
        "colab_type": "code",
        "colab": {}
      },
      "source": [
        "# regression tiiiiime"
      ],
      "execution_count": 50,
      "outputs": []
    },
    {
      "cell_type": "code",
      "metadata": {
        "id": "dlAj7XLd778m",
        "colab_type": "code",
        "colab": {}
      },
      "source": [
        "from xgboost import XGBClassifier\n",
        "from sklearn.model_selection import GridSearchCV\n",
        "from sklearn.pipeline import Pipeline\n",
        "from sklearn.ensemble import StackingClassifier\n",
        "from sklearn.linear_model import LogisticRegression\n",
        "from time import time"
      ],
      "execution_count": 51,
      "outputs": []
    },
    {
      "cell_type": "code",
      "metadata": {
        "id": "9jnNhThlO46n",
        "colab_type": "code",
        "colab": {}
      },
      "source": [
        "from sklearn.metrics import make_scorer, accuracy_score, confusion_matrix, f1_score"
      ],
      "execution_count": 52,
      "outputs": []
    },
    {
      "cell_type": "code",
      "metadata": {
        "id": "HxN_tn7-N1J0",
        "colab_type": "code",
        "colab": {}
      },
      "source": [
        "def evaluate(model,params=None,X_train=X_train,X_test=X_test,y_train=y_train,y_test=y_test) :\n",
        "    t = time()\n",
        "    if params is None : clf = model\n",
        "    else : clf = GridSearchCV(model,params,scoring='accuracy')\n",
        "    clf.fit(X_train,y_train)\n",
        "\n",
        "    y_pred = clf.predict(X_train)\n",
        "    print('train accuracy: {:.3f}'.format(accuracy_score(y_train,y_pred)))\n",
        "    y_pred = clf.predict(X_test)\n",
        "    print('test accuracy: {:.3f}'.format(accuracy_score(y_test,y_pred)))\n",
        "    print('test f1 score: {:.3f}'.format(f1_score(y_test,y_pred)))\n",
        "    print(confusion_matrix(y_test,y_pred,normalize='all'))\n",
        "    print('fitted in {:.1f}s'.format(time()-t))\n",
        "    if params : print(clf.best_params_)\n",
        "    return clf"
      ],
      "execution_count": 53,
      "outputs": []
    },
    {
      "cell_type": "code",
      "metadata": {
        "id": "CVJwpye1R4zu",
        "colab_type": "code",
        "colab": {}
      },
      "source": [
        "from sklearn.tree import DecisionTreeClassifier\n",
        "from sklearn.naive_bayes import GaussianNB \n",
        "from sklearn.neighbors import KNeighborsClassifier\n",
        "from sklearn.linear_model import LogisticRegression\n",
        "from sklearn.ensemble import RandomForestClassifier\n",
        "from lightgbm import LGBMClassifier"
      ],
      "execution_count": 54,
      "outputs": []
    },
    {
      "cell_type": "code",
      "metadata": {
        "id": "2t2vIZqPvkeR",
        "colab_type": "code",
        "colab": {}
      },
      "source": [
        "# for some of our more promising models, make a param grid to search over\n",
        "\n",
        "forest_param_grid = {\n",
        "    'n_estimators':600,\n",
        "    'max_depth':12,\n",
        "    'random_state':seed,   \n",
        "}\n",
        "\n",
        "xgb_param_grid = {\n",
        "    'n_estimators':600, \n",
        "    'colsample_bytree':.7, #.7 best\n",
        "    'gamma':1, # 1 is best\n",
        "    'max_depth':12, # go up\n",
        "    'subsample':1, # between .8 and 1\n",
        "    'lambda':1\n",
        "}\n",
        "\n",
        "lgbm_param_grid = {\n",
        "    'n_estimators':600, \n",
        "    'colsample_bytree':.9,\n",
        "    'gamma':1, \n",
        "    'max_depth':12, \n",
        "    'subsample':1, \n",
        "    'lambda':1\n",
        "}"
      ],
      "execution_count": 55,
      "outputs": []
    },
    {
      "cell_type": "code",
      "metadata": {
        "id": "X91C9mINR5y5",
        "colab_type": "code",
        "colab": {}
      },
      "source": [
        "tree = DecisionTreeClassifier()\n",
        "bayes = GaussianNB()\n",
        "kneighbors = KNeighborsClassifier()\n",
        "logit = LogisticRegression(max_iter=10000)\n",
        "forest = RandomForestClassifier(**forest_param_grid)\n",
        "lgbm = LGBMClassifier(**lgbm_param_grid)\n",
        "xgb = XGBClassifier(**xgb_param_grid)\n",
        "\n",
        "# I originally put param grids in here to perform a gridsearch, but that would \n",
        "# be too time-intensive for you. I just picked a \n",
        "models = {\n",
        "    'tree':[tree,None],\n",
        "    'bayesian':[bayes,None],\n",
        "    'kneighbors':[kneighbors,None],\n",
        "    'logit':[logit,None],\n",
        "    'forest':[forest,None],\n",
        "    'lgbm':[lgbm,None],\n",
        "    'XGBClassifier':[xgb,None],\n",
        "}"
      ],
      "execution_count": 56,
      "outputs": []
    },
    {
      "cell_type": "code",
      "metadata": {
        "id": "UTNQu7LWTI_Z",
        "colab_type": "code",
        "colab": {
          "base_uri": "https://localhost:8080/",
          "height": 1000
        },
        "outputId": "8d9e68fd-4bf5-4ef5-d463-b5446c4c81af"
      },
      "source": [
        "#evaluate models\n",
        "fitted_models = {}\n",
        "for name,model in models.items() :\n",
        "    print(f'\\n{name} performance:')\n",
        "    fitted_models[name] = evaluate(model[0],model[1])"
      ],
      "execution_count": 57,
      "outputs": [
        {
          "output_type": "stream",
          "text": [
            "\n",
            "tree performance:\n",
            "train accuracy: 0.974\n",
            "test accuracy: 0.713\n",
            "test f1 score: 0.779\n",
            "[[0.20641579 0.13016656]\n",
            " [0.15694016 0.50647748]]\n",
            "fitted in 0.2s\n",
            "\n",
            "bayesian performance:\n",
            "train accuracy: 0.668\n",
            "test accuracy: 0.675\n",
            "test f1 score: 0.750\n",
            "[[0.18630475 0.15027761]\n",
            " [0.17483035 0.48858729]]\n",
            "fitted in 0.0s\n",
            "\n",
            "kneighbors performance:\n",
            "train accuracy: 0.802\n",
            "test accuracy: 0.720\n",
            "test f1 score: 0.795\n",
            "[[0.17606416 0.1605182 ]\n",
            " [0.11967921 0.54373843]]\n",
            "fitted in 3.8s\n",
            "\n",
            "logit performance:\n",
            "train accuracy: 0.715\n",
            "test accuracy: 0.726\n",
            "test f1 score: 0.812\n",
            "[[0.13497841 0.20160395]\n",
            " [0.07267119 0.59074645]]\n",
            "fitted in 1.2s\n",
            "\n",
            "forest performance:\n",
            "train accuracy: 0.836\n",
            "test accuracy: 0.756\n",
            "test f1 score: 0.825\n",
            "[[0.17939543 0.15718692]\n",
            " [0.08673658 0.57668106]]\n",
            "fitted in 20.1s\n",
            "\n",
            "lgbm performance:\n",
            "train accuracy: 0.845\n",
            "test accuracy: 0.768\n",
            "test f1 score: 0.832\n",
            "[[0.19580506 0.1407773 ]\n",
            " [0.0910549  0.57236274]]\n",
            "fitted in 2.5s\n",
            "\n",
            "XGBClassifier performance:\n",
            "train accuracy: 0.942\n",
            "test accuracy: 0.771\n",
            "test f1 score: 0.832\n",
            "[[0.20481184 0.13177051]\n",
            " [0.09734732 0.56607033]]\n",
            "fitted in 31.4s\n"
          ],
          "name": "stdout"
        }
      ]
    },
    {
      "cell_type": "markdown",
      "metadata": {
        "id": "yFO0KzIg67cB",
        "colab_type": "text"
      },
      "source": [
        "Our performance tells us that XGBClassifier does the best, but it overfits pretty severely. LGBM classifier is almost as good with the current data, and fits in 10% of the time. If we can solve the overfitting problem in the future, XGB Classifier will be far superior to all other models. But for some heavier computations today we will use LGBM for faster runtimes.\n",
        "\n",
        "Solutions to Overfitting:\n",
        "1. **Increase regularization**:\n",
        "    \n",
        "    Behind the scenes, we performed a comprehensive gridsearch over the regularization parameters gamma, colsample_bytree, max_depth, and lambda to improve performance. This is the best combination that we could find, and we still have high variance.\n",
        "2. **Drop/consolidate columns**:\n",
        "    \n",
        "    Likewise, we dropped several columns, but the only thing that improved performance was converting our previous one-hot encoded gender columns to a single categorical column, which we have done in this model.   \n",
        "3. **Increase training data**:\n",
        "\n",
        "    Barring the other two solutions, increased training data will improve our model's performance. This model has high potential, and the variance will likely drop significantly with an increased training pool. Let's make a convincing argument for this..."
      ]
    },
    {
      "cell_type": "code",
      "metadata": {
        "id": "zG6tGdj1_K1U",
        "colab_type": "code",
        "colab": {}
      },
      "source": [
        "xgb_best_params = {\n",
        "    'n_estimators':600, \n",
        "    'colsample_bytree':.7, #.7 best\n",
        "    'gamma':1, # 1 is best\n",
        "    'max_depth':12, # go up\n",
        "    'subsample':1, # between .8 and 1\n",
        "    'lambda':1\n",
        "}\n",
        "lgbm_best_params = {\n",
        "    'n_estimators':600, \n",
        "    'colsample_bytree':.9,\n",
        "    'gamma':1, \n",
        "    'max_depth':12, \n",
        "    'subsample':1, \n",
        "    'lambda':1\n",
        "}\n",
        "\n",
        "best_estimator = XGBClassifier(**xgb_best_params)\n",
        "faster_estimator = LGBMClassifier(**lgbm_best_params)"
      ],
      "execution_count": 58,
      "outputs": []
    },
    {
      "cell_type": "code",
      "metadata": {
        "id": "mONzpduLM2uW",
        "colab_type": "code",
        "colab": {}
      },
      "source": [
        "from sklearn.model_selection import learning_curve\n",
        "from sklearn.model_selection import ShuffleSplit"
      ],
      "execution_count": 59,
      "outputs": []
    },
    {
      "cell_type": "code",
      "metadata": {
        "id": "B00tVXMcQGM6",
        "colab_type": "code",
        "colab": {}
      },
      "source": [
        "### this function comes from the sklearn documentation ###\n",
        "### https://scikit-learn.org/stable/auto_examples/model_selection/plot_learning_curve.html#sphx-glr-auto-examples-model-selection-plot-learning-curve-py ###\n",
        "\n",
        "def plot_learning_curve(estimator, title, X, y, axes=None, ylim=None, cv=None,\n",
        "                        n_jobs=None, train_sizes=np.linspace(.1, 1.0, 5)):\n",
        "    \"\"\"\n",
        "    Generate 3 plots: the test and training learning curve, the training\n",
        "    samples vs fit times curve, the fit times vs score curve.\n",
        "\n",
        "    Parameters\n",
        "    ----------\n",
        "    estimator : object type that implements the \"fit\" and \"predict\" methods\n",
        "        An object of that type which is cloned for each validation.\n",
        "\n",
        "    title : string\n",
        "        Title for the chart.\n",
        "\n",
        "    X : array-like, shape (n_samples, n_features)\n",
        "        Training vector, where n_samples is the number of samples and\n",
        "        n_features is the number of features.\n",
        "\n",
        "    y : array-like, shape (n_samples) or (n_samples, n_features), optional\n",
        "        Target relative to X for classification or regression;\n",
        "        None for unsupervised learning.\n",
        "\n",
        "    axes : array of 3 axes, optional (default=None)\n",
        "        Axes to use for plotting the curves.\n",
        "\n",
        "    ylim : tuple, shape (ymin, ymax), optional\n",
        "        Defines minimum and maximum yvalues plotted.\n",
        "\n",
        "    cv : int, cross-validation generator or an iterable, optional\n",
        "        Determines the cross-validation splitting strategy.\n",
        "        Possible inputs for cv are:\n",
        "\n",
        "          - None, to use the default 5-fold cross-validation,\n",
        "          - integer, to specify the number of folds.\n",
        "          - :term:`CV splitter`,\n",
        "          - An iterable yielding (train, test) splits as arrays of indices.\n",
        "\n",
        "        For integer/None inputs, if ``y`` is binary or multiclass,\n",
        "        :class:`StratifiedKFold` used. If the estimator is not a classifier\n",
        "        or if ``y`` is neither binary nor multiclass, :class:`KFold` is used.\n",
        "\n",
        "        Refer :ref:`User Guide <cross_validation>` for the various\n",
        "        cross-validators that can be used here.\n",
        "\n",
        "    n_jobs : int or None, optional (default=None)\n",
        "        Number of jobs to run in parallel.\n",
        "        ``None`` means 1 unless in a :obj:`joblib.parallel_backend` context.\n",
        "        ``-1`` means using all processors. See :term:`Glossary <n_jobs>`\n",
        "        for more details.\n",
        "\n",
        "    train_sizes : array-like, shape (n_ticks,), dtype float or int\n",
        "        Relative or absolute numbers of training examples that will be used to\n",
        "        generate the learning curve. If the dtype is float, it is regarded as a\n",
        "        fraction of the maximum size of the training set (that is determined\n",
        "        by the selected validation method), i.e. it has to be within (0, 1].\n",
        "        Otherwise it is interpreted as absolute sizes of the training sets.\n",
        "        Note that for classification the number of samples usually have to\n",
        "        be big enough to contain at least one sample from each class.\n",
        "        (default: np.linspace(0.1, 1.0, 5))\n",
        "    \"\"\"\n",
        "    if axes is None:\n",
        "        _, axes = plt.subplots(1, 3, figsize=(20, 5))\n",
        "\n",
        "    axes[0].set_title(title)\n",
        "    if ylim is not None:\n",
        "        axes[0].set_ylim(*ylim)\n",
        "    axes[0].set_xlabel(\"Training examples\")\n",
        "    axes[0].set_ylabel(\"Score\")\n",
        "\n",
        "    train_sizes, train_scores, test_scores, fit_times, _ = \\\n",
        "        learning_curve(estimator, X, y, cv=cv, n_jobs=n_jobs,\n",
        "                       train_sizes=train_sizes,\n",
        "                       return_times=True)\n",
        "    train_scores_mean = np.mean(train_scores, axis=1)\n",
        "    train_scores_std = np.std(train_scores, axis=1)\n",
        "    test_scores_mean = np.mean(test_scores, axis=1)\n",
        "    test_scores_std = np.std(test_scores, axis=1)\n",
        "    fit_times_mean = np.mean(fit_times, axis=1)\n",
        "    fit_times_std = np.std(fit_times, axis=1)\n",
        "\n",
        "    # Plot learning curve\n",
        "    axes[0].grid()\n",
        "    axes[0].fill_between(train_sizes, train_scores_mean - train_scores_std,\n",
        "                         train_scores_mean + train_scores_std, alpha=0.1,\n",
        "                         color=\"r\")\n",
        "    axes[0].fill_between(train_sizes, test_scores_mean - test_scores_std,\n",
        "                         test_scores_mean + test_scores_std, alpha=0.1,\n",
        "                         color=\"g\")\n",
        "    axes[0].plot(train_sizes, train_scores_mean, 'o-', color=\"r\",\n",
        "                 label=\"Training score\")\n",
        "    axes[0].plot(train_sizes, test_scores_mean, 'o-', color=\"g\",\n",
        "                 label=\"Cross-validation score\")\n",
        "    axes[0].legend(loc=\"best\")\n",
        "\n",
        "    # Plot n_samples vs fit_times\n",
        "    axes[1].grid()\n",
        "    axes[1].plot(train_sizes, fit_times_mean, 'o-')\n",
        "    axes[1].fill_between(train_sizes, fit_times_mean - fit_times_std,\n",
        "                         fit_times_mean + fit_times_std, alpha=0.1)\n",
        "    axes[1].set_xlabel(\"Training examples\")\n",
        "    axes[1].set_ylabel(\"fit_times\")\n",
        "    axes[1].set_title(\"Scalability of the model\")\n",
        "\n",
        "    # Plot fit_time vs score\n",
        "    axes[2].grid()\n",
        "    axes[2].plot(fit_times_mean, test_scores_mean, 'o-')\n",
        "    axes[2].fill_between(fit_times_mean, test_scores_mean - test_scores_std,\n",
        "                         test_scores_mean + test_scores_std, alpha=0.1)\n",
        "    axes[2].set_xlabel(\"fit_times\")\n",
        "    axes[2].set_ylabel(\"Score\")\n",
        "    axes[2].set_title(\"Performance of the model\")\n",
        "\n",
        "    return plt"
      ],
      "execution_count": 60,
      "outputs": []
    },
    {
      "cell_type": "code",
      "metadata": {
        "id": "NKLCEMD2O7YK",
        "colab_type": "code",
        "colab": {
          "base_uri": "https://localhost:8080/",
          "height": 894
        },
        "outputId": "ee58fa0e-fe0a-458d-bde7-79b9f9b595a0"
      },
      "source": [
        "fig,axes = plt.subplots(3,1,figsize=(10,15))\n",
        "X,y = df_clean.loc[:,df_clean.columns!='completed'],df_clean.completed\n",
        "\n",
        "cv = ShuffleSplit(n_splits=10,test_size=.2)\n",
        "\n",
        "title = 'LGBM Classifier Learning curves'\n",
        "plot_learning_curve(estimator=faster_estimator,title=title,X=X,y=y,axes=axes,cv=cv,n_jobs=-1);"
      ],
      "execution_count": 61,
      "outputs": [
        {
          "output_type": "display_data",
          "data": {
            "image/png": "[encoded data removed]",
            "text/plain": [
              "<Figure size 720x1080 with 3 Axes>"
            ]
          },
          "metadata": {
            "tags": []
          }
        }
      ]
    },
    {
      "cell_type": "markdown",
      "metadata": {
        "id": "dwfm8NY-nCwV",
        "colab_type": "text"
      },
      "source": [
        "performance is steadily improving with increasing data (which happens with the XGBClassifier as well) so applying this model to a large-scale data infrastructure would give us even better results than the ones we have now"
      ]
    },
    {
      "cell_type": "code",
      "metadata": {
        "id": "Cxf12ZcnP_PK",
        "colab_type": "code",
        "colab": {}
      },
      "source": [
        "import seaborn as sns"
      ],
      "execution_count": 62,
      "outputs": []
    },
    {
      "cell_type": "markdown",
      "metadata": {
        "id": "wdtx5dd8PVR8",
        "colab_type": "text"
      },
      "source": [
        "Now let's look at how the features correlate with the target variable"
      ]
    },
    {
      "cell_type": "code",
      "metadata": {
        "id": "jZdMd9sHPOrk",
        "colab_type": "code",
        "colab": {
          "base_uri": "https://localhost:8080/",
          "height": 498
        },
        "outputId": "7e16fdd4-4042-49e1-e00d-8279d935da60"
      },
      "source": [
        "feat_importance = pd.Series(\n",
        "    data=fitted_models['XGBClassifier'].feature_importances_, index=df_clean.drop(columns=['completed']).columns).sort_values(ascending=False)\n",
        "plt.figure(figsize=(6,8))\n",
        "plt.title(\"Feature importance according to Random Forest\")\n",
        "ax = sns.barplot(\n",
        "    y=feat_importance.index, x=feat_importance.values, palette=\"Blues_d\", orient='h')"
      ],
      "execution_count": 63,
      "outputs": [
        {
          "output_type": "display_data",
          "data": {
            "image/png": "[encoded data removed]",
            "text/plain": [
              "<Figure size 432x576 with 1 Axes>"
            ]
          },
          "metadata": {
            "tags": []
          }
        }
      ]
    },
    {
      "cell_type": "code",
      "metadata": {
        "id": "iUaXfOrGOelg",
        "colab_type": "code",
        "colab": {
          "base_uri": "https://localhost:8080/",
          "height": 715
        },
        "outputId": "b9b13052-7e29-41d6-d0c6-e0ef62c7bcfb"
      },
      "source": [
        "important_feats = df_clean.corr(method='spearman')['completed']\\\n",
        "  .drop('completed').sort_values(ascending=False)\n",
        "\n",
        "fig = plt.figure(figsize=(10,12))\n",
        "plt.title('Spearman correlation with coupon completion')\n",
        "fig = sns.barplot(y=important_feats.index,x=important_feats.values,\n",
        "                  palette='twilight_shifted',orient='h')"
      ],
      "execution_count": 64,
      "outputs": [
        {
          "output_type": "display_data",
          "data": {
            "image/png": "[encoded data removed]",
            "text/plain": [
              "<Figure size 720x864 with 1 Axes>"
            ]
          },
          "metadata": {
            "tags": []
          }
        }
      ]
    },
    {
      "cell_type": "code",
      "metadata": {
        "id": "vS7m8vKUPE9a",
        "colab_type": "code",
        "colab": {
          "base_uri": "https://localhost:8080/",
          "height": 715
        },
        "outputId": "432ad595-ebec-4e60-ecfe-e19d69ca2256"
      },
      "source": [
        "important_feats = df_clean.corr(method='pearson')['completed']\\\n",
        "  .drop('completed').sort_values(ascending=False)\n",
        "\n",
        "fig = plt.figure(figsize=(10,12))\n",
        "plt.title('Pearson correlation with coupon completion')\n",
        "fig = sns.barplot(y=important_feats.index,x=important_feats.values,\n",
        "                  palette='twilight_shifted',orient='h')"
      ],
      "execution_count": 65,
      "outputs": [
        {
          "output_type": "display_data",
          "data": {
            "image/png": "[encoded data removed]",
            "text/plain": [
              "<Figure size 720x864 with 1 Axes>"
            ]
          },
          "metadata": {
            "tags": []
          }
        }
      ]
    },
    {
      "cell_type": "markdown",
      "metadata": {
        "id": "DRrvdC1XHd2A",
        "colab_type": "text"
      },
      "source": [
        "The surprising takeaway here is that reward and reward^2 are negatively correlated with redemption, so reward may be correlated with an ommitted variable. Another interpretation is that for bogo, reward = difficulty, so more expensive bogo's were less likely to be picked. Let's try checking the correlation of discount coupons with our input variables."
      ]
    },
    {
      "cell_type": "code",
      "metadata": {
        "id": "oSnXhz5p2omT",
        "colab_type": "code",
        "colab": {
          "base_uri": "https://localhost:8080/",
          "height": 715
        },
        "outputId": "6a75986a-7e91-4b6b-df5e-92922fed9ab7"
      },
      "source": [
        "important_feats = df_clean[df_clean.bogo==0].corr(method='pearson')['completed']\\\n",
        "  .drop('completed').sort_values(ascending=False)\n",
        "\n",
        "fig = plt.figure(figsize=(10,12))\n",
        "plt.title('Pearson correlation with coupon completion')\n",
        "fig = sns.barplot(y=important_feats.index,x=important_feats.values,\n",
        "                  palette='twilight_shifted',orient='h')"
      ],
      "execution_count": 66,
      "outputs": [
        {
          "output_type": "display_data",
          "data": {
            "image/png": "[encoded data removed]",
            "text/plain": [
              "<Figure size 720x864 with 1 Axes>"
            ]
          },
          "metadata": {
            "tags": []
          }
        }
      ]
    },
    {
      "cell_type": "markdown",
      "metadata": {
        "id": "3tZv2isoGU5h",
        "colab_type": "text"
      },
      "source": [
        "reward is stil slightly negative, so we could interpret this to mean that the more expensive coupons have a lower bang-for-your-buck appeal. "
      ]
    },
    {
      "cell_type": "markdown",
      "metadata": {
        "id": "8_F3tobyUoHb",
        "colab_type": "text"
      },
      "source": [
        "### OPTIONAL MATERIAL ###\n"
      ]
    },
    {
      "cell_type": "markdown",
      "metadata": {
        "id": "E0R1Rsf2Ut0Z",
        "colab_type": "text"
      },
      "source": [
        "this shows the scalability of the XGBoost model. It performs significantly better than the LGBM model at low amounts of training data, but about the same at the current level. This cell will take a long time to run, and it's not much more informative than the LGBM plots, so I dont reccomend running it unless you're willing to wait about 30 minutes. "
      ]
    },
    {
      "cell_type": "code",
      "metadata": {
        "id": "WdOcpRwCU7BY",
        "colab_type": "code",
        "colab": {
          "base_uri": "https://localhost:8080/",
          "height": 894
        },
        "outputId": "020d11d9-6dcc-4832-f250-277ff33e8444"
      },
      "source": [
        "fig,axes = plt.subplots(3,1,figsize=(10,15))\n",
        "X,y = df_clean.loc[:,df_clean.columns!='completed'],df_clean.completed\n",
        "\n",
        "cv = ShuffleSplit(n_splits=10,test_size=.2)\n",
        "\n",
        "title = 'LGBM Classifier Learning curves'\n",
        "plot_learning_curve(estimator=best_estimator,title=title,X=X,y=y,axes=axes,cv=cv,n_jobs=-1);"
      ],
      "execution_count": 67,
      "outputs": [
        {
          "output_type": "display_data",
          "data": {
            "image/png": "[encoded data removed]",
            "text/plain": [
              "<Figure size 720x1080 with 3 Axes>"
            ]
          },
          "metadata": {
            "tags": []
          }
        }
      ]
    }
  ]
}