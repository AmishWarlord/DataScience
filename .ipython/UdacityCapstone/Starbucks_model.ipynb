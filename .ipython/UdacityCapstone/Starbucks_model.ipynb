{
 "cells": [
  {
   "cell_type": "markdown",
   "metadata": {
    "colab_type": "text",
    "id": "Hbj8KFyzEU22"
   },
   "source": [
    "Starbucks Capstone Project\n",
    "\n",
    "Starbucks has an app that gives individually tailored coupons to app users in hopes that the coupon entices people into their stores. So their objective with this dataset is to discern which types of users should receive which types of coupons.\n",
    "\n",
    "This project is to identify the conditions under which a Starbucks App user will respond to a coupon that was randomly given to them. Note that some customers would have gone to Starbucks regardless of whether or not they received a coupon. So this model will then give a prediction as to whether any given customer, if they are given a specific coupon, will *change* their behavior and go to Starbucks. \n",
    "\n",
    "There are a few difficulties with this that we will deal with as they occur, but the overall goal is to clean the dataset for exploratory analysis, then feed it into a predictive model that will assess whether or not they will buy a product after viewing the coupon. \n",
    "\n",
    "Overall, we were able to make a model that, after removing all trivially predictable data, was able to correctly predict consumer behavior 77.1% of the time. "
   ]
  },
  {
   "cell_type": "code",
   "execution_count": 1,
   "metadata": {
    "colab": {
     "base_uri": "https://localhost:8080/",
     "height": 52
    },
    "colab_type": "code",
    "id": "_ZIZl8Q-U0gG",
    "outputId": "529abcb1-0e28-40c4-a4ed-7c875b01770d"
   },
   "outputs": [],
   "source": [
    "# import essentials\n",
    "import pandas as pd\n",
    "import numpy as np\n",
    "import math\n",
    "import json\n",
    "import re\n",
    "import seaborn as sns\n",
    "import matplotlib.pyplot as plt"
   ]
  },
  {
   "cell_type": "code",
   "execution_count": 2,
   "metadata": {
    "colab": {},
    "colab_type": "code",
    "id": "0ilwHZ4EUfyL"
   },
   "outputs": [],
   "source": [
    "# set our seaborn style\n",
    "sns.set_style('darkgrid')\n",
    "pd.options.display.float_format = '{:,.2f}'.format"
   ]
  },
  {
   "cell_type": "code",
   "execution_count": 3,
   "metadata": {
    "colab": {},
    "colab_type": "code",
    "id": "kTLTmNvK9h6y"
   },
   "outputs": [],
   "source": [
    "seed = 69 # Bill & Ted > 42\n",
    "np.random.seed(seed) "
   ]
  },
  {
   "cell_type": "code",
   "execution_count": 4,
   "metadata": {
    "colab": {},
    "colab_type": "code",
    "id": "ifIwUyNQCotD"
   },
   "outputs": [],
   "source": [
    "# read in the json files\n",
    "portfolio = pd.read_json('data/portfolio.json', orient='records', lines=True)\n",
    "profile = pd.read_json('data/profile.json', orient='records', lines=True)\n",
    "transcript = pd.read_json('data/transcript.json', orient='records', lines=True)"
   ]
  },
  {
   "cell_type": "code",
   "execution_count": 5,
   "metadata": {
    "colab": {
     "base_uri": "https://localhost:8080/",
     "height": 197
    },
    "colab_type": "code",
    "id": "W9PCH-3KVkZF",
    "outputId": "063f58fe-0212-485f-f835-fbcb0c5e6d69"
   },
   "outputs": [
    {
     "data": {
      "text/html": [
       "<div>\n",
       "<style scoped>\n",
       "    .dataframe tbody tr th:only-of-type {\n",
       "        vertical-align: middle;\n",
       "    }\n",
       "\n",
       "    .dataframe tbody tr th {\n",
       "        vertical-align: top;\n",
       "    }\n",
       "\n",
       "    .dataframe thead th {\n",
       "        text-align: right;\n",
       "    }\n",
       "</style>\n",
       "<table border=\"1\" class=\"dataframe\">\n",
       "  <thead>\n",
       "    <tr style=\"text-align: right;\">\n",
       "      <th></th>\n",
       "      <th>reward</th>\n",
       "      <th>channels</th>\n",
       "      <th>difficulty</th>\n",
       "      <th>duration</th>\n",
       "      <th>offer_type</th>\n",
       "      <th>coupon_id</th>\n",
       "    </tr>\n",
       "  </thead>\n",
       "  <tbody>\n",
       "    <tr>\n",
       "      <th>0</th>\n",
       "      <td>10</td>\n",
       "      <td>[email, mobile, social]</td>\n",
       "      <td>10</td>\n",
       "      <td>7</td>\n",
       "      <td>bogo</td>\n",
       "      <td>ae264e3637204a6fb9bb56bc8210ddfd</td>\n",
       "    </tr>\n",
       "    <tr>\n",
       "      <th>1</th>\n",
       "      <td>10</td>\n",
       "      <td>[web, email, mobile, social]</td>\n",
       "      <td>10</td>\n",
       "      <td>5</td>\n",
       "      <td>bogo</td>\n",
       "      <td>4d5c57ea9a6940dd891ad53e9dbe8da0</td>\n",
       "    </tr>\n",
       "    <tr>\n",
       "      <th>2</th>\n",
       "      <td>0</td>\n",
       "      <td>[web, email, mobile]</td>\n",
       "      <td>0</td>\n",
       "      <td>4</td>\n",
       "      <td>informational</td>\n",
       "      <td>3f207df678b143eea3cee63160fa8bed</td>\n",
       "    </tr>\n",
       "    <tr>\n",
       "      <th>3</th>\n",
       "      <td>5</td>\n",
       "      <td>[web, email, mobile]</td>\n",
       "      <td>5</td>\n",
       "      <td>7</td>\n",
       "      <td>bogo</td>\n",
       "      <td>9b98b8c7a33c4b65b9aebfe6a799e6d9</td>\n",
       "    </tr>\n",
       "    <tr>\n",
       "      <th>4</th>\n",
       "      <td>5</td>\n",
       "      <td>[web, email]</td>\n",
       "      <td>20</td>\n",
       "      <td>10</td>\n",
       "      <td>discount</td>\n",
       "      <td>0b1e1539f2cc45b7b9fa7c272da2e1d7</td>\n",
       "    </tr>\n",
       "    <tr>\n",
       "      <th>5</th>\n",
       "      <td>3</td>\n",
       "      <td>[web, email, mobile, social]</td>\n",
       "      <td>7</td>\n",
       "      <td>7</td>\n",
       "      <td>discount</td>\n",
       "      <td>2298d6c36e964ae4a3e7e9706d1fb8c2</td>\n",
       "    </tr>\n",
       "    <tr>\n",
       "      <th>6</th>\n",
       "      <td>2</td>\n",
       "      <td>[web, email, mobile, social]</td>\n",
       "      <td>10</td>\n",
       "      <td>10</td>\n",
       "      <td>discount</td>\n",
       "      <td>fafdcd668e3743c1bb461111dcafc2a4</td>\n",
       "    </tr>\n",
       "    <tr>\n",
       "      <th>7</th>\n",
       "      <td>0</td>\n",
       "      <td>[email, mobile, social]</td>\n",
       "      <td>0</td>\n",
       "      <td>3</td>\n",
       "      <td>informational</td>\n",
       "      <td>5a8bc65990b245e5a138643cd4eb9837</td>\n",
       "    </tr>\n",
       "    <tr>\n",
       "      <th>8</th>\n",
       "      <td>5</td>\n",
       "      <td>[web, email, mobile, social]</td>\n",
       "      <td>5</td>\n",
       "      <td>5</td>\n",
       "      <td>bogo</td>\n",
       "      <td>f19421c1d4aa40978ebb69ca19b0e20d</td>\n",
       "    </tr>\n",
       "    <tr>\n",
       "      <th>9</th>\n",
       "      <td>2</td>\n",
       "      <td>[web, email, mobile]</td>\n",
       "      <td>10</td>\n",
       "      <td>7</td>\n",
       "      <td>discount</td>\n",
       "      <td>2906b810c7d4411798c6938adc9daaa5</td>\n",
       "    </tr>\n",
       "  </tbody>\n",
       "</table>\n",
       "</div>"
      ],
      "text/plain": [
       "   reward                      channels  difficulty  duration     offer_type  \\\n",
       "0      10       [email, mobile, social]          10         7           bogo   \n",
       "1      10  [web, email, mobile, social]          10         5           bogo   \n",
       "2       0          [web, email, mobile]           0         4  informational   \n",
       "3       5          [web, email, mobile]           5         7           bogo   \n",
       "4       5                  [web, email]          20        10       discount   \n",
       "5       3  [web, email, mobile, social]           7         7       discount   \n",
       "6       2  [web, email, mobile, social]          10        10       discount   \n",
       "7       0       [email, mobile, social]           0         3  informational   \n",
       "8       5  [web, email, mobile, social]           5         5           bogo   \n",
       "9       2          [web, email, mobile]          10         7       discount   \n",
       "\n",
       "                          coupon_id  \n",
       "0  ae264e3637204a6fb9bb56bc8210ddfd  \n",
       "1  4d5c57ea9a6940dd891ad53e9dbe8da0  \n",
       "2  3f207df678b143eea3cee63160fa8bed  \n",
       "3  9b98b8c7a33c4b65b9aebfe6a799e6d9  \n",
       "4  0b1e1539f2cc45b7b9fa7c272da2e1d7  \n",
       "5  2298d6c36e964ae4a3e7e9706d1fb8c2  \n",
       "6  fafdcd668e3743c1bb461111dcafc2a4  \n",
       "7  5a8bc65990b245e5a138643cd4eb9837  \n",
       "8  f19421c1d4aa40978ebb69ca19b0e20d  \n",
       "9  2906b810c7d4411798c6938adc9daaa5  "
      ]
     },
     "execution_count": 5,
     "metadata": {},
     "output_type": "execute_result"
    }
   ],
   "source": [
    "# multiple dataframes have an 'id' column, each one means something different\n",
    "# clarify the id variables\n",
    "portfolio.rename(columns={'id':'coupon_id'},inplace=True)\n",
    "portfolio.head(10)"
   ]
  },
  {
   "cell_type": "code",
   "execution_count": 6,
   "metadata": {
    "colab": {
     "base_uri": "https://localhost:8080/",
     "height": 197
    },
    "colab_type": "code",
    "id": "IZUPYctpVkbr",
    "outputId": "9fce83a0-213f-4307-a496-a427579be1f7"
   },
   "outputs": [
    {
     "name": "stdout",
     "output_type": "stream",
     "text": [
      "(17000, 5)\n"
     ]
    },
    {
     "data": {
      "text/html": [
       "<div>\n",
       "<style scoped>\n",
       "    .dataframe tbody tr th:only-of-type {\n",
       "        vertical-align: middle;\n",
       "    }\n",
       "\n",
       "    .dataframe tbody tr th {\n",
       "        vertical-align: top;\n",
       "    }\n",
       "\n",
       "    .dataframe thead th {\n",
       "        text-align: right;\n",
       "    }\n",
       "</style>\n",
       "<table border=\"1\" class=\"dataframe\">\n",
       "  <thead>\n",
       "    <tr style=\"text-align: right;\">\n",
       "      <th></th>\n",
       "      <th>gender</th>\n",
       "      <th>age</th>\n",
       "      <th>customer_id</th>\n",
       "      <th>became_member_on</th>\n",
       "      <th>income</th>\n",
       "    </tr>\n",
       "  </thead>\n",
       "  <tbody>\n",
       "    <tr>\n",
       "      <th>5848</th>\n",
       "      <td>F</td>\n",
       "      <td>24</td>\n",
       "      <td>14b0f8a0f7024e9094869bccc14150f4</td>\n",
       "      <td>2014-04-26</td>\n",
       "      <td>43,000.00</td>\n",
       "    </tr>\n",
       "    <tr>\n",
       "      <th>11249</th>\n",
       "      <td>M</td>\n",
       "      <td>52</td>\n",
       "      <td>c997ff8618074ed9b5c1421ec762c4e7</td>\n",
       "      <td>2016-07-27</td>\n",
       "      <td>73,000.00</td>\n",
       "    </tr>\n",
       "    <tr>\n",
       "      <th>1605</th>\n",
       "      <td>F</td>\n",
       "      <td>87</td>\n",
       "      <td>b1f4e2cbbdd6480699e0f0a355822f49</td>\n",
       "      <td>2016-10-22</td>\n",
       "      <td>85,000.00</td>\n",
       "    </tr>\n",
       "    <tr>\n",
       "      <th>2091</th>\n",
       "      <td>None</td>\n",
       "      <td>118</td>\n",
       "      <td>fe27f786458b481383a4ca6dbf5a83a5</td>\n",
       "      <td>2017-11-13</td>\n",
       "      <td>nan</td>\n",
       "    </tr>\n",
       "    <tr>\n",
       "      <th>13456</th>\n",
       "      <td>None</td>\n",
       "      <td>118</td>\n",
       "      <td>58d8b6173f00448892e69d63c0cc9670</td>\n",
       "      <td>2017-04-18</td>\n",
       "      <td>nan</td>\n",
       "    </tr>\n",
       "  </tbody>\n",
       "</table>\n",
       "</div>"
      ],
      "text/plain": [
       "      gender  age                       customer_id became_member_on    income\n",
       "5848       F   24  14b0f8a0f7024e9094869bccc14150f4       2014-04-26 43,000.00\n",
       "11249      M   52  c997ff8618074ed9b5c1421ec762c4e7       2016-07-27 73,000.00\n",
       "1605       F   87  b1f4e2cbbdd6480699e0f0a355822f49       2016-10-22 85,000.00\n",
       "2091    None  118  fe27f786458b481383a4ca6dbf5a83a5       2017-11-13       nan\n",
       "13456   None  118  58d8b6173f00448892e69d63c0cc9670       2017-04-18       nan"
      ]
     },
     "execution_count": 6,
     "metadata": {},
     "output_type": "execute_result"
    }
   ],
   "source": [
    "profile.rename(columns={'id':'customer_id'},inplace=True)\n",
    "profile.became_member_on = pd.to_datetime(profile.became_member_on,format='%Y%m%d')\n",
    "print(profile.shape)\n",
    "profile.sample(frac=1).head()"
   ]
  },
  {
   "cell_type": "code",
   "execution_count": 7,
   "metadata": {
    "colab": {},
    "colab_type": "code",
    "id": "SiuN7-tWWOJ7"
   },
   "outputs": [],
   "source": [
    "transcript['event_id'] = transcript.value.apply(\n",
    "    lambda x: list(x.values())[0]\n",
    ")"
   ]
  },
  {
   "cell_type": "code",
   "execution_count": 8,
   "metadata": {
    "colab": {
     "base_uri": "https://localhost:8080/",
     "height": 197
    },
    "colab_type": "code",
    "id": "80bE4VcEU5Hu",
    "outputId": "9c100a25-3e40-409b-f549-a74d2967edc2"
   },
   "outputs": [
    {
     "name": "stdout",
     "output_type": "stream",
     "text": [
      "(306534, 5)\n"
     ]
    },
    {
     "data": {
      "text/html": [
       "<div>\n",
       "<style scoped>\n",
       "    .dataframe tbody tr th:only-of-type {\n",
       "        vertical-align: middle;\n",
       "    }\n",
       "\n",
       "    .dataframe tbody tr th {\n",
       "        vertical-align: top;\n",
       "    }\n",
       "\n",
       "    .dataframe thead th {\n",
       "        text-align: right;\n",
       "    }\n",
       "</style>\n",
       "<table border=\"1\" class=\"dataframe\">\n",
       "  <thead>\n",
       "    <tr style=\"text-align: right;\">\n",
       "      <th></th>\n",
       "      <th>person</th>\n",
       "      <th>event</th>\n",
       "      <th>value</th>\n",
       "      <th>time</th>\n",
       "      <th>event_id</th>\n",
       "    </tr>\n",
       "  </thead>\n",
       "  <tbody>\n",
       "    <tr>\n",
       "      <th>84819</th>\n",
       "      <td>2c73097022014523a15cf9cb61d68703</td>\n",
       "      <td>transaction</td>\n",
       "      <td>{'amount': 16.57}</td>\n",
       "      <td>210</td>\n",
       "      <td>16.57</td>\n",
       "    </tr>\n",
       "    <tr>\n",
       "      <th>87713</th>\n",
       "      <td>beb7f9bb1096496fa4a369be8d0c6137</td>\n",
       "      <td>offer viewed</td>\n",
       "      <td>{'offer id': 'fafdcd668e3743c1bb461111dcafc2a4'}</td>\n",
       "      <td>222</td>\n",
       "      <td>fafdcd668e3743c1bb461111dcafc2a4</td>\n",
       "    </tr>\n",
       "    <tr>\n",
       "      <th>148104</th>\n",
       "      <td>e020fbd77c5445d6be1d8fba3dea9934</td>\n",
       "      <td>offer viewed</td>\n",
       "      <td>{'offer id': '2906b810c7d4411798c6938adc9daaa5'}</td>\n",
       "      <td>396</td>\n",
       "      <td>2906b810c7d4411798c6938adc9daaa5</td>\n",
       "    </tr>\n",
       "    <tr>\n",
       "      <th>82777</th>\n",
       "      <td>79e3b16de4964b6c82e45e0014a42502</td>\n",
       "      <td>offer completed</td>\n",
       "      <td>{'offer_id': 'f19421c1d4aa40978ebb69ca19b0e20d...</td>\n",
       "      <td>204</td>\n",
       "      <td>f19421c1d4aa40978ebb69ca19b0e20d</td>\n",
       "    </tr>\n",
       "    <tr>\n",
       "      <th>301152</th>\n",
       "      <td>fcab73d6aea946eba8569dee5141738b</td>\n",
       "      <td>transaction</td>\n",
       "      <td>{'amount': 6.29}</td>\n",
       "      <td>690</td>\n",
       "      <td>6.29</td>\n",
       "    </tr>\n",
       "  </tbody>\n",
       "</table>\n",
       "</div>"
      ],
      "text/plain": [
       "                                  person            event  \\\n",
       "84819   2c73097022014523a15cf9cb61d68703      transaction   \n",
       "87713   beb7f9bb1096496fa4a369be8d0c6137     offer viewed   \n",
       "148104  e020fbd77c5445d6be1d8fba3dea9934     offer viewed   \n",
       "82777   79e3b16de4964b6c82e45e0014a42502  offer completed   \n",
       "301152  fcab73d6aea946eba8569dee5141738b      transaction   \n",
       "\n",
       "                                                    value  time  \\\n",
       "84819                                   {'amount': 16.57}   210   \n",
       "87713    {'offer id': 'fafdcd668e3743c1bb461111dcafc2a4'}   222   \n",
       "148104   {'offer id': '2906b810c7d4411798c6938adc9daaa5'}   396   \n",
       "82777   {'offer_id': 'f19421c1d4aa40978ebb69ca19b0e20d...   204   \n",
       "301152                                   {'amount': 6.29}   690   \n",
       "\n",
       "                                event_id  \n",
       "84819                              16.57  \n",
       "87713   fafdcd668e3743c1bb461111dcafc2a4  \n",
       "148104  2906b810c7d4411798c6938adc9daaa5  \n",
       "82777   f19421c1d4aa40978ebb69ca19b0e20d  \n",
       "301152                              6.29  "
      ]
     },
     "execution_count": 8,
     "metadata": {},
     "output_type": "execute_result"
    }
   ],
   "source": [
    "print(transcript.shape)\n",
    "transcript.sample(frac=1).head()"
   ]
  },
  {
   "cell_type": "code",
   "execution_count": 9,
   "metadata": {
    "colab": {
     "base_uri": "https://localhost:8080/",
     "height": 197
    },
    "colab_type": "code",
    "id": "h6kJ8ghKGl4S",
    "outputId": "1c615707-b9c9-4eb8-c93a-c3dfecd00f13"
   },
   "outputs": [
    {
     "data": {
      "text/html": [
       "<div>\n",
       "<style scoped>\n",
       "    .dataframe tbody tr th:only-of-type {\n",
       "        vertical-align: middle;\n",
       "    }\n",
       "\n",
       "    .dataframe tbody tr th {\n",
       "        vertical-align: top;\n",
       "    }\n",
       "\n",
       "    .dataframe thead th {\n",
       "        text-align: right;\n",
       "    }\n",
       "</style>\n",
       "<table border=\"1\" class=\"dataframe\">\n",
       "  <thead>\n",
       "    <tr style=\"text-align: right;\">\n",
       "      <th></th>\n",
       "      <th>person</th>\n",
       "      <th>event</th>\n",
       "      <th>value</th>\n",
       "      <th>time</th>\n",
       "      <th>event_id</th>\n",
       "      <th>gender</th>\n",
       "      <th>age</th>\n",
       "      <th>became_member_on</th>\n",
       "      <th>income</th>\n",
       "      <th>reward</th>\n",
       "      <th>channels</th>\n",
       "      <th>difficulty</th>\n",
       "      <th>duration</th>\n",
       "      <th>offer_type</th>\n",
       "    </tr>\n",
       "  </thead>\n",
       "  <tbody>\n",
       "    <tr>\n",
       "      <th>0</th>\n",
       "      <td>78afa995795e4d85b5d9ceeca43f5fef</td>\n",
       "      <td>offer received</td>\n",
       "      <td>{'offer id': '9b98b8c7a33c4b65b9aebfe6a799e6d9'}</td>\n",
       "      <td>0</td>\n",
       "      <td>9b98b8c7a33c4b65b9aebfe6a799e6d9</td>\n",
       "      <td>F</td>\n",
       "      <td>75</td>\n",
       "      <td>2017-05-09</td>\n",
       "      <td>100,000.00</td>\n",
       "      <td>5.00</td>\n",
       "      <td>[web, email, mobile]</td>\n",
       "      <td>5.00</td>\n",
       "      <td>7.00</td>\n",
       "      <td>bogo</td>\n",
       "    </tr>\n",
       "    <tr>\n",
       "      <th>1</th>\n",
       "      <td>a03223e636434f42ac4c3df47e8bac43</td>\n",
       "      <td>offer received</td>\n",
       "      <td>{'offer id': '0b1e1539f2cc45b7b9fa7c272da2e1d7'}</td>\n",
       "      <td>0</td>\n",
       "      <td>0b1e1539f2cc45b7b9fa7c272da2e1d7</td>\n",
       "      <td>None</td>\n",
       "      <td>118</td>\n",
       "      <td>2017-08-04</td>\n",
       "      <td>nan</td>\n",
       "      <td>5.00</td>\n",
       "      <td>[web, email]</td>\n",
       "      <td>20.00</td>\n",
       "      <td>10.00</td>\n",
       "      <td>discount</td>\n",
       "    </tr>\n",
       "    <tr>\n",
       "      <th>2</th>\n",
       "      <td>e2127556f4f64592b11af22de27a7932</td>\n",
       "      <td>offer received</td>\n",
       "      <td>{'offer id': '2906b810c7d4411798c6938adc9daaa5'}</td>\n",
       "      <td>0</td>\n",
       "      <td>2906b810c7d4411798c6938adc9daaa5</td>\n",
       "      <td>M</td>\n",
       "      <td>68</td>\n",
       "      <td>2018-04-26</td>\n",
       "      <td>70,000.00</td>\n",
       "      <td>2.00</td>\n",
       "      <td>[web, email, mobile]</td>\n",
       "      <td>10.00</td>\n",
       "      <td>7.00</td>\n",
       "      <td>discount</td>\n",
       "    </tr>\n",
       "    <tr>\n",
       "      <th>3</th>\n",
       "      <td>8ec6ce2a7e7949b1bf142def7d0e0586</td>\n",
       "      <td>offer received</td>\n",
       "      <td>{'offer id': 'fafdcd668e3743c1bb461111dcafc2a4'}</td>\n",
       "      <td>0</td>\n",
       "      <td>fafdcd668e3743c1bb461111dcafc2a4</td>\n",
       "      <td>None</td>\n",
       "      <td>118</td>\n",
       "      <td>2017-09-25</td>\n",
       "      <td>nan</td>\n",
       "      <td>2.00</td>\n",
       "      <td>[web, email, mobile, social]</td>\n",
       "      <td>10.00</td>\n",
       "      <td>10.00</td>\n",
       "      <td>discount</td>\n",
       "    </tr>\n",
       "    <tr>\n",
       "      <th>4</th>\n",
       "      <td>68617ca6246f4fbc85e91a2a49552598</td>\n",
       "      <td>offer received</td>\n",
       "      <td>{'offer id': '4d5c57ea9a6940dd891ad53e9dbe8da0'}</td>\n",
       "      <td>0</td>\n",
       "      <td>4d5c57ea9a6940dd891ad53e9dbe8da0</td>\n",
       "      <td>None</td>\n",
       "      <td>118</td>\n",
       "      <td>2017-10-02</td>\n",
       "      <td>nan</td>\n",
       "      <td>10.00</td>\n",
       "      <td>[web, email, mobile, social]</td>\n",
       "      <td>10.00</td>\n",
       "      <td>5.00</td>\n",
       "      <td>bogo</td>\n",
       "    </tr>\n",
       "  </tbody>\n",
       "</table>\n",
       "</div>"
      ],
      "text/plain": [
       "                             person           event  \\\n",
       "0  78afa995795e4d85b5d9ceeca43f5fef  offer received   \n",
       "1  a03223e636434f42ac4c3df47e8bac43  offer received   \n",
       "2  e2127556f4f64592b11af22de27a7932  offer received   \n",
       "3  8ec6ce2a7e7949b1bf142def7d0e0586  offer received   \n",
       "4  68617ca6246f4fbc85e91a2a49552598  offer received   \n",
       "\n",
       "                                              value  time  \\\n",
       "0  {'offer id': '9b98b8c7a33c4b65b9aebfe6a799e6d9'}     0   \n",
       "1  {'offer id': '0b1e1539f2cc45b7b9fa7c272da2e1d7'}     0   \n",
       "2  {'offer id': '2906b810c7d4411798c6938adc9daaa5'}     0   \n",
       "3  {'offer id': 'fafdcd668e3743c1bb461111dcafc2a4'}     0   \n",
       "4  {'offer id': '4d5c57ea9a6940dd891ad53e9dbe8da0'}     0   \n",
       "\n",
       "                           event_id gender  age became_member_on     income  \\\n",
       "0  9b98b8c7a33c4b65b9aebfe6a799e6d9      F   75       2017-05-09 100,000.00   \n",
       "1  0b1e1539f2cc45b7b9fa7c272da2e1d7   None  118       2017-08-04        nan   \n",
       "2  2906b810c7d4411798c6938adc9daaa5      M   68       2018-04-26  70,000.00   \n",
       "3  fafdcd668e3743c1bb461111dcafc2a4   None  118       2017-09-25        nan   \n",
       "4  4d5c57ea9a6940dd891ad53e9dbe8da0   None  118       2017-10-02        nan   \n",
       "\n",
       "   reward                      channels  difficulty  duration offer_type  \n",
       "0    5.00          [web, email, mobile]        5.00      7.00       bogo  \n",
       "1    5.00                  [web, email]       20.00     10.00   discount  \n",
       "2    2.00          [web, email, mobile]       10.00      7.00   discount  \n",
       "3    2.00  [web, email, mobile, social]       10.00     10.00   discount  \n",
       "4   10.00  [web, email, mobile, social]       10.00      5.00       bogo  "
      ]
     },
     "execution_count": 9,
     "metadata": {},
     "output_type": "execute_result"
    }
   ],
   "source": [
    "df = transcript.join(profile.set_index('customer_id'),on='person')\n",
    "df = df.join(portfolio.set_index('coupon_id'),on='event_id')\n",
    "df.head()"
   ]
  },
  {
   "cell_type": "code",
   "execution_count": 10,
   "metadata": {
    "colab": {
     "base_uri": "https://localhost:8080/",
     "height": 52
    },
    "colab_type": "code",
    "id": "YL2XpjNJVfrs",
    "outputId": "a784806a-2de7-450c-a0e2-44e27d8aa375"
   },
   "outputs": [
    {
     "data": {
      "text/plain": [
       "array(['offer received', 'offer viewed', 'transaction', 'offer completed'],\n",
       "      dtype=object)"
      ]
     },
     "execution_count": 10,
     "metadata": {},
     "output_type": "execute_result"
    }
   ],
   "source": [
    "transcript.event.unique()"
   ]
  },
  {
   "cell_type": "code",
   "execution_count": 11,
   "metadata": {
    "colab": {
     "base_uri": "https://localhost:8080/",
     "height": 197
    },
    "colab_type": "code",
    "id": "9i1_v7B4WAwd",
    "outputId": "f5e55421-3d9f-4106-f389-111d9a1a2ec8"
   },
   "outputs": [
    {
     "data": {
      "text/html": [
       "<div>\n",
       "<style scoped>\n",
       "    .dataframe tbody tr th:only-of-type {\n",
       "        vertical-align: middle;\n",
       "    }\n",
       "\n",
       "    .dataframe tbody tr th {\n",
       "        vertical-align: top;\n",
       "    }\n",
       "\n",
       "    .dataframe thead th {\n",
       "        text-align: right;\n",
       "    }\n",
       "</style>\n",
       "<table border=\"1\" class=\"dataframe\">\n",
       "  <thead>\n",
       "    <tr style=\"text-align: right;\">\n",
       "      <th></th>\n",
       "      <th>person</th>\n",
       "      <th>event</th>\n",
       "      <th>value</th>\n",
       "      <th>time</th>\n",
       "      <th>event_id</th>\n",
       "      <th>gender</th>\n",
       "      <th>age</th>\n",
       "      <th>became_member_on</th>\n",
       "      <th>income</th>\n",
       "      <th>reward</th>\n",
       "      <th>channels</th>\n",
       "      <th>difficulty</th>\n",
       "      <th>duration</th>\n",
       "      <th>offer_type</th>\n",
       "    </tr>\n",
       "  </thead>\n",
       "  <tbody>\n",
       "    <tr>\n",
       "      <th>12654</th>\n",
       "      <td>02c083884c7d45b39cc68e1314fec56c</td>\n",
       "      <td>transaction</td>\n",
       "      <td>{'amount': 0.8300000000000001}</td>\n",
       "      <td>0</td>\n",
       "      <td>0.83</td>\n",
       "      <td>F</td>\n",
       "      <td>20</td>\n",
       "      <td>2016-07-11</td>\n",
       "      <td>30,000.00</td>\n",
       "      <td>nan</td>\n",
       "      <td>NaN</td>\n",
       "      <td>nan</td>\n",
       "      <td>nan</td>\n",
       "      <td>NaN</td>\n",
       "    </tr>\n",
       "    <tr>\n",
       "      <th>12657</th>\n",
       "      <td>9fa9ae8f57894cc9a3b8a9bbe0fc1b2f</td>\n",
       "      <td>transaction</td>\n",
       "      <td>{'amount': 34.56}</td>\n",
       "      <td>0</td>\n",
       "      <td>34.56</td>\n",
       "      <td>M</td>\n",
       "      <td>42</td>\n",
       "      <td>2016-01-17</td>\n",
       "      <td>96,000.00</td>\n",
       "      <td>nan</td>\n",
       "      <td>NaN</td>\n",
       "      <td>nan</td>\n",
       "      <td>nan</td>\n",
       "      <td>NaN</td>\n",
       "    </tr>\n",
       "    <tr>\n",
       "      <th>12659</th>\n",
       "      <td>54890f68699049c2a04d415abc25e717</td>\n",
       "      <td>transaction</td>\n",
       "      <td>{'amount': 13.23}</td>\n",
       "      <td>0</td>\n",
       "      <td>13.23</td>\n",
       "      <td>M</td>\n",
       "      <td>36</td>\n",
       "      <td>2017-12-28</td>\n",
       "      <td>56,000.00</td>\n",
       "      <td>nan</td>\n",
       "      <td>NaN</td>\n",
       "      <td>nan</td>\n",
       "      <td>nan</td>\n",
       "      <td>NaN</td>\n",
       "    </tr>\n",
       "    <tr>\n",
       "      <th>12670</th>\n",
       "      <td>b2f1cd155b864803ad8334cdf13c4bd2</td>\n",
       "      <td>transaction</td>\n",
       "      <td>{'amount': 19.51}</td>\n",
       "      <td>0</td>\n",
       "      <td>19.51</td>\n",
       "      <td>F</td>\n",
       "      <td>55</td>\n",
       "      <td>2017-10-16</td>\n",
       "      <td>94,000.00</td>\n",
       "      <td>nan</td>\n",
       "      <td>NaN</td>\n",
       "      <td>nan</td>\n",
       "      <td>nan</td>\n",
       "      <td>NaN</td>\n",
       "    </tr>\n",
       "    <tr>\n",
       "      <th>12671</th>\n",
       "      <td>fe97aa22dd3e48c8b143116a8403dd52</td>\n",
       "      <td>transaction</td>\n",
       "      <td>{'amount': 18.97}</td>\n",
       "      <td>0</td>\n",
       "      <td>18.97</td>\n",
       "      <td>F</td>\n",
       "      <td>39</td>\n",
       "      <td>2017-12-17</td>\n",
       "      <td>67,000.00</td>\n",
       "      <td>nan</td>\n",
       "      <td>NaN</td>\n",
       "      <td>nan</td>\n",
       "      <td>nan</td>\n",
       "      <td>NaN</td>\n",
       "    </tr>\n",
       "  </tbody>\n",
       "</table>\n",
       "</div>"
      ],
      "text/plain": [
       "                                 person        event  \\\n",
       "12654  02c083884c7d45b39cc68e1314fec56c  transaction   \n",
       "12657  9fa9ae8f57894cc9a3b8a9bbe0fc1b2f  transaction   \n",
       "12659  54890f68699049c2a04d415abc25e717  transaction   \n",
       "12670  b2f1cd155b864803ad8334cdf13c4bd2  transaction   \n",
       "12671  fe97aa22dd3e48c8b143116a8403dd52  transaction   \n",
       "\n",
       "                                value  time event_id gender  age  \\\n",
       "12654  {'amount': 0.8300000000000001}     0     0.83      F   20   \n",
       "12657               {'amount': 34.56}     0    34.56      M   42   \n",
       "12659               {'amount': 13.23}     0    13.23      M   36   \n",
       "12670               {'amount': 19.51}     0    19.51      F   55   \n",
       "12671               {'amount': 18.97}     0    18.97      F   39   \n",
       "\n",
       "      became_member_on    income  reward channels  difficulty  duration  \\\n",
       "12654       2016-07-11 30,000.00     nan      NaN         nan       nan   \n",
       "12657       2016-01-17 96,000.00     nan      NaN         nan       nan   \n",
       "12659       2017-12-28 56,000.00     nan      NaN         nan       nan   \n",
       "12670       2017-10-16 94,000.00     nan      NaN         nan       nan   \n",
       "12671       2017-12-17 67,000.00     nan      NaN         nan       nan   \n",
       "\n",
       "      offer_type  \n",
       "12654        NaN  \n",
       "12657        NaN  \n",
       "12659        NaN  \n",
       "12670        NaN  \n",
       "12671        NaN  "
      ]
     },
     "execution_count": 11,
     "metadata": {},
     "output_type": "execute_result"
    }
   ],
   "source": [
    "transaction = df[df.event=='transaction'].copy()\n",
    "transaction.head()"
   ]
  },
  {
   "cell_type": "code",
   "execution_count": 12,
   "metadata": {
    "colab": {},
    "colab_type": "code",
    "id": "dEdz6TcQJKU1"
   },
   "outputs": [],
   "source": [
    "viewed = df[df.event=='offer viewed'].copy()"
   ]
  },
  {
   "cell_type": "code",
   "execution_count": 13,
   "metadata": {
    "colab": {
     "base_uri": "https://localhost:8080/",
     "height": 197
    },
    "colab_type": "code",
    "id": "hgOb6sX2FPla",
    "outputId": "8bee546c-8011-4b2f-b0bc-be0426a3e39b"
   },
   "outputs": [
    {
     "data": {
      "text/html": [
       "<div>\n",
       "<style scoped>\n",
       "    .dataframe tbody tr th:only-of-type {\n",
       "        vertical-align: middle;\n",
       "    }\n",
       "\n",
       "    .dataframe tbody tr th {\n",
       "        vertical-align: top;\n",
       "    }\n",
       "\n",
       "    .dataframe thead th {\n",
       "        text-align: right;\n",
       "    }\n",
       "</style>\n",
       "<table border=\"1\" class=\"dataframe\">\n",
       "  <thead>\n",
       "    <tr style=\"text-align: right;\">\n",
       "      <th></th>\n",
       "      <th>person</th>\n",
       "      <th>event</th>\n",
       "      <th>value</th>\n",
       "      <th>time</th>\n",
       "      <th>event_id</th>\n",
       "      <th>gender</th>\n",
       "      <th>age</th>\n",
       "      <th>became_member_on</th>\n",
       "      <th>income</th>\n",
       "      <th>reward</th>\n",
       "      <th>channels</th>\n",
       "      <th>difficulty</th>\n",
       "      <th>duration</th>\n",
       "      <th>offer_type</th>\n",
       "    </tr>\n",
       "  </thead>\n",
       "  <tbody>\n",
       "    <tr>\n",
       "      <th>12658</th>\n",
       "      <td>9fa9ae8f57894cc9a3b8a9bbe0fc1b2f</td>\n",
       "      <td>offer completed</td>\n",
       "      <td>{'offer_id': '2906b810c7d4411798c6938adc9daaa5...</td>\n",
       "      <td>0</td>\n",
       "      <td>2906b810c7d4411798c6938adc9daaa5</td>\n",
       "      <td>M</td>\n",
       "      <td>42</td>\n",
       "      <td>2016-01-17</td>\n",
       "      <td>96,000.00</td>\n",
       "      <td>2.00</td>\n",
       "      <td>[web, email, mobile]</td>\n",
       "      <td>10.00</td>\n",
       "      <td>7.00</td>\n",
       "      <td>discount</td>\n",
       "    </tr>\n",
       "    <tr>\n",
       "      <th>12672</th>\n",
       "      <td>fe97aa22dd3e48c8b143116a8403dd52</td>\n",
       "      <td>offer completed</td>\n",
       "      <td>{'offer_id': 'fafdcd668e3743c1bb461111dcafc2a4...</td>\n",
       "      <td>0</td>\n",
       "      <td>fafdcd668e3743c1bb461111dcafc2a4</td>\n",
       "      <td>F</td>\n",
       "      <td>39</td>\n",
       "      <td>2017-12-17</td>\n",
       "      <td>67,000.00</td>\n",
       "      <td>2.00</td>\n",
       "      <td>[web, email, mobile, social]</td>\n",
       "      <td>10.00</td>\n",
       "      <td>10.00</td>\n",
       "      <td>discount</td>\n",
       "    </tr>\n",
       "    <tr>\n",
       "      <th>12679</th>\n",
       "      <td>629fc02d56414d91bca360decdfa9288</td>\n",
       "      <td>offer completed</td>\n",
       "      <td>{'offer_id': '9b98b8c7a33c4b65b9aebfe6a799e6d9...</td>\n",
       "      <td>0</td>\n",
       "      <td>9b98b8c7a33c4b65b9aebfe6a799e6d9</td>\n",
       "      <td>M</td>\n",
       "      <td>52</td>\n",
       "      <td>2018-06-05</td>\n",
       "      <td>72,000.00</td>\n",
       "      <td>5.00</td>\n",
       "      <td>[web, email, mobile]</td>\n",
       "      <td>5.00</td>\n",
       "      <td>7.00</td>\n",
       "      <td>bogo</td>\n",
       "    </tr>\n",
       "    <tr>\n",
       "      <th>12692</th>\n",
       "      <td>676506bad68e4161b9bbaffeb039626b</td>\n",
       "      <td>offer completed</td>\n",
       "      <td>{'offer_id': 'ae264e3637204a6fb9bb56bc8210ddfd...</td>\n",
       "      <td>0</td>\n",
       "      <td>ae264e3637204a6fb9bb56bc8210ddfd</td>\n",
       "      <td>M</td>\n",
       "      <td>37</td>\n",
       "      <td>2017-05-15</td>\n",
       "      <td>92,000.00</td>\n",
       "      <td>10.00</td>\n",
       "      <td>[email, mobile, social]</td>\n",
       "      <td>10.00</td>\n",
       "      <td>7.00</td>\n",
       "      <td>bogo</td>\n",
       "    </tr>\n",
       "    <tr>\n",
       "      <th>12697</th>\n",
       "      <td>8f7dd3b2afe14c078eb4f6e6fe4ba97d</td>\n",
       "      <td>offer completed</td>\n",
       "      <td>{'offer_id': '4d5c57ea9a6940dd891ad53e9dbe8da0...</td>\n",
       "      <td>0</td>\n",
       "      <td>4d5c57ea9a6940dd891ad53e9dbe8da0</td>\n",
       "      <td>M</td>\n",
       "      <td>48</td>\n",
       "      <td>2015-09-03</td>\n",
       "      <td>62,000.00</td>\n",
       "      <td>10.00</td>\n",
       "      <td>[web, email, mobile, social]</td>\n",
       "      <td>10.00</td>\n",
       "      <td>5.00</td>\n",
       "      <td>bogo</td>\n",
       "    </tr>\n",
       "  </tbody>\n",
       "</table>\n",
       "</div>"
      ],
      "text/plain": [
       "                                 person            event  \\\n",
       "12658  9fa9ae8f57894cc9a3b8a9bbe0fc1b2f  offer completed   \n",
       "12672  fe97aa22dd3e48c8b143116a8403dd52  offer completed   \n",
       "12679  629fc02d56414d91bca360decdfa9288  offer completed   \n",
       "12692  676506bad68e4161b9bbaffeb039626b  offer completed   \n",
       "12697  8f7dd3b2afe14c078eb4f6e6fe4ba97d  offer completed   \n",
       "\n",
       "                                                   value  time  \\\n",
       "12658  {'offer_id': '2906b810c7d4411798c6938adc9daaa5...     0   \n",
       "12672  {'offer_id': 'fafdcd668e3743c1bb461111dcafc2a4...     0   \n",
       "12679  {'offer_id': '9b98b8c7a33c4b65b9aebfe6a799e6d9...     0   \n",
       "12692  {'offer_id': 'ae264e3637204a6fb9bb56bc8210ddfd...     0   \n",
       "12697  {'offer_id': '4d5c57ea9a6940dd891ad53e9dbe8da0...     0   \n",
       "\n",
       "                               event_id gender  age became_member_on  \\\n",
       "12658  2906b810c7d4411798c6938adc9daaa5      M   42       2016-01-17   \n",
       "12672  fafdcd668e3743c1bb461111dcafc2a4      F   39       2017-12-17   \n",
       "12679  9b98b8c7a33c4b65b9aebfe6a799e6d9      M   52       2018-06-05   \n",
       "12692  ae264e3637204a6fb9bb56bc8210ddfd      M   37       2017-05-15   \n",
       "12697  4d5c57ea9a6940dd891ad53e9dbe8da0      M   48       2015-09-03   \n",
       "\n",
       "         income  reward                      channels  difficulty  duration  \\\n",
       "12658 96,000.00    2.00          [web, email, mobile]       10.00      7.00   \n",
       "12672 67,000.00    2.00  [web, email, mobile, social]       10.00     10.00   \n",
       "12679 72,000.00    5.00          [web, email, mobile]        5.00      7.00   \n",
       "12692 92,000.00   10.00       [email, mobile, social]       10.00      7.00   \n",
       "12697 62,000.00   10.00  [web, email, mobile, social]       10.00      5.00   \n",
       "\n",
       "      offer_type  \n",
       "12658   discount  \n",
       "12672   discount  \n",
       "12679       bogo  \n",
       "12692       bogo  \n",
       "12697       bogo  "
      ]
     },
     "execution_count": 13,
     "metadata": {},
     "output_type": "execute_result"
    }
   ],
   "source": [
    "completed = df[df.event=='offer completed'].copy()\n",
    "completed.head()"
   ]
  },
  {
   "cell_type": "code",
   "execution_count": 14,
   "metadata": {
    "colab": {
     "base_uri": "https://localhost:8080/",
     "height": 34
    },
    "colab_type": "code",
    "id": "-18d5pDWV5IN",
    "outputId": "5a84668d-8d44-4ad3-d6eb-4c1897ea1fc5"
   },
   "outputs": [
    {
     "data": {
      "text/plain": [
       "(76277, 14)"
      ]
     },
     "execution_count": 14,
     "metadata": {},
     "output_type": "execute_result"
    }
   ],
   "source": [
    "received = df[df.event=='offer received'].copy()\n",
    "received.shape"
   ]
  },
  {
   "cell_type": "code",
   "execution_count": 15,
   "metadata": {
    "colab": {},
    "colab_type": "code",
    "id": "3bzEhxa-t96r"
   },
   "outputs": [],
   "source": [
    "# now add coupon viewed, and coupon completed to received\n",
    "# start with viewed\n",
    "def check_feat(df,other) :\n",
    "    output = pd.Series(np.zeros(received.shape[0]),dtype=int)\n",
    "    for i,row in received.iterrows() :\n",
    "        temp = other[other.person == row.person]\n",
    "        temp = temp[temp.event_id==row.event_id]\n",
    "        temp = temp[temp.time >= row.time]\n",
    "        temp = temp[temp.time <= row.time + (row.duration * 24)]\n",
    "        if temp.shape[0] > 0 : output[i] = 1\n",
    "        else : output[i] = 0\n",
    "    return output"
   ]
  },
  {
   "cell_type": "code",
   "execution_count": 16,
   "metadata": {
    "colab": {},
    "colab_type": "code",
    "id": "lx4L-0PXWMZV"
   },
   "outputs": [],
   "source": [
    "from time import time\n",
    "t = time()"
   ]
  },
  {
   "cell_type": "markdown",
   "metadata": {
    "colab_type": "text",
    "id": "gyT2JOJw7rpn"
   },
   "source": [
    "This code will take a while. For google colab, it takes a little over 30 minutes without GPU assistance."
   ]
  },
  {
   "cell_type": "code",
   "execution_count": 17,
   "metadata": {
    "colab": {},
    "colab_type": "code",
    "id": "7gqziYooInL8"
   },
   "outputs": [],
   "source": [
    "received['viewed'] = check_feat(df,viewed)"
   ]
  },
  {
   "cell_type": "code",
   "execution_count": 18,
   "metadata": {
    "colab": {},
    "colab_type": "code",
    "id": "GFCG_MhQJRPh"
   },
   "outputs": [],
   "source": [
    "received['completed'] = check_feat(df,completed)"
   ]
  },
  {
   "cell_type": "code",
   "execution_count": 19,
   "metadata": {
    "colab": {
     "base_uri": "https://localhost:8080/",
     "height": 34
    },
    "colab_type": "code",
    "id": "76B9LLG0uDCx",
    "outputId": "3f53a0b5-828f-41bb-e9fb-f2608572d382"
   },
   "outputs": [
    {
     "name": "stdout",
     "output_type": "stream",
     "text": [
      "1347.445788860321\n"
     ]
    }
   ],
   "source": [
    "print(time()-t)"
   ]
  },
  {
   "cell_type": "code",
   "execution_count": 20,
   "metadata": {
    "colab": {},
    "colab_type": "code",
    "id": "zeWX7t4kqtRQ"
   },
   "outputs": [],
   "source": [
    "# anyone who completes the offer without viewing it shouldnt be counted\n",
    "received.completed *= received.viewed"
   ]
  },
  {
   "cell_type": "code",
   "execution_count": 21,
   "metadata": {
    "colab": {},
    "colab_type": "code",
    "id": "SpilD3cne-xt"
   },
   "outputs": [],
   "source": [
    "from sklearn.preprocessing import LabelEncoder"
   ]
  },
  {
   "cell_type": "code",
   "execution_count": 22,
   "metadata": {
    "colab": {},
    "colab_type": "code",
    "id": "B2wmH5qvfBz9"
   },
   "outputs": [],
   "source": [
    "labelencoder = LabelEncoder()\n",
    "received.event_id = labelencoder.fit_transform(received.event_id)"
   ]
  },
  {
   "cell_type": "code",
   "execution_count": 23,
   "metadata": {
    "colab": {
     "base_uri": "https://localhost:8080/",
     "height": 197
    },
    "colab_type": "code",
    "id": "lCvjRf9TsQ02",
    "outputId": "43b094e4-aed2-4c81-e92e-ad1e1554d8a0"
   },
   "outputs": [
    {
     "data": {
      "text/html": [
       "<div>\n",
       "<style scoped>\n",
       "    .dataframe tbody tr th:only-of-type {\n",
       "        vertical-align: middle;\n",
       "    }\n",
       "\n",
       "    .dataframe tbody tr th {\n",
       "        vertical-align: top;\n",
       "    }\n",
       "\n",
       "    .dataframe thead th {\n",
       "        text-align: right;\n",
       "    }\n",
       "</style>\n",
       "<table border=\"1\" class=\"dataframe\">\n",
       "  <thead>\n",
       "    <tr style=\"text-align: right;\">\n",
       "      <th></th>\n",
       "      <th>person</th>\n",
       "      <th>event</th>\n",
       "      <th>value</th>\n",
       "      <th>time</th>\n",
       "      <th>event_id</th>\n",
       "      <th>gender</th>\n",
       "      <th>age</th>\n",
       "      <th>became_member_on</th>\n",
       "      <th>income</th>\n",
       "      <th>reward</th>\n",
       "      <th>channels</th>\n",
       "      <th>difficulty</th>\n",
       "      <th>duration</th>\n",
       "      <th>offer_type</th>\n",
       "      <th>viewed</th>\n",
       "      <th>completed</th>\n",
       "    </tr>\n",
       "  </thead>\n",
       "  <tbody>\n",
       "    <tr>\n",
       "      <th>0</th>\n",
       "      <td>78afa995795e4d85b5d9ceeca43f5fef</td>\n",
       "      <td>offer received</td>\n",
       "      <td>{'offer id': '9b98b8c7a33c4b65b9aebfe6a799e6d9'}</td>\n",
       "      <td>0</td>\n",
       "      <td>6</td>\n",
       "      <td>F</td>\n",
       "      <td>75</td>\n",
       "      <td>2017-05-09</td>\n",
       "      <td>100,000.00</td>\n",
       "      <td>5.00</td>\n",
       "      <td>[web, email, mobile]</td>\n",
       "      <td>5.00</td>\n",
       "      <td>7.00</td>\n",
       "      <td>bogo</td>\n",
       "      <td>1</td>\n",
       "      <td>1</td>\n",
       "    </tr>\n",
       "    <tr>\n",
       "      <th>1</th>\n",
       "      <td>a03223e636434f42ac4c3df47e8bac43</td>\n",
       "      <td>offer received</td>\n",
       "      <td>{'offer id': '0b1e1539f2cc45b7b9fa7c272da2e1d7'}</td>\n",
       "      <td>0</td>\n",
       "      <td>0</td>\n",
       "      <td>None</td>\n",
       "      <td>118</td>\n",
       "      <td>2017-08-04</td>\n",
       "      <td>nan</td>\n",
       "      <td>5.00</td>\n",
       "      <td>[web, email]</td>\n",
       "      <td>20.00</td>\n",
       "      <td>10.00</td>\n",
       "      <td>discount</td>\n",
       "      <td>1</td>\n",
       "      <td>0</td>\n",
       "    </tr>\n",
       "    <tr>\n",
       "      <th>2</th>\n",
       "      <td>e2127556f4f64592b11af22de27a7932</td>\n",
       "      <td>offer received</td>\n",
       "      <td>{'offer id': '2906b810c7d4411798c6938adc9daaa5'}</td>\n",
       "      <td>0</td>\n",
       "      <td>2</td>\n",
       "      <td>M</td>\n",
       "      <td>68</td>\n",
       "      <td>2018-04-26</td>\n",
       "      <td>70,000.00</td>\n",
       "      <td>2.00</td>\n",
       "      <td>[web, email, mobile]</td>\n",
       "      <td>10.00</td>\n",
       "      <td>7.00</td>\n",
       "      <td>discount</td>\n",
       "      <td>1</td>\n",
       "      <td>0</td>\n",
       "    </tr>\n",
       "    <tr>\n",
       "      <th>3</th>\n",
       "      <td>8ec6ce2a7e7949b1bf142def7d0e0586</td>\n",
       "      <td>offer received</td>\n",
       "      <td>{'offer id': 'fafdcd668e3743c1bb461111dcafc2a4'}</td>\n",
       "      <td>0</td>\n",
       "      <td>9</td>\n",
       "      <td>None</td>\n",
       "      <td>118</td>\n",
       "      <td>2017-09-25</td>\n",
       "      <td>nan</td>\n",
       "      <td>2.00</td>\n",
       "      <td>[web, email, mobile, social]</td>\n",
       "      <td>10.00</td>\n",
       "      <td>10.00</td>\n",
       "      <td>discount</td>\n",
       "      <td>1</td>\n",
       "      <td>0</td>\n",
       "    </tr>\n",
       "    <tr>\n",
       "      <th>4</th>\n",
       "      <td>68617ca6246f4fbc85e91a2a49552598</td>\n",
       "      <td>offer received</td>\n",
       "      <td>{'offer id': '4d5c57ea9a6940dd891ad53e9dbe8da0'}</td>\n",
       "      <td>0</td>\n",
       "      <td>4</td>\n",
       "      <td>None</td>\n",
       "      <td>118</td>\n",
       "      <td>2017-10-02</td>\n",
       "      <td>nan</td>\n",
       "      <td>10.00</td>\n",
       "      <td>[web, email, mobile, social]</td>\n",
       "      <td>10.00</td>\n",
       "      <td>5.00</td>\n",
       "      <td>bogo</td>\n",
       "      <td>1</td>\n",
       "      <td>0</td>\n",
       "    </tr>\n",
       "  </tbody>\n",
       "</table>\n",
       "</div>"
      ],
      "text/plain": [
       "                             person           event  \\\n",
       "0  78afa995795e4d85b5d9ceeca43f5fef  offer received   \n",
       "1  a03223e636434f42ac4c3df47e8bac43  offer received   \n",
       "2  e2127556f4f64592b11af22de27a7932  offer received   \n",
       "3  8ec6ce2a7e7949b1bf142def7d0e0586  offer received   \n",
       "4  68617ca6246f4fbc85e91a2a49552598  offer received   \n",
       "\n",
       "                                              value  time  event_id gender  \\\n",
       "0  {'offer id': '9b98b8c7a33c4b65b9aebfe6a799e6d9'}     0         6      F   \n",
       "1  {'offer id': '0b1e1539f2cc45b7b9fa7c272da2e1d7'}     0         0   None   \n",
       "2  {'offer id': '2906b810c7d4411798c6938adc9daaa5'}     0         2      M   \n",
       "3  {'offer id': 'fafdcd668e3743c1bb461111dcafc2a4'}     0         9   None   \n",
       "4  {'offer id': '4d5c57ea9a6940dd891ad53e9dbe8da0'}     0         4   None   \n",
       "\n",
       "   age became_member_on     income  reward                      channels  \\\n",
       "0   75       2017-05-09 100,000.00    5.00          [web, email, mobile]   \n",
       "1  118       2017-08-04        nan    5.00                  [web, email]   \n",
       "2   68       2018-04-26  70,000.00    2.00          [web, email, mobile]   \n",
       "3  118       2017-09-25        nan    2.00  [web, email, mobile, social]   \n",
       "4  118       2017-10-02        nan   10.00  [web, email, mobile, social]   \n",
       "\n",
       "   difficulty  duration offer_type  viewed  completed  \n",
       "0        5.00      7.00       bogo       1          1  \n",
       "1       20.00     10.00   discount       1          0  \n",
       "2       10.00      7.00   discount       1          0  \n",
       "3       10.00     10.00   discount       1          0  \n",
       "4       10.00      5.00       bogo       1          0  "
      ]
     },
     "execution_count": 23,
     "metadata": {},
     "output_type": "execute_result"
    }
   ],
   "source": [
    "received.head()"
   ]
  },
  {
   "cell_type": "code",
   "execution_count": 24,
   "metadata": {
    "colab": {
     "base_uri": "https://localhost:8080/",
     "height": 34
    },
    "colab_type": "code",
    "id": "F--QJfK8tzWT",
    "outputId": "559a1f50-130e-498d-c66b-42b8b3d57712"
   },
   "outputs": [
    {
     "data": {
      "text/plain": [
       "numpy.datetime64('2016-05-01T00:00:00.000000000')"
      ]
     },
     "execution_count": 24,
     "metadata": {},
     "output_type": "execute_result"
    }
   ],
   "source": [
    "# find most recent start date\n",
    "date_max = received.became_member_on[received.became_member_on.argsort()==(received.shape[0]-1)].values[0]\n",
    "date_max"
   ]
  },
  {
   "cell_type": "code",
   "execution_count": 25,
   "metadata": {
    "colab": {
     "base_uri": "https://localhost:8080/",
     "height": 34
    },
    "colab_type": "code",
    "id": "00PHgBPlLE3f",
    "outputId": "cdd15c79-1de8-425b-8d9c-8655a236f419"
   },
   "outputs": [
    {
     "data": {
      "text/plain": [
       "0.36573278970069617"
      ]
     },
     "execution_count": 25,
     "metadata": {},
     "output_type": "execute_result"
    }
   ],
   "source": [
    "received.completed.mean()"
   ]
  },
  {
   "cell_type": "code",
   "execution_count": 26,
   "metadata": {
    "colab": {},
    "colab_type": "code",
    "id": "ak14xEjs-AUY"
   },
   "outputs": [],
   "source": [
    "from sklearn.impute import SimpleImputer\n",
    "from sklearn.preprocessing import OneHotEncoder\n",
    "from sklearn.preprocessing import MinMaxScaler\n",
    "from sklearn_pandas import DataFrameMapper\n",
    "from category_encoders import LeaveOneOutEncoder\n",
    "from scipy.stats import skew"
   ]
  },
  {
   "cell_type": "code",
   "execution_count": 27,
   "metadata": {
    "colab": {},
    "colab_type": "code",
    "id": "bEEi4dqSH1C5"
   },
   "outputs": [],
   "source": [
    "from sklearn.model_selection import train_test_split"
   ]
  },
  {
   "cell_type": "markdown",
   "metadata": {
    "colab_type": "text",
    "id": "olYdmv5Ya_d1"
   },
   "source": [
    "Now for some data visualization"
   ]
  },
  {
   "cell_type": "code",
   "execution_count": 28,
   "metadata": {
    "colab": {
     "base_uri": "https://localhost:8080/",
     "height": 197
    },
    "colab_type": "code",
    "id": "zHHdFopEbwY5",
    "outputId": "2d552aef-c289-4148-d5d1-702d25ca9e9e"
   },
   "outputs": [
    {
     "data": {
      "text/html": [
       "<div>\n",
       "<style scoped>\n",
       "    .dataframe tbody tr th:only-of-type {\n",
       "        vertical-align: middle;\n",
       "    }\n",
       "\n",
       "    .dataframe tbody tr th {\n",
       "        vertical-align: top;\n",
       "    }\n",
       "\n",
       "    .dataframe thead th {\n",
       "        text-align: right;\n",
       "    }\n",
       "</style>\n",
       "<table border=\"1\" class=\"dataframe\">\n",
       "  <thead>\n",
       "    <tr style=\"text-align: right;\">\n",
       "      <th></th>\n",
       "      <th>person</th>\n",
       "      <th>event</th>\n",
       "      <th>value</th>\n",
       "      <th>time</th>\n",
       "      <th>event_id</th>\n",
       "      <th>gender</th>\n",
       "      <th>age</th>\n",
       "      <th>became_member_on</th>\n",
       "      <th>income</th>\n",
       "      <th>reward</th>\n",
       "      <th>channels</th>\n",
       "      <th>difficulty</th>\n",
       "      <th>duration</th>\n",
       "      <th>offer_type</th>\n",
       "      <th>viewed</th>\n",
       "      <th>completed</th>\n",
       "    </tr>\n",
       "  </thead>\n",
       "  <tbody>\n",
       "    <tr>\n",
       "      <th>0</th>\n",
       "      <td>78afa995795e4d85b5d9ceeca43f5fef</td>\n",
       "      <td>offer received</td>\n",
       "      <td>{'offer id': '9b98b8c7a33c4b65b9aebfe6a799e6d9'}</td>\n",
       "      <td>0</td>\n",
       "      <td>6</td>\n",
       "      <td>F</td>\n",
       "      <td>75</td>\n",
       "      <td>2017-05-09</td>\n",
       "      <td>100,000.00</td>\n",
       "      <td>5.00</td>\n",
       "      <td>[web, email, mobile]</td>\n",
       "      <td>5.00</td>\n",
       "      <td>7.00</td>\n",
       "      <td>bogo</td>\n",
       "      <td>1</td>\n",
       "      <td>1</td>\n",
       "    </tr>\n",
       "    <tr>\n",
       "      <th>1</th>\n",
       "      <td>a03223e636434f42ac4c3df47e8bac43</td>\n",
       "      <td>offer received</td>\n",
       "      <td>{'offer id': '0b1e1539f2cc45b7b9fa7c272da2e1d7'}</td>\n",
       "      <td>0</td>\n",
       "      <td>0</td>\n",
       "      <td>None</td>\n",
       "      <td>118</td>\n",
       "      <td>2017-08-04</td>\n",
       "      <td>nan</td>\n",
       "      <td>5.00</td>\n",
       "      <td>[web, email]</td>\n",
       "      <td>20.00</td>\n",
       "      <td>10.00</td>\n",
       "      <td>discount</td>\n",
       "      <td>1</td>\n",
       "      <td>0</td>\n",
       "    </tr>\n",
       "    <tr>\n",
       "      <th>2</th>\n",
       "      <td>e2127556f4f64592b11af22de27a7932</td>\n",
       "      <td>offer received</td>\n",
       "      <td>{'offer id': '2906b810c7d4411798c6938adc9daaa5'}</td>\n",
       "      <td>0</td>\n",
       "      <td>2</td>\n",
       "      <td>M</td>\n",
       "      <td>68</td>\n",
       "      <td>2018-04-26</td>\n",
       "      <td>70,000.00</td>\n",
       "      <td>2.00</td>\n",
       "      <td>[web, email, mobile]</td>\n",
       "      <td>10.00</td>\n",
       "      <td>7.00</td>\n",
       "      <td>discount</td>\n",
       "      <td>1</td>\n",
       "      <td>0</td>\n",
       "    </tr>\n",
       "    <tr>\n",
       "      <th>3</th>\n",
       "      <td>8ec6ce2a7e7949b1bf142def7d0e0586</td>\n",
       "      <td>offer received</td>\n",
       "      <td>{'offer id': 'fafdcd668e3743c1bb461111dcafc2a4'}</td>\n",
       "      <td>0</td>\n",
       "      <td>9</td>\n",
       "      <td>None</td>\n",
       "      <td>118</td>\n",
       "      <td>2017-09-25</td>\n",
       "      <td>nan</td>\n",
       "      <td>2.00</td>\n",
       "      <td>[web, email, mobile, social]</td>\n",
       "      <td>10.00</td>\n",
       "      <td>10.00</td>\n",
       "      <td>discount</td>\n",
       "      <td>1</td>\n",
       "      <td>0</td>\n",
       "    </tr>\n",
       "    <tr>\n",
       "      <th>4</th>\n",
       "      <td>68617ca6246f4fbc85e91a2a49552598</td>\n",
       "      <td>offer received</td>\n",
       "      <td>{'offer id': '4d5c57ea9a6940dd891ad53e9dbe8da0'}</td>\n",
       "      <td>0</td>\n",
       "      <td>4</td>\n",
       "      <td>None</td>\n",
       "      <td>118</td>\n",
       "      <td>2017-10-02</td>\n",
       "      <td>nan</td>\n",
       "      <td>10.00</td>\n",
       "      <td>[web, email, mobile, social]</td>\n",
       "      <td>10.00</td>\n",
       "      <td>5.00</td>\n",
       "      <td>bogo</td>\n",
       "      <td>1</td>\n",
       "      <td>0</td>\n",
       "    </tr>\n",
       "  </tbody>\n",
       "</table>\n",
       "</div>"
      ],
      "text/plain": [
       "                             person           event  \\\n",
       "0  78afa995795e4d85b5d9ceeca43f5fef  offer received   \n",
       "1  a03223e636434f42ac4c3df47e8bac43  offer received   \n",
       "2  e2127556f4f64592b11af22de27a7932  offer received   \n",
       "3  8ec6ce2a7e7949b1bf142def7d0e0586  offer received   \n",
       "4  68617ca6246f4fbc85e91a2a49552598  offer received   \n",
       "\n",
       "                                              value  time  event_id gender  \\\n",
       "0  {'offer id': '9b98b8c7a33c4b65b9aebfe6a799e6d9'}     0         6      F   \n",
       "1  {'offer id': '0b1e1539f2cc45b7b9fa7c272da2e1d7'}     0         0   None   \n",
       "2  {'offer id': '2906b810c7d4411798c6938adc9daaa5'}     0         2      M   \n",
       "3  {'offer id': 'fafdcd668e3743c1bb461111dcafc2a4'}     0         9   None   \n",
       "4  {'offer id': '4d5c57ea9a6940dd891ad53e9dbe8da0'}     0         4   None   \n",
       "\n",
       "   age became_member_on     income  reward                      channels  \\\n",
       "0   75       2017-05-09 100,000.00    5.00          [web, email, mobile]   \n",
       "1  118       2017-08-04        nan    5.00                  [web, email]   \n",
       "2   68       2018-04-26  70,000.00    2.00          [web, email, mobile]   \n",
       "3  118       2017-09-25        nan    2.00  [web, email, mobile, social]   \n",
       "4  118       2017-10-02        nan   10.00  [web, email, mobile, social]   \n",
       "\n",
       "   difficulty  duration offer_type  viewed  completed  \n",
       "0        5.00      7.00       bogo       1          1  \n",
       "1       20.00     10.00   discount       1          0  \n",
       "2       10.00      7.00   discount       1          0  \n",
       "3       10.00     10.00   discount       1          0  \n",
       "4       10.00      5.00       bogo       1          0  "
      ]
     },
     "execution_count": 28,
     "metadata": {},
     "output_type": "execute_result"
    }
   ],
   "source": [
    "received.head()"
   ]
  },
  {
   "cell_type": "code",
   "execution_count": 29,
   "metadata": {
    "colab": {
     "base_uri": "https://localhost:8080/",
     "height": 34
    },
    "colab_type": "code",
    "id": "FGOzjOCnXFnh",
    "outputId": "0fdec8ad-e3b7-43aa-ef89-049f256ac7d0"
   },
   "outputs": [
    {
     "data": {
      "text/plain": [
       "120000.0"
      ]
     },
     "execution_count": 29,
     "metadata": {},
     "output_type": "execute_result"
    }
   ],
   "source": [
    "received.income.max()"
   ]
  },
  {
   "cell_type": "code",
   "execution_count": 30,
   "metadata": {
    "colab": {
     "base_uri": "https://localhost:8080/",
     "height": 247
    },
    "colab_type": "code",
    "id": "9qxz21N04LqX",
    "outputId": "7434ed68-1a0e-45fc-e418-3c07ad478f52"
   },
   "outputs": [
    {
     "data": {
      "text/plain": [
       "0         Yes\n",
       "1          No\n",
       "2          No\n",
       "3          No\n",
       "4          No\n",
       "         ... \n",
       "257882    Yes\n",
       "257883     No\n",
       "257884     No\n",
       "257885    Yes\n",
       "257886     No\n",
       "Name: completed, Length: 76277, dtype: category\n",
       "Categories (2, object): ['No', 'Yes']"
      ]
     },
     "execution_count": 30,
     "metadata": {},
     "output_type": "execute_result"
    }
   ],
   "source": [
    "completed_series = received.completed.astype('category').cat.rename_categories(['No','Yes'])\n",
    "completed_series"
   ]
  },
  {
   "cell_type": "code",
   "execution_count": 31,
   "metadata": {
    "colab": {
     "base_uri": "https://localhost:8080/",
     "height": 310
    },
    "colab_type": "code",
    "id": "NEh0UQYV-FM-",
    "outputId": "0296ca98-ba8b-47ce-bf48-917fe8c1a855"
   },
   "outputs": [
    {
     "data": {
      "image/png": "[encoded data removed]",
      "text/plain": [
       "<Figure size 576x504 with 1 Axes>"
      ]
     },
     "metadata": {},
     "output_type": "display_data"
    }
   ],
   "source": [
    "plt.title('Income distribution in dataset\\n'\n",
    "'Income skewness: {:.2f}'.format(received.income.skew()))\n",
    "fig = sns.countplot(pd.cut(received.income,bins=[30000,50000,70000,90000,120000],\n",
    "              labels=['average','middle-high','high','rich']),\n",
    "              hue=completed_series,palette=['r','#00ff00'])"
   ]
  },
  {
   "cell_type": "markdown",
   "metadata": {
    "colab_type": "text",
    "id": "Btt52qnwaEXt"
   },
   "source": [
    "It looks like the higher a person's income, the more likely they are to use a coupon after viewing it"
   ]
  },
  {
   "cell_type": "code",
   "execution_count": 32,
   "metadata": {
    "colab": {
     "base_uri": "https://localhost:8080/",
     "height": 176
    },
    "colab_type": "code",
    "id": "wPNeEe9hUrUN",
    "outputId": "b9bb0b32-4a53-4c8b-fa4f-5b3d94ae4129"
   },
   "outputs": [
    {
     "data": {
      "text/plain": [
       "count    66,501.00\n",
       "mean     65,371.62\n",
       "std      21,623.29\n",
       "min      30,000.00\n",
       "25%      49,000.00\n",
       "50%      64,000.00\n",
       "75%      80,000.00\n",
       "max     120,000.00\n",
       "Name: income, dtype: float64"
      ]
     },
     "execution_count": 32,
     "metadata": {},
     "output_type": "execute_result"
    }
   ],
   "source": [
    "received['income'].describe()"
   ]
  },
  {
   "cell_type": "code",
   "execution_count": 33,
   "metadata": {
    "colab": {
     "base_uri": "https://localhost:8080/",
     "height": 294
    },
    "colab_type": "code",
    "id": "1LH-rYajgezS",
    "outputId": "4dc1987d-7961-48ae-919a-9383ef1c005c"
   },
   "outputs": [
    {
     "data": {
      "image/png": "[encoded data removed]",
      "text/plain": [
       "<Figure size 576x504 with 1 Axes>"
      ]
     },
     "metadata": {},
     "output_type": "display_data"
    }
   ],
   "source": [
    "plt.title('Gender frequency in dataset')\n",
    "fig = sns.countplot(x=received.gender,hue=completed_series,palette=['r','#00ff00']);"
   ]
  },
  {
   "cell_type": "code",
   "execution_count": 34,
   "metadata": {
    "colab": {
     "base_uri": "https://localhost:8080/",
     "height": 294
    },
    "colab_type": "code",
    "id": "6JW_fRHQg0XZ",
    "outputId": "b902a070-bd16-41ae-a6d9-70d66d8d418a"
   },
   "outputs": [
    {
     "data": {
      "image/png": "[encoded data removed]",
      "text/plain": [
       "<Figure size 576x504 with 1 Axes>"
      ]
     },
     "metadata": {},
     "output_type": "display_data"
    }
   ],
   "source": [
    "plt.title('Received Coupons by Age')\n",
    "fig = sns.countplot(x=pd.cut(received.age,bins=[17,22,30,40,60,118],\n",
    "        labels=['college age','young adult','adult','middle age','elderly']),\n",
    "        hue=completed_series, palette=['r','#00ff00'])"
   ]
  },
  {
   "cell_type": "code",
   "execution_count": 35,
   "metadata": {
    "colab": {
     "base_uri": "https://localhost:8080/",
     "height": 281
    },
    "colab_type": "code",
    "id": "7vKql0erlRre",
    "outputId": "f92704d6-f31b-4691-bddf-90a8459558f2"
   },
   "outputs": [
    {
     "data": {
      "image/png": "[encoded data removed]",
      "text/plain": [
       "<Figure size 576x504 with 1 Axes>"
      ]
     },
     "metadata": {},
     "output_type": "display_data"
    }
   ],
   "source": [
    "# now check the ages of people who complete these coupons\n",
    "plt.title('Completed Coupons by Age')\n",
    "received[completed_series=='Yes'].age.hist(color='b');"
   ]
  },
  {
   "cell_type": "code",
   "execution_count": 36,
   "metadata": {
    "colab": {
     "base_uri": "https://localhost:8080/",
     "height": 281
    },
    "colab_type": "code",
    "id": "KPwv_e12qUL6",
    "outputId": "2399ad03-a526-4c65-9483-b6724993f01c"
   },
   "outputs": [
    {
     "data": {
      "image/png": "[encoded data removed]",
      "text/plain": [
       "<Figure size 576x504 with 1 Axes>"
      ]
     },
     "metadata": {},
     "output_type": "display_data"
    }
   ],
   "source": [
    "kde_df = pd.DataFrame({\n",
    "    'Only_Viewed':received[received.completed==0].age,\n",
    "    'Completed':received[received.completed==1].age\n",
    "}).plot.kde(title='KDE for age',color=['#ee1111','g']);"
   ]
  },
  {
   "cell_type": "markdown",
   "metadata": {
    "colab_type": "text",
    "id": "mI-riGJhg5aN"
   },
   "source": [
    "Surprisingly, the age of a customer doesnt seem to have much impact on whether they redeem their coupon.\n",
    "But, we have a large number of people at the maximum age. Let's look closer."
   ]
  },
  {
   "cell_type": "code",
   "execution_count": 37,
   "metadata": {
    "colab": {
     "base_uri": "https://localhost:8080/",
     "height": 441
    },
    "colab_type": "code",
    "id": "ZhxqYcvaugnj",
    "outputId": "ffcf71fa-7ff0-4e30-db1a-e5af609f9629"
   },
   "outputs": [
    {
     "data": {
      "image/png": "[encoded data removed]",
      "text/plain": [
       "<Figure size 576x432 with 1 Axes>"
      ]
     },
     "metadata": {},
     "output_type": "display_data"
    }
   ],
   "source": [
    "plt.figure(figsize=(8,6))\n",
    "\n",
    "fig = sns.countplot(x=completed_series,\n",
    "                    hue=received['offer_type'],\n",
    "                    palette=['red','green','blue'],\n",
    "                    ).set_title('Offers completed')\n",
    "plt.tight_layout()"
   ]
  },
  {
   "cell_type": "code",
   "execution_count": 38,
   "metadata": {
    "colab": {
     "base_uri": "https://localhost:8080/",
     "height": 52
    },
    "colab_type": "code",
    "id": "kxXdPgIZu29I",
    "outputId": "4a5d0118-a115-4918-f6ec-ee7ea274dd91"
   },
   "outputs": [
    {
     "data": {
      "text/plain": [
       "0    15235\n",
       "Name: completed, dtype: int64"
      ]
     },
     "execution_count": 38,
     "metadata": {},
     "output_type": "execute_result"
    }
   ],
   "source": [
    "received[received.offer_type=='informational'].completed.value_counts()"
   ]
  },
  {
   "cell_type": "markdown",
   "metadata": {
    "colab_type": "text",
    "id": "dcknSRwLvZvb"
   },
   "source": [
    "All informational offers are not completed. We should drop this when cleaning for prediction"
   ]
  },
  {
   "cell_type": "code",
   "execution_count": 39,
   "metadata": {
    "colab": {
     "base_uri": "https://localhost:8080/",
     "height": 197
    },
    "colab_type": "code",
    "id": "0cdMYavMfyX0",
    "outputId": "20ef2f4f-21f3-4e35-96c9-b944e15b9efc"
   },
   "outputs": [
    {
     "data": {
      "text/html": [
       "<div>\n",
       "<style scoped>\n",
       "    .dataframe tbody tr th:only-of-type {\n",
       "        vertical-align: middle;\n",
       "    }\n",
       "\n",
       "    .dataframe tbody tr th {\n",
       "        vertical-align: top;\n",
       "    }\n",
       "\n",
       "    .dataframe thead th {\n",
       "        text-align: right;\n",
       "    }\n",
       "</style>\n",
       "<table border=\"1\" class=\"dataframe\">\n",
       "  <thead>\n",
       "    <tr style=\"text-align: right;\">\n",
       "      <th></th>\n",
       "      <th>person</th>\n",
       "      <th>event</th>\n",
       "      <th>value</th>\n",
       "      <th>time</th>\n",
       "      <th>event_id</th>\n",
       "      <th>gender</th>\n",
       "      <th>age</th>\n",
       "      <th>became_member_on</th>\n",
       "      <th>income</th>\n",
       "      <th>reward</th>\n",
       "      <th>channels</th>\n",
       "      <th>difficulty</th>\n",
       "      <th>duration</th>\n",
       "      <th>offer_type</th>\n",
       "      <th>viewed</th>\n",
       "      <th>completed</th>\n",
       "    </tr>\n",
       "  </thead>\n",
       "  <tbody>\n",
       "    <tr>\n",
       "      <th>1</th>\n",
       "      <td>a03223e636434f42ac4c3df47e8bac43</td>\n",
       "      <td>offer received</td>\n",
       "      <td>{'offer id': '0b1e1539f2cc45b7b9fa7c272da2e1d7'}</td>\n",
       "      <td>0</td>\n",
       "      <td>0</td>\n",
       "      <td>None</td>\n",
       "      <td>118</td>\n",
       "      <td>2017-08-04</td>\n",
       "      <td>nan</td>\n",
       "      <td>5.00</td>\n",
       "      <td>[web, email]</td>\n",
       "      <td>20.00</td>\n",
       "      <td>10.00</td>\n",
       "      <td>discount</td>\n",
       "      <td>1</td>\n",
       "      <td>0</td>\n",
       "    </tr>\n",
       "    <tr>\n",
       "      <th>3</th>\n",
       "      <td>8ec6ce2a7e7949b1bf142def7d0e0586</td>\n",
       "      <td>offer received</td>\n",
       "      <td>{'offer id': 'fafdcd668e3743c1bb461111dcafc2a4'}</td>\n",
       "      <td>0</td>\n",
       "      <td>9</td>\n",
       "      <td>None</td>\n",
       "      <td>118</td>\n",
       "      <td>2017-09-25</td>\n",
       "      <td>nan</td>\n",
       "      <td>2.00</td>\n",
       "      <td>[web, email, mobile, social]</td>\n",
       "      <td>10.00</td>\n",
       "      <td>10.00</td>\n",
       "      <td>discount</td>\n",
       "      <td>1</td>\n",
       "      <td>0</td>\n",
       "    </tr>\n",
       "    <tr>\n",
       "      <th>4</th>\n",
       "      <td>68617ca6246f4fbc85e91a2a49552598</td>\n",
       "      <td>offer received</td>\n",
       "      <td>{'offer id': '4d5c57ea9a6940dd891ad53e9dbe8da0'}</td>\n",
       "      <td>0</td>\n",
       "      <td>4</td>\n",
       "      <td>None</td>\n",
       "      <td>118</td>\n",
       "      <td>2017-10-02</td>\n",
       "      <td>nan</td>\n",
       "      <td>10.00</td>\n",
       "      <td>[web, email, mobile, social]</td>\n",
       "      <td>10.00</td>\n",
       "      <td>5.00</td>\n",
       "      <td>bogo</td>\n",
       "      <td>1</td>\n",
       "      <td>0</td>\n",
       "    </tr>\n",
       "    <tr>\n",
       "      <th>6</th>\n",
       "      <td>c4863c7985cf408faee930f111475da3</td>\n",
       "      <td>offer received</td>\n",
       "      <td>{'offer id': '2298d6c36e964ae4a3e7e9706d1fb8c2'}</td>\n",
       "      <td>0</td>\n",
       "      <td>1</td>\n",
       "      <td>None</td>\n",
       "      <td>118</td>\n",
       "      <td>2017-08-24</td>\n",
       "      <td>nan</td>\n",
       "      <td>3.00</td>\n",
       "      <td>[web, email, mobile, social]</td>\n",
       "      <td>7.00</td>\n",
       "      <td>7.00</td>\n",
       "      <td>discount</td>\n",
       "      <td>1</td>\n",
       "      <td>0</td>\n",
       "    </tr>\n",
       "    <tr>\n",
       "      <th>10</th>\n",
       "      <td>744d603ef08c4f33af5a61c8c7628d1c</td>\n",
       "      <td>offer received</td>\n",
       "      <td>{'offer id': '0b1e1539f2cc45b7b9fa7c272da2e1d7'}</td>\n",
       "      <td>0</td>\n",
       "      <td>0</td>\n",
       "      <td>None</td>\n",
       "      <td>118</td>\n",
       "      <td>2017-08-01</td>\n",
       "      <td>nan</td>\n",
       "      <td>5.00</td>\n",
       "      <td>[web, email]</td>\n",
       "      <td>20.00</td>\n",
       "      <td>10.00</td>\n",
       "      <td>discount</td>\n",
       "      <td>1</td>\n",
       "      <td>0</td>\n",
       "    </tr>\n",
       "  </tbody>\n",
       "</table>\n",
       "</div>"
      ],
      "text/plain": [
       "                              person           event  \\\n",
       "1   a03223e636434f42ac4c3df47e8bac43  offer received   \n",
       "3   8ec6ce2a7e7949b1bf142def7d0e0586  offer received   \n",
       "4   68617ca6246f4fbc85e91a2a49552598  offer received   \n",
       "6   c4863c7985cf408faee930f111475da3  offer received   \n",
       "10  744d603ef08c4f33af5a61c8c7628d1c  offer received   \n",
       "\n",
       "                                               value  time  event_id gender  \\\n",
       "1   {'offer id': '0b1e1539f2cc45b7b9fa7c272da2e1d7'}     0         0   None   \n",
       "3   {'offer id': 'fafdcd668e3743c1bb461111dcafc2a4'}     0         9   None   \n",
       "4   {'offer id': '4d5c57ea9a6940dd891ad53e9dbe8da0'}     0         4   None   \n",
       "6   {'offer id': '2298d6c36e964ae4a3e7e9706d1fb8c2'}     0         1   None   \n",
       "10  {'offer id': '0b1e1539f2cc45b7b9fa7c272da2e1d7'}     0         0   None   \n",
       "\n",
       "    age became_member_on  income  reward                      channels  \\\n",
       "1   118       2017-08-04     nan    5.00                  [web, email]   \n",
       "3   118       2017-09-25     nan    2.00  [web, email, mobile, social]   \n",
       "4   118       2017-10-02     nan   10.00  [web, email, mobile, social]   \n",
       "6   118       2017-08-24     nan    3.00  [web, email, mobile, social]   \n",
       "10  118       2017-08-01     nan    5.00                  [web, email]   \n",
       "\n",
       "    difficulty  duration offer_type  viewed  completed  \n",
       "1        20.00     10.00   discount       1          0  \n",
       "3        10.00     10.00   discount       1          0  \n",
       "4        10.00      5.00       bogo       1          0  \n",
       "6         7.00      7.00   discount       1          0  \n",
       "10       20.00     10.00   discount       1          0  "
      ]
     },
     "execution_count": 39,
     "metadata": {},
     "output_type": "execute_result"
    }
   ],
   "source": [
    "received[received['age']==118].head()"
   ]
  },
  {
   "cell_type": "markdown",
   "metadata": {
    "colab_type": "text",
    "id": "KYnkZho8f9TP"
   },
   "source": [
    "age 118 seems to have errors with its data collection. All income is NaN and all gender is None. Drop these rows."
   ]
  },
  {
   "cell_type": "code",
   "execution_count": 40,
   "metadata": {
    "colab": {
     "base_uri": "https://localhost:8080/",
     "height": 176
    },
    "colab_type": "code",
    "id": "kNs4AdhLZVZt",
    "outputId": "bb30c639-bdd7-40e1-ddff-173d545bff55"
   },
   "outputs": [
    {
     "data": {
      "text/plain": [
       "count   66,501.00\n",
       "mean        54.37\n",
       "std         17.40\n",
       "min         18.00\n",
       "25%         42.00\n",
       "50%         55.00\n",
       "75%         66.00\n",
       "max        101.00\n",
       "Name: age, dtype: float64"
      ]
     },
     "execution_count": 40,
     "metadata": {},
     "output_type": "execute_result"
    }
   ],
   "source": [
    "received[received['age']!=118]['age'].describe()"
   ]
  },
  {
   "cell_type": "code",
   "execution_count": 41,
   "metadata": {
    "colab": {
     "base_uri": "https://localhost:8080/",
     "height": 34
    },
    "colab_type": "code",
    "id": "Vt0cBbBFk805",
    "outputId": "77c8c027-6c5e-4429-c972-0f47244b0f12"
   },
   "outputs": [
    {
     "data": {
      "text/plain": [
       "array(['bogo', 'discount', 'informational'], dtype=object)"
      ]
     },
     "execution_count": 41,
     "metadata": {},
     "output_type": "execute_result"
    }
   ],
   "source": [
    "received.offer_type.unique()"
   ]
  },
  {
   "cell_type": "code",
   "execution_count": 42,
   "metadata": {
    "colab": {},
    "colab_type": "code",
    "id": "8xl8UexlLGam"
   },
   "outputs": [],
   "source": [
    "def clean_dataframe(df:pd.DataFrame) :\n",
    "    \"\"\"\n",
    "    clean a dataframe\n",
    "    :param df: dataframe to be cleaned\n",
    "    :return: cleaned dataframe\n",
    "    \"\"\"\n",
    "    age_imputer = SimpleImputer()\n",
    "    income_imputer = SimpleImputer()\n",
    "    age_min_max_scaler = MinMaxScaler()\n",
    "    year_min_max_scaler = MinMaxScaler()\n",
    "    month_min_max_scaler = MinMaxScaler()\n",
    "    day_min_max_scaler = MinMaxScaler()\n",
    "    time_min_max_scaler = MinMaxScaler()\n",
    "    channels_min_max_scaler = MinMaxScaler()\n",
    "    difficulty_min_max_scaler = MinMaxScaler()\n",
    "    duration_min_max_scaler = MinMaxScaler()\n",
    "    reward_min_max_scaler = MinMaxScaler()\n",
    "    income_min_max_scaler = MinMaxScaler()\n",
    "    leave_one_out = LeaveOneOutEncoder()\n",
    "    member_min_max_scaler = MinMaxScaler()\n",
    "\n",
    "    df = df.copy()\n",
    "\n",
    "    # drop all informational events because they cant be completed\n",
    "    df = df[df.offer_type != 'informational']\n",
    "    df['bogo'] = df.offer_type.apply(\n",
    "        lambda x: x == 'bogo'\n",
    "    ).astype(int)\n",
    "\n",
    "    df['female'] = df['gender'].apply(lambda x : x=='F').astype(int)\n",
    "    df['other'] = df['gender'].apply(lambda x : x=='O').astype(int)\n",
    "    # I dont know many 118 year old people with smartphones, \n",
    "    # but I know a lot of < 118 people who lie\n",
    "    df = df[df['age']!=118]\n",
    "    df = df[df['viewed']==1]\n",
    "\n",
    "    df['member_for_days'] = df['became_member_on'].apply(\n",
    "        lambda x: (date_max - x).days\n",
    "    )\n",
    "\n",
    "    # completion only counts if they know about it\n",
    "    df = df[df['viewed']==1]\n",
    "\n",
    "    df['num_channels'] = df['channels'].apply(lambda x: len(str(x).split(','))/4)\n",
    "\n",
    "    df['channel_social'] = df['channels'].apply(lambda x: 'social' in str(x)).astype(int)\n",
    "    df['channel_mobile'] = df['channels'].apply(lambda x: 'mobile' in str(x)).astype(int)\n",
    "    df['channel_web'] = df['channels'].apply(lambda x: 'web' in str(x)).astype(int)\n",
    "\n",
    "    mapper = DataFrameMapper([\n",
    "        (['bogo'],None),\n",
    "        (['female'],None),\n",
    "        (['other'],None),\n",
    "        (['reward'],[reward_min_max_scaler]),\n",
    "        (['event_id'],None),\n",
    "        (['num_channels'],None),\n",
    "        (['age'], [age_imputer, age_min_max_scaler], {'alias':'age_scaled'}),\n",
    "        (['income'],[income_imputer,income_min_max_scaler],{'alias':'income_scaled'}),\n",
    "        (['member_for_days'],[member_min_max_scaler]),\n",
    "        (['difficulty'],[difficulty_min_max_scaler],{'alias':'difficulty_scaled'}),\n",
    "        (['duration'],[duration_min_max_scaler],{'alias':'duration_scaled'})\n",
    "    ],df_out=True)\n",
    "\n",
    "    y = df.pop('completed')\n",
    "    mapper.fit(X=df,y=y)\n",
    "    X = mapper.transform(X=df)\n",
    "    df = pd.concat([X,y],axis=1).rename(columns={\n",
    "        'offer_type_x0_bogo':'bogo',\n",
    "        'offer_type_x0_discount':'discount',\n",
    "        'offer_type_x0_informational':'informational'})\n",
    "    return df,mapper # return mapper for easy mapping future test data"
   ]
  },
  {
   "cell_type": "code",
   "execution_count": 43,
   "metadata": {
    "colab": {},
    "colab_type": "code",
    "id": "94sswL51Rvvv"
   },
   "outputs": [],
   "source": [
    "def add_feats(df) :\n",
    "    scale_cols = ['reward','age_scaled','income_scaled']\n",
    "    for col in scale_cols :\n",
    "        df[col+'_2'] = df[col]**2\n",
    "\n",
    "    return df"
   ]
  },
  {
   "cell_type": "code",
   "execution_count": 44,
   "metadata": {
    "colab": {
     "base_uri": "https://localhost:8080/",
     "height": 197
    },
    "colab_type": "code",
    "id": "zXWRJxE29aOl",
    "outputId": "59f24ded-bff5-495a-c2a7-b12bb6826a0a"
   },
   "outputs": [
    {
     "data": {
      "text/html": [
       "<div>\n",
       "<style scoped>\n",
       "    .dataframe tbody tr th:only-of-type {\n",
       "        vertical-align: middle;\n",
       "    }\n",
       "\n",
       "    .dataframe tbody tr th {\n",
       "        vertical-align: top;\n",
       "    }\n",
       "\n",
       "    .dataframe thead th {\n",
       "        text-align: right;\n",
       "    }\n",
       "</style>\n",
       "<table border=\"1\" class=\"dataframe\">\n",
       "  <thead>\n",
       "    <tr style=\"text-align: right;\">\n",
       "      <th></th>\n",
       "      <th>bogo</th>\n",
       "      <th>female</th>\n",
       "      <th>other</th>\n",
       "      <th>reward</th>\n",
       "      <th>event_id</th>\n",
       "      <th>num_channels</th>\n",
       "      <th>age_scaled</th>\n",
       "      <th>income_scaled</th>\n",
       "      <th>member_for_days</th>\n",
       "      <th>difficulty_scaled</th>\n",
       "      <th>duration_scaled</th>\n",
       "      <th>completed</th>\n",
       "      <th>reward_2</th>\n",
       "      <th>age_scaled_2</th>\n",
       "      <th>income_scaled_2</th>\n",
       "    </tr>\n",
       "  </thead>\n",
       "  <tbody>\n",
       "    <tr>\n",
       "      <th>0</th>\n",
       "      <td>1</td>\n",
       "      <td>1</td>\n",
       "      <td>0</td>\n",
       "      <td>0.38</td>\n",
       "      <td>6</td>\n",
       "      <td>0.75</td>\n",
       "      <td>0.69</td>\n",
       "      <td>0.78</td>\n",
       "      <td>0.24</td>\n",
       "      <td>0.00</td>\n",
       "      <td>0.40</td>\n",
       "      <td>1</td>\n",
       "      <td>0.14</td>\n",
       "      <td>0.47</td>\n",
       "      <td>0.60</td>\n",
       "    </tr>\n",
       "    <tr>\n",
       "      <th>2</th>\n",
       "      <td>0</td>\n",
       "      <td>0</td>\n",
       "      <td>0</td>\n",
       "      <td>0.00</td>\n",
       "      <td>2</td>\n",
       "      <td>0.75</td>\n",
       "      <td>0.60</td>\n",
       "      <td>0.44</td>\n",
       "      <td>0.05</td>\n",
       "      <td>0.33</td>\n",
       "      <td>0.40</td>\n",
       "      <td>0</td>\n",
       "      <td>0.00</td>\n",
       "      <td>0.36</td>\n",
       "      <td>0.20</td>\n",
       "    </tr>\n",
       "    <tr>\n",
       "      <th>5</th>\n",
       "      <td>1</td>\n",
       "      <td>0</td>\n",
       "      <td>0</td>\n",
       "      <td>0.38</td>\n",
       "      <td>8</td>\n",
       "      <td>1.00</td>\n",
       "      <td>0.57</td>\n",
       "      <td>0.26</td>\n",
       "      <td>0.09</td>\n",
       "      <td>0.00</td>\n",
       "      <td>0.00</td>\n",
       "      <td>1</td>\n",
       "      <td>0.14</td>\n",
       "      <td>0.32</td>\n",
       "      <td>0.07</td>\n",
       "    </tr>\n",
       "    <tr>\n",
       "      <th>8</th>\n",
       "      <td>0</td>\n",
       "      <td>1</td>\n",
       "      <td>0</td>\n",
       "      <td>0.38</td>\n",
       "      <td>0</td>\n",
       "      <td>0.50</td>\n",
       "      <td>0.52</td>\n",
       "      <td>0.30</td>\n",
       "      <td>0.17</td>\n",
       "      <td>1.00</td>\n",
       "      <td>1.00</td>\n",
       "      <td>0</td>\n",
       "      <td>0.14</td>\n",
       "      <td>0.27</td>\n",
       "      <td>0.09</td>\n",
       "    </tr>\n",
       "    <tr>\n",
       "      <th>9</th>\n",
       "      <td>0</td>\n",
       "      <td>1</td>\n",
       "      <td>0</td>\n",
       "      <td>0.38</td>\n",
       "      <td>0</td>\n",
       "      <td>0.50</td>\n",
       "      <td>0.53</td>\n",
       "      <td>0.46</td>\n",
       "      <td>0.49</td>\n",
       "      <td>1.00</td>\n",
       "      <td>1.00</td>\n",
       "      <td>0</td>\n",
       "      <td>0.14</td>\n",
       "      <td>0.28</td>\n",
       "      <td>0.21</td>\n",
       "    </tr>\n",
       "  </tbody>\n",
       "</table>\n",
       "</div>"
      ],
      "text/plain": [
       "   bogo  female  other  reward  event_id  num_channels  age_scaled  \\\n",
       "0     1       1      0    0.38         6          0.75        0.69   \n",
       "2     0       0      0    0.00         2          0.75        0.60   \n",
       "5     1       0      0    0.38         8          1.00        0.57   \n",
       "8     0       1      0    0.38         0          0.50        0.52   \n",
       "9     0       1      0    0.38         0          0.50        0.53   \n",
       "\n",
       "   income_scaled  member_for_days  difficulty_scaled  duration_scaled  \\\n",
       "0           0.78             0.24               0.00             0.40   \n",
       "2           0.44             0.05               0.33             0.40   \n",
       "5           0.26             0.09               0.00             0.00   \n",
       "8           0.30             0.17               1.00             1.00   \n",
       "9           0.46             0.49               1.00             1.00   \n",
       "\n",
       "   completed  reward_2  age_scaled_2  income_scaled_2  \n",
       "0          1      0.14          0.47             0.60  \n",
       "2          0      0.00          0.36             0.20  \n",
       "5          1      0.14          0.32             0.07  \n",
       "8          0      0.14          0.27             0.09  \n",
       "9          0      0.14          0.28             0.21  "
      ]
     },
     "execution_count": 44,
     "metadata": {},
     "output_type": "execute_result"
    }
   ],
   "source": [
    "df_clean,mapper = clean_dataframe(received)\n",
    "df_clean = add_feats(df_clean)\n",
    "df_clean.head()"
   ]
  },
  {
   "cell_type": "markdown",
   "metadata": {
    "colab_type": "text",
    "id": "BcHSKINsdo6N"
   },
   "source": [
    "More data visualization"
   ]
  },
  {
   "cell_type": "code",
   "execution_count": 45,
   "metadata": {
    "colab": {},
    "colab_type": "code",
    "id": "xaafWOMwALWU"
   },
   "outputs": [],
   "source": [
    "X_train,X_test,y_train,y_test = train_test_split(df_clean.drop(columns=['completed']),df_clean['completed'],test_size=.2)"
   ]
  },
  {
   "cell_type": "code",
   "execution_count": 46,
   "metadata": {
    "colab": {
     "base_uri": "https://localhost:8080/",
     "height": 197
    },
    "colab_type": "code",
    "id": "eK2hPWmD7zJp",
    "outputId": "dc3a8433-20fe-4fbd-91e3-c360fff0ac52"
   },
   "outputs": [
    {
     "data": {
      "text/html": [
       "<div>\n",
       "<style scoped>\n",
       "    .dataframe tbody tr th:only-of-type {\n",
       "        vertical-align: middle;\n",
       "    }\n",
       "\n",
       "    .dataframe tbody tr th {\n",
       "        vertical-align: top;\n",
       "    }\n",
       "\n",
       "    .dataframe thead th {\n",
       "        text-align: right;\n",
       "    }\n",
       "</style>\n",
       "<table border=\"1\" class=\"dataframe\">\n",
       "  <thead>\n",
       "    <tr style=\"text-align: right;\">\n",
       "      <th></th>\n",
       "      <th>completed</th>\n",
       "      <th>bogo</th>\n",
       "      <th>female</th>\n",
       "      <th>other</th>\n",
       "      <th>reward</th>\n",
       "      <th>event_id</th>\n",
       "      <th>num_channels</th>\n",
       "      <th>age_scaled</th>\n",
       "      <th>income_scaled</th>\n",
       "      <th>member_for_days</th>\n",
       "      <th>difficulty_scaled</th>\n",
       "      <th>duration_scaled</th>\n",
       "      <th>reward_2</th>\n",
       "      <th>age_scaled_2</th>\n",
       "      <th>income_scaled_2</th>\n",
       "    </tr>\n",
       "  </thead>\n",
       "  <tbody>\n",
       "    <tr>\n",
       "      <th>252071</th>\n",
       "      <td>0</td>\n",
       "      <td>0</td>\n",
       "      <td>0</td>\n",
       "      <td>0</td>\n",
       "      <td>0.12</td>\n",
       "      <td>1</td>\n",
       "      <td>1.00</td>\n",
       "      <td>0.43</td>\n",
       "      <td>0.34</td>\n",
       "      <td>0.10</td>\n",
       "      <td>0.13</td>\n",
       "      <td>0.40</td>\n",
       "      <td>0.02</td>\n",
       "      <td>0.19</td>\n",
       "      <td>0.12</td>\n",
       "    </tr>\n",
       "    <tr>\n",
       "      <th>9744</th>\n",
       "      <td>1</td>\n",
       "      <td>1</td>\n",
       "      <td>0</td>\n",
       "      <td>0</td>\n",
       "      <td>1.00</td>\n",
       "      <td>7</td>\n",
       "      <td>0.75</td>\n",
       "      <td>0.42</td>\n",
       "      <td>0.73</td>\n",
       "      <td>0.25</td>\n",
       "      <td>0.33</td>\n",
       "      <td>0.40</td>\n",
       "      <td>1.00</td>\n",
       "      <td>0.18</td>\n",
       "      <td>0.54</td>\n",
       "    </tr>\n",
       "    <tr>\n",
       "      <th>251696</th>\n",
       "      <td>1</td>\n",
       "      <td>1</td>\n",
       "      <td>0</td>\n",
       "      <td>1</td>\n",
       "      <td>0.38</td>\n",
       "      <td>6</td>\n",
       "      <td>0.75</td>\n",
       "      <td>0.71</td>\n",
       "      <td>0.37</td>\n",
       "      <td>0.09</td>\n",
       "      <td>0.00</td>\n",
       "      <td>0.40</td>\n",
       "      <td>0.14</td>\n",
       "      <td>0.51</td>\n",
       "      <td>0.13</td>\n",
       "    </tr>\n",
       "    <tr>\n",
       "      <th>162783</th>\n",
       "      <td>0</td>\n",
       "      <td>1</td>\n",
       "      <td>0</td>\n",
       "      <td>0</td>\n",
       "      <td>1.00</td>\n",
       "      <td>4</td>\n",
       "      <td>1.00</td>\n",
       "      <td>0.48</td>\n",
       "      <td>0.62</td>\n",
       "      <td>0.02</td>\n",
       "      <td>0.33</td>\n",
       "      <td>0.00</td>\n",
       "      <td>1.00</td>\n",
       "      <td>0.23</td>\n",
       "      <td>0.39</td>\n",
       "    </tr>\n",
       "    <tr>\n",
       "      <th>12265</th>\n",
       "      <td>1</td>\n",
       "      <td>0</td>\n",
       "      <td>0</td>\n",
       "      <td>0</td>\n",
       "      <td>0.00</td>\n",
       "      <td>9</td>\n",
       "      <td>1.00</td>\n",
       "      <td>0.01</td>\n",
       "      <td>0.27</td>\n",
       "      <td>0.60</td>\n",
       "      <td>0.33</td>\n",
       "      <td>1.00</td>\n",
       "      <td>0.00</td>\n",
       "      <td>0.00</td>\n",
       "      <td>0.07</td>\n",
       "    </tr>\n",
       "  </tbody>\n",
       "</table>\n",
       "</div>"
      ],
      "text/plain": [
       "        completed  bogo  female  other  reward  event_id  num_channels  \\\n",
       "252071          0     0       0      0    0.12         1          1.00   \n",
       "9744            1     1       0      0    1.00         7          0.75   \n",
       "251696          1     1       0      1    0.38         6          0.75   \n",
       "162783          0     1       0      0    1.00         4          1.00   \n",
       "12265           1     0       0      0    0.00         9          1.00   \n",
       "\n",
       "        age_scaled  income_scaled  member_for_days  difficulty_scaled  \\\n",
       "252071        0.43           0.34             0.10               0.13   \n",
       "9744          0.42           0.73             0.25               0.33   \n",
       "251696        0.71           0.37             0.09               0.00   \n",
       "162783        0.48           0.62             0.02               0.33   \n",
       "12265         0.01           0.27             0.60               0.33   \n",
       "\n",
       "        duration_scaled  reward_2  age_scaled_2  income_scaled_2  \n",
       "252071             0.40      0.02          0.19             0.12  \n",
       "9744               0.40      1.00          0.18             0.54  \n",
       "251696             0.40      0.14          0.51             0.13  \n",
       "162783             0.00      1.00          0.23             0.39  \n",
       "12265              1.00      0.00          0.00             0.07  "
      ]
     },
     "execution_count": 46,
     "metadata": {},
     "output_type": "execute_result"
    }
   ],
   "source": [
    "pd.concat([y_train,X_train],axis=1).head()"
   ]
  },
  {
   "cell_type": "code",
   "execution_count": 47,
   "metadata": {
    "colab": {
     "base_uri": "https://localhost:8080/",
     "height": 123
    },
    "colab_type": "code",
    "id": "4A1huc9_X6HO",
    "outputId": "f3b76cd8-3a50-4358-ac20-98b7701b18fb"
   },
   "outputs": [
    {
     "data": {
      "text/plain": [
       "252071    0\n",
       "9744      1\n",
       "251696    1\n",
       "162783    0\n",
       "12265     1\n",
       "Name: completed, dtype: int64"
      ]
     },
     "execution_count": 47,
     "metadata": {},
     "output_type": "execute_result"
    }
   ],
   "source": [
    "y_train[:5]"
   ]
  },
  {
   "cell_type": "code",
   "execution_count": 48,
   "metadata": {
    "colab": {},
    "colab_type": "code",
    "id": "AOHTLObQ9ZLV"
   },
   "outputs": [],
   "source": [
    "# regression tiiiiime"
   ]
  },
  {
   "cell_type": "code",
   "execution_count": 49,
   "metadata": {
    "colab": {},
    "colab_type": "code",
    "id": "dlAj7XLd778m"
   },
   "outputs": [],
   "source": [
    "from xgboost import XGBClassifier\n",
    "from sklearn.model_selection import GridSearchCV\n",
    "from sklearn.pipeline import Pipeline\n",
    "from sklearn.ensemble import StackingClassifier\n",
    "from sklearn.linear_model import LogisticRegression\n",
    "from time import time"
   ]
  },
  {
   "cell_type": "code",
   "execution_count": 50,
   "metadata": {
    "colab": {},
    "colab_type": "code",
    "id": "9jnNhThlO46n"
   },
   "outputs": [],
   "source": [
    "from sklearn.metrics import make_scorer, accuracy_score, confusion_matrix, f1_score"
   ]
  },
  {
   "cell_type": "code",
   "execution_count": 51,
   "metadata": {
    "colab": {},
    "colab_type": "code",
    "id": "HxN_tn7-N1J0"
   },
   "outputs": [],
   "source": [
    "def evaluate(model,params=None,X_train=X_train,X_test=X_test,y_train=y_train,y_test=y_test) :\n",
    "    t = time()\n",
    "    if params is None : clf = model\n",
    "    else : clf = GridSearchCV(model,params,scoring='accuracy')\n",
    "    clf.fit(X_train,y_train)\n",
    "\n",
    "    y_pred = clf.predict(X_train)\n",
    "    print('train accuracy: {:.3f}'.format(accuracy_score(y_train,y_pred)))\n",
    "    y_pred = clf.predict(X_test)\n",
    "    print('test accuracy: {:.3f}'.format(accuracy_score(y_test,y_pred)))\n",
    "    print('test f1 score: {:.3f}'.format(f1_score(y_test,y_pred)))\n",
    "    print(confusion_matrix(y_test,y_pred,normalize='all'))\n",
    "    print('fitted in {:.1f}s'.format(time()-t))\n",
    "    if params : print(clf.best_params_)\n",
    "    return clf"
   ]
  },
  {
   "cell_type": "code",
   "execution_count": 52,
   "metadata": {
    "colab": {},
    "colab_type": "code",
    "id": "CVJwpye1R4zu"
   },
   "outputs": [],
   "source": [
    "from sklearn.tree import DecisionTreeClassifier\n",
    "from sklearn.naive_bayes import GaussianNB \n",
    "from sklearn.neighbors import KNeighborsClassifier\n",
    "from sklearn.linear_model import LogisticRegression\n",
    "from sklearn.ensemble import RandomForestClassifier\n",
    "from lightgbm import LGBMClassifier"
   ]
  },
  {
   "cell_type": "code",
   "execution_count": 53,
   "metadata": {
    "colab": {},
    "colab_type": "code",
    "id": "2t2vIZqPvkeR"
   },
   "outputs": [],
   "source": [
    "# for some of our more promising models, make a param grid to search over\n",
    "\n",
    "forest_param_grid = {\n",
    "    'n_estimators':600,\n",
    "    'max_depth':12,\n",
    "    'random_state':seed,   \n",
    "}\n",
    "\n",
    "xgb_param_grid = {\n",
    "    'n_estimators':600, \n",
    "    'colsample_bytree':.7, #.7 best\n",
    "    'gamma':1, # 1 is best\n",
    "    'max_depth':12, # go up\n",
    "    'subsample':1, # between .8 and 1\n",
    "    'lambda':1\n",
    "}\n",
    "\n",
    "lgbm_param_grid = {\n",
    "    'n_estimators':600, \n",
    "    'colsample_bytree':.9,\n",
    "    'gamma':1, \n",
    "    'max_depth':12, \n",
    "    'subsample':1, \n",
    "    'lambda':1\n",
    "}"
   ]
  },
  {
   "cell_type": "code",
   "execution_count": 54,
   "metadata": {
    "colab": {},
    "colab_type": "code",
    "id": "X91C9mINR5y5"
   },
   "outputs": [],
   "source": [
    "tree = DecisionTreeClassifier()\n",
    "bayes = GaussianNB()\n",
    "kneighbors = KNeighborsClassifier()\n",
    "logit = LogisticRegression(max_iter=10000)\n",
    "forest = RandomForestClassifier(**forest_param_grid)\n",
    "lgbm = LGBMClassifier(**lgbm_param_grid)\n",
    "xgb = XGBClassifier(**xgb_param_grid)\n",
    "\n",
    "# I originally put param grids in here to perform a gridsearch, but that would \n",
    "# be too time-intensive for you. I just picked a \n",
    "models = {\n",
    "    'tree':[tree,None],\n",
    "    'bayesian':[bayes,None],\n",
    "    'kneighbors':[kneighbors,None],\n",
    "    'logit':[logit,None],\n",
    "    'forest':[forest,None],\n",
    "    'lgbm':[lgbm,None],\n",
    "    'XGBClassifier':[xgb,None],\n",
    "}"
   ]
  },
  {
   "cell_type": "code",
   "execution_count": 55,
   "metadata": {
    "colab": {
     "base_uri": "https://localhost:8080/",
     "height": 1000
    },
    "colab_type": "code",
    "id": "UTNQu7LWTI_Z",
    "outputId": "8d9e68fd-4bf5-4ef5-d463-b5446c4c81af"
   },
   "outputs": [
    {
     "name": "stdout",
     "output_type": "stream",
     "text": [
      "\n",
      "tree performance:\n",
      "train accuracy: 0.975\n",
      "test accuracy: 0.698\n",
      "test f1 score: 0.768\n",
      "[[0.19629858 0.14978408]\n",
      " [0.15262184 0.5012955 ]]\n",
      "fitted in 0.2s\n",
      "\n",
      "bayesian performance:\n",
      "train accuracy: 0.667\n",
      "test accuracy: 0.663\n",
      "test f1 score: 0.737\n",
      "[[0.19123998 0.15484269]\n",
      " [0.18173967 0.47217767]]\n",
      "fitted in 0.0s\n",
      "\n",
      "kneighbors performance:\n",
      "train accuracy: 0.806\n",
      "test accuracy: 0.710\n",
      "test f1 score: 0.785\n",
      "[[0.17976558 0.16631709]\n",
      " [0.12387415 0.53004318]]\n",
      "fitted in 3.1s\n",
      "\n",
      "logit performance:\n",
      "train accuracy: 0.719\n",
      "test accuracy: 0.707\n",
      "test f1 score: 0.797\n",
      "[[0.13325108 0.21283159]\n",
      " [0.08019741 0.57371993]]\n",
      "fitted in 0.3s\n",
      "\n",
      "forest performance:\n",
      "train accuracy: 0.837\n",
      "test accuracy: 0.740\n",
      "test f1 score: 0.812\n",
      "[[0.17569402 0.17038865]\n",
      " [0.09006786 0.56384948]]\n",
      "fitted in 15.3s\n",
      "\n",
      "lgbm performance:\n",
      "train accuracy: 0.846\n",
      "test accuracy: 0.749\n",
      "test f1 score: 0.816\n",
      "[[0.19222702 0.15385564]\n",
      " [0.09710056 0.55681678]]\n",
      "fitted in 0.9s\n",
      "\n",
      "XGBClassifier performance:\n",
      "train accuracy: 0.944\n",
      "test accuracy: 0.765\n",
      "test f1 score: 0.827\n",
      "[[0.20333128 0.14275139]\n",
      " [0.09179519 0.56212215]]\n",
      "fitted in 18.1s\n"
     ]
    }
   ],
   "source": [
    "#evaluate models\n",
    "fitted_models = {}\n",
    "for name,model in models.items() :\n",
    "    print(f'\\n{name} performance:')\n",
    "    fitted_models[name] = evaluate(model[0],model[1])"
   ]
  },
  {
   "cell_type": "markdown",
   "metadata": {
    "colab_type": "text",
    "id": "yFO0KzIg67cB"
   },
   "source": [
    "Our performance tells us that XGBClassifier does the best, but it overfits pretty severely. LGBM classifier is almost as good with the current data, and fits in 10% of the time. If we can solve the overfitting problem in the future, XGB Classifier will be far superior to all other models. But for some heavier computations today we will use LGBM for faster runtimes.\n",
    "\n",
    "Solutions to Overfitting:\n",
    "1. **Increase regularization**:\n",
    "    \n",
    "    Behind the scenes, we performed a comprehensive gridsearch over the regularization parameters gamma, colsample_bytree, max_depth, and lambda to improve performance. This is the best combination that we could find, and we still have high variance.\n",
    "2. **Drop/consolidate columns**:\n",
    "    \n",
    "    Likewise, we dropped several columns, but the only thing that improved performance was converting our previous one-hot encoded gender columns to a single categorical column, which we have done in this model.   \n",
    "3. **Increase training data**:\n",
    "\n",
    "    Barring the other two solutions, increased training data will improve our model's performance. This model has high potential, and the variance will likely drop significantly with an increased training pool. Let's make a convincing argument for this..."
   ]
  },
  {
   "cell_type": "code",
   "execution_count": 56,
   "metadata": {
    "colab": {},
    "colab_type": "code",
    "id": "zG6tGdj1_K1U"
   },
   "outputs": [],
   "source": [
    "xgb_best_params = {\n",
    "    'n_estimators':600, \n",
    "    'colsample_bytree':.7, #.7 best\n",
    "    'gamma':1, # 1 is best\n",
    "    'max_depth':12, # go up\n",
    "    'subsample':1, # between .8 and 1\n",
    "    'lambda':1\n",
    "}\n",
    "lgbm_best_params = {\n",
    "    'n_estimators':600, \n",
    "    'colsample_bytree':.9,\n",
    "    'gamma':1, \n",
    "    'max_depth':12, \n",
    "    'subsample':1, \n",
    "    'lambda':1\n",
    "}\n",
    "\n",
    "best_estimator = XGBClassifier(**xgb_best_params)\n",
    "faster_estimator = LGBMClassifier(**lgbm_best_params)"
   ]
  },
  {
   "cell_type": "code",
   "execution_count": 57,
   "metadata": {
    "colab": {},
    "colab_type": "code",
    "id": "mONzpduLM2uW"
   },
   "outputs": [],
   "source": [
    "from sklearn.model_selection import learning_curve\n",
    "from sklearn.model_selection import ShuffleSplit"
   ]
  },
  {
   "cell_type": "code",
   "execution_count": 58,
   "metadata": {
    "colab": {},
    "colab_type": "code",
    "id": "B00tVXMcQGM6"
   },
   "outputs": [],
   "source": [
    "### this function comes from the sklearn documentation ###\n",
    "### https://scikit-learn.org/stable/auto_examples/model_selection/plot_learning_curve.html#sphx-glr-auto-examples-model-selection-plot-learning-curve-py ###\n",
    "\n",
    "def plot_learning_curve(estimator, title, X, y, axes=None, ylim=None, cv=None,\n",
    "                        n_jobs=None, train_sizes=np.linspace(.1, 1.0, 5)):\n",
    "    \"\"\"\n",
    "    Generate 3 plots: the test and training learning curve, the training\n",
    "    samples vs fit times curve, the fit times vs score curve.\n",
    "\n",
    "    Parameters\n",
    "    ----------\n",
    "    estimator : object type that implements the \"fit\" and \"predict\" methods\n",
    "        An object of that type which is cloned for each validation.\n",
    "\n",
    "    title : string\n",
    "        Title for the chart.\n",
    "\n",
    "    X : array-like, shape (n_samples, n_features)\n",
    "        Training vector, where n_samples is the number of samples and\n",
    "        n_features is the number of features.\n",
    "\n",
    "    y : array-like, shape (n_samples) or (n_samples, n_features), optional\n",
    "        Target relative to X for classification or regression;\n",
    "        None for unsupervised learning.\n",
    "\n",
    "    axes : array of 3 axes, optional (default=None)\n",
    "        Axes to use for plotting the curves.\n",
    "\n",
    "    ylim : tuple, shape (ymin, ymax), optional\n",
    "        Defines minimum and maximum yvalues plotted.\n",
    "\n",
    "    cv : int, cross-validation generator or an iterable, optional\n",
    "        Determines the cross-validation splitting strategy.\n",
    "        Possible inputs for cv are:\n",
    "\n",
    "          - None, to use the default 5-fold cross-validation,\n",
    "          - integer, to specify the number of folds.\n",
    "          - :term:`CV splitter`,\n",
    "          - An iterable yielding (train, test) splits as arrays of indices.\n",
    "\n",
    "        For integer/None inputs, if ``y`` is binary or multiclass,\n",
    "        :class:`StratifiedKFold` used. If the estimator is not a classifier\n",
    "        or if ``y`` is neither binary nor multiclass, :class:`KFold` is used.\n",
    "\n",
    "        Refer :ref:`User Guide <cross_validation>` for the various\n",
    "        cross-validators that can be used here.\n",
    "\n",
    "    n_jobs : int or None, optional (default=None)\n",
    "        Number of jobs to run in parallel.\n",
    "        ``None`` means 1 unless in a :obj:`joblib.parallel_backend` context.\n",
    "        ``-1`` means using all processors. See :term:`Glossary <n_jobs>`\n",
    "        for more details.\n",
    "\n",
    "    train_sizes : array-like, shape (n_ticks,), dtype float or int\n",
    "        Relative or absolute numbers of training examples that will be used to\n",
    "        generate the learning curve. If the dtype is float, it is regarded as a\n",
    "        fraction of the maximum size of the training set (that is determined\n",
    "        by the selected validation method), i.e. it has to be within (0, 1].\n",
    "        Otherwise it is interpreted as absolute sizes of the training sets.\n",
    "        Note that for classification the number of samples usually have to\n",
    "        be big enough to contain at least one sample from each class.\n",
    "        (default: np.linspace(0.1, 1.0, 5))\n",
    "    \"\"\"\n",
    "    if axes is None:\n",
    "        _, axes = plt.subplots(1, 3, figsize=(20, 5))\n",
    "\n",
    "    axes[0].set_title(title)\n",
    "    if ylim is not None:\n",
    "        axes[0].set_ylim(*ylim)\n",
    "    axes[0].set_xlabel(\"Training examples\")\n",
    "    axes[0].set_ylabel(\"Score\")\n",
    "\n",
    "    train_sizes, train_scores, test_scores, fit_times, _ = \\\n",
    "        learning_curve(estimator, X, y, cv=cv, n_jobs=n_jobs,\n",
    "                       train_sizes=train_sizes,\n",
    "                       return_times=True)\n",
    "    train_scores_mean = np.mean(train_scores, axis=1)\n",
    "    train_scores_std = np.std(train_scores, axis=1)\n",
    "    test_scores_mean = np.mean(test_scores, axis=1)\n",
    "    test_scores_std = np.std(test_scores, axis=1)\n",
    "    fit_times_mean = np.mean(fit_times, axis=1)\n",
    "    fit_times_std = np.std(fit_times, axis=1)\n",
    "\n",
    "    # Plot learning curve\n",
    "    axes[0].grid()\n",
    "    axes[0].fill_between(train_sizes, train_scores_mean - train_scores_std,\n",
    "                         train_scores_mean + train_scores_std, alpha=0.1,\n",
    "                         color=\"r\")\n",
    "    axes[0].fill_between(train_sizes, test_scores_mean - test_scores_std,\n",
    "                         test_scores_mean + test_scores_std, alpha=0.1,\n",
    "                         color=\"g\")\n",
    "    axes[0].plot(train_sizes, train_scores_mean, 'o-', color=\"r\",\n",
    "                 label=\"Training score\")\n",
    "    axes[0].plot(train_sizes, test_scores_mean, 'o-', color=\"g\",\n",
    "                 label=\"Cross-validation score\")\n",
    "    axes[0].legend(loc=\"best\")\n",
    "\n",
    "    # Plot n_samples vs fit_times\n",
    "    axes[1].grid()\n",
    "    axes[1].plot(train_sizes, fit_times_mean, 'o-')\n",
    "    axes[1].fill_between(train_sizes, fit_times_mean - fit_times_std,\n",
    "                         fit_times_mean + fit_times_std, alpha=0.1)\n",
    "    axes[1].set_xlabel(\"Training examples\")\n",
    "    axes[1].set_ylabel(\"fit_times\")\n",
    "    axes[1].set_title(\"Scalability of the model\")\n",
    "\n",
    "    # Plot fit_time vs score\n",
    "    axes[2].grid()\n",
    "    axes[2].plot(fit_times_mean, test_scores_mean, 'o-')\n",
    "    axes[2].fill_between(fit_times_mean, test_scores_mean - test_scores_std,\n",
    "                         test_scores_mean + test_scores_std, alpha=0.1)\n",
    "    axes[2].set_xlabel(\"fit_times\")\n",
    "    axes[2].set_ylabel(\"Score\")\n",
    "    axes[2].set_title(\"Performance of the model\")\n",
    "\n",
    "    return plt"
   ]
  },
  {
   "cell_type": "code",
   "execution_count": 59,
   "metadata": {
    "colab": {
     "base_uri": "https://localhost:8080/",
     "height": 894
    },
    "colab_type": "code",
    "id": "NKLCEMD2O7YK",
    "outputId": "ee58fa0e-fe0a-458d-bde7-79b9f9b595a0"
   },
   "outputs": [
    {
     "data": {
      "image/png": "[encoded data removed]",
      "text/plain": [
       "<Figure size 720x1080 with 3 Axes>"
      ]
     },
     "metadata": {},
     "output_type": "display_data"
    }
   ],
   "source": [
    "fig,axes = plt.subplots(3,1,figsize=(10,15),gridspec_kw={'hspace':.3})\n",
    "X,y = df_clean.loc[:,df_clean.columns!='completed'],df_clean.completed\n",
    "\n",
    "cv = ShuffleSplit(n_splits=10,test_size=.2)\n",
    "\n",
    "title = 'LGBM Classifier Learning curves'\n",
    "plot_learning_curve(estimator=faster_estimator,title=title,X=X,y=y,axes=axes,cv=cv,n_jobs=-1);"
   ]
  },
  {
   "cell_type": "markdown",
   "metadata": {
    "colab_type": "text",
    "id": "dwfm8NY-nCwV"
   },
   "source": [
    "performance is steadily improving with increasing data (which happens with the XGBClassifier as well) so applying this model to a large-scale data infrastructure would give us even better results than the ones we have now"
   ]
  },
  {
   "cell_type": "code",
   "execution_count": 60,
   "metadata": {
    "colab": {},
    "colab_type": "code",
    "id": "Cxf12ZcnP_PK"
   },
   "outputs": [],
   "source": [
    "import seaborn as sns"
   ]
  },
  {
   "cell_type": "markdown",
   "metadata": {
    "colab_type": "text",
    "id": "wdtx5dd8PVR8"
   },
   "source": [
    "Now let's look at how the features correlate with the target variable"
   ]
  },
  {
   "cell_type": "code",
   "execution_count": 61,
   "metadata": {
    "colab": {
     "base_uri": "https://localhost:8080/",
     "height": 498
    },
    "colab_type": "code",
    "id": "jZdMd9sHPOrk",
    "outputId": "7e16fdd4-4042-49e1-e00d-8279d935da60"
   },
   "outputs": [
    {
     "data": {
      "image/png": "[encoded data removed]",
      "text/plain": [
       "<Figure size 432x576 with 1 Axes>"
      ]
     },
     "metadata": {},
     "output_type": "display_data"
    }
   ],
   "source": [
    "feat_importance = pd.Series(\n",
    "    data=fitted_models['XGBClassifier'].feature_importances_, \n",
    "    index=df_clean.drop(columns=['completed']).columns).sort_values(ascending=False)\n",
    "plt.figure(figsize=(6,8))\n",
    "plt.title(\"Feature importance according to our classifier\")\n",
    "ax = sns.barplot(\n",
    "    y=feat_importance.index, x=feat_importance.values, palette=\"Blues_d\", orient='h')"
   ]
  },
  {
   "cell_type": "code",
   "execution_count": 62,
   "metadata": {
    "colab": {
     "base_uri": "https://localhost:8080/",
     "height": 715
    },
    "colab_type": "code",
    "id": "iUaXfOrGOelg",
    "outputId": "b9b13052-7e29-41d6-d0c6-e0ef62c7bcfb"
   },
   "outputs": [
    {
     "data": {
      "image/png": "[encoded data removed]",
      "text/plain": [
       "<Figure size 720x864 with 1 Axes>"
      ]
     },
     "metadata": {},
     "output_type": "display_data"
    }
   ],
   "source": [
    "important_feats = df_clean.corr(method='spearman')['completed']\\\n",
    "  .drop('completed').sort_values(ascending=False)\n",
    "\n",
    "fig = plt.figure(figsize=(10,12))\n",
    "plt.title('Spearman correlation with coupon completion')\n",
    "fig = sns.barplot(y=important_feats.index,x=important_feats.values,\n",
    "                  palette='twilight_shifted',orient='h')"
   ]
  },
  {
   "cell_type": "code",
   "execution_count": 63,
   "metadata": {
    "colab": {
     "base_uri": "https://localhost:8080/",
     "height": 715
    },
    "colab_type": "code",
    "id": "vS7m8vKUPE9a",
    "outputId": "432ad595-ebec-4e60-ecfe-e19d69ca2256"
   },
   "outputs": [
    {
     "data": {
      "image/png": "[encoded data removed]",
      "text/plain": [
       "<Figure size 720x864 with 1 Axes>"
      ]
     },
     "metadata": {},
     "output_type": "display_data"
    }
   ],
   "source": [
    "important_feats = df_clean.corr(method='pearson')['completed']\\\n",
    "  .drop('completed').sort_values(ascending=False)\n",
    "\n",
    "fig = plt.figure(figsize=(10,12))\n",
    "plt.title('Pearson correlation with coupon completion')\n",
    "fig = sns.barplot(y=important_feats.index,x=important_feats.values,\n",
    "                  palette='twilight_shifted',orient='h')"
   ]
  },
  {
   "cell_type": "markdown",
   "metadata": {
    "colab_type": "text",
    "id": "DRrvdC1XHd2A"
   },
   "source": [
    "The surprising takeaway here is that reward and reward^2 are negatively correlated with redemption, so reward may be correlated with an ommitted variable. Another interpretation is that for bogo, reward = difficulty, so more expensive bogo's were less likely to be picked. Let's try checking the correlation of discount coupons with our input variables."
   ]
  },
  {
   "cell_type": "code",
   "execution_count": 64,
   "metadata": {
    "colab": {
     "base_uri": "https://localhost:8080/",
     "height": 715
    },
    "colab_type": "code",
    "id": "oSnXhz5p2omT",
    "outputId": "6a75986a-7e91-4b6b-df5e-92922fed9ab7"
   },
   "outputs": [
    {
     "data": {
      "image/png": "[encoded data removed]",
      "text/plain": [
       "<Figure size 720x864 with 1 Axes>"
      ]
     },
     "metadata": {},
     "output_type": "display_data"
    }
   ],
   "source": [
    "important_feats = df_clean[df_clean.bogo==0].corr(method='pearson')['completed']\\\n",
    "  .drop('completed').sort_values(ascending=False)\n",
    "\n",
    "fig = plt.figure(figsize=(10,12))\n",
    "plt.title('Pearson correlation with coupon completion')\n",
    "fig = sns.barplot(y=important_feats.index,x=important_feats.values,\n",
    "                  palette='twilight_shifted',orient='h')"
   ]
  },
  {
   "cell_type": "markdown",
   "metadata": {
    "colab_type": "text",
    "id": "3tZv2isoGU5h"
   },
   "source": [
    "reward is stil slightly negative, so we could interpret this to mean that the more expensive coupons have a lower bang-for-your-buck appeal. "
   ]
  },
  {
   "cell_type": "markdown",
   "metadata": {
    "colab_type": "text",
    "id": "8_F3tobyUoHb"
   },
   "source": [
    "### OPTIONAL MATERIAL ###\n"
   ]
  },
  {
   "cell_type": "markdown",
   "metadata": {
    "colab_type": "text",
    "id": "E0R1Rsf2Ut0Z"
   },
   "source": [
    "this shows the scalability of the XGBoost model. It performs significantly better than the LGBM model at low amounts of training data, but about the same at the current level. This cell will take a long time to run, and it's not much more informative than the LGBM plots, so I dont reccomend running it unless you're willing to wait about 30 minutes. "
   ]
  },
  {
   "cell_type": "code",
   "execution_count": 65,
   "metadata": {
    "colab": {
     "base_uri": "https://localhost:8080/",
     "height": 894
    },
    "colab_type": "code",
    "id": "WdOcpRwCU7BY",
    "outputId": "020d11d9-6dcc-4832-f250-277ff33e8444"
   },
   "outputs": [
    {
     "data": {
      "image/png": "[encoded data removed]",
      "text/plain": [
       "<Figure size 720x1080 with 3 Axes>"
      ]
     },
     "metadata": {},
     "output_type": "display_data"
    }
   ],
   "source": [
    "fig,axes = plt.subplots(3,1,figsize=(10,15),gridspec_kw={'hspace':.3})\n",
    "X,y = df_clean.loc[:,df_clean.columns!='completed'],df_clean.completed\n",
    "\n",
    "cv = ShuffleSplit(n_splits=10,test_size=.2)\n",
    "\n",
    "title = 'XGBoost Classifier Learning curves'\n",
    "plot_learning_curve(estimator=best_estimator,title=title,X=X,y=y,axes=axes,cv=cv,n_jobs=-1);"
   ]
  },
  {
   "cell_type": "code",
   "execution_count": null,
   "metadata": {},
   "outputs": [],
   "source": []
  }
 ],
 "metadata": {
  "colab": {
   "name": "Starbucks_etl.ipynb",
   "provenance": []
  },
  "kernelspec": {
   "display_name": "Python 3",
   "language": "python",
   "name": "python3"
  },
  "language_info": {
   "codemirror_mode": {
    "name": "ipython",
    "version": 3
   },
   "file_extension": ".py",
   "mimetype": "text/x-python",
   "name": "python",
   "nbconvert_exporter": "python",
   "pygments_lexer": "ipython3",
   "version": "3.7.7"
  }
 },
 "nbformat": 4,
 "nbformat_minor": 1
}
