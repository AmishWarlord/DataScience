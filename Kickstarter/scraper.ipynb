{
 "cells": [
  {
   "cell_type": "code",
   "execution_count": 60,
   "metadata": {
    "ExecuteTime": {
     "end_time": "2020-12-11T02:53:23.588056Z",
     "start_time": "2020-12-11T02:53:23.579081Z"
    }
   },
   "outputs": [],
   "source": [
    "# Import dependencies for handling JSON, URL requests, HTML scraping, CSV Formatting\n",
    "import json\n",
    "from urllib.request import urlopen\n",
    "from bs4 import BeautifulSoup as soup\n",
    "import sys\n",
    "import re\n",
    "import pandas as pd\n",
    "import numpy as np"
   ]
  },
  {
   "cell_type": "code",
   "execution_count": 61,
   "metadata": {
    "ExecuteTime": {
     "end_time": "2020-12-11T02:53:24.434065Z",
     "start_time": "2020-12-11T02:53:24.425114Z"
    }
   },
   "outputs": [],
   "source": [
    "def clean_url(url):\n",
    "    return re.sub(\"(\\?ref=category)+.*$\", \"\", url)"
   ]
  },
  {
   "cell_type": "code",
   "execution_count": 62,
   "metadata": {
    "ExecuteTime": {
     "end_time": "2020-12-11T02:53:26.535085Z",
     "start_time": "2020-12-11T02:53:25.472909Z"
    }
   },
   "outputs": [
    {
     "name": "stdout",
     "output_type": "stream",
     "text": [
      "                                                site  successful  \\\n",
      "0  https://www.kickstarter.com/projects/valentina...           1   \n",
      "1  https://www.kickstarter.com/projects/GreenThin...           0   \n",
      "2  https://www.kickstarter.com/projects/oscabilly...           1   \n",
      "3  https://www.kickstarter.com/projects/279177780...           0   \n",
      "4  https://www.kickstarter.com/projects/687632789...           0   \n",
      "\n",
      "   dollars_raised  \n",
      "0          4185.0  \n",
      "1           235.0  \n",
      "2           351.0  \n",
      "3         16636.0  \n",
      "4          3128.0  \n",
      "\n"
     ]
    },
    {
     "data": {
      "text/plain": [
       "'https://www.kickstarter.com/projects/1638291601/mosaic-art-thai-elephant-project/'"
      ]
     },
     "execution_count": 62,
     "metadata": {},
     "output_type": "execute_result"
    }
   ],
   "source": [
    "in_path = 'E:\\KickStarter\\Kickstarter_urls.csv'\n",
    "urls_df = pd.read_csv(in_path)\n",
    "print(f'{urls_df.head()}\\n')\n",
    "urls_df.site[42]"
   ]
  },
  {
   "cell_type": "code",
   "execution_count": 63,
   "metadata": {
    "ExecuteTime": {
     "end_time": "2020-12-11T02:53:29.078683Z",
     "start_time": "2020-12-11T02:53:28.702465Z"
    }
   },
   "outputs": [],
   "source": [
    "urls_df['description'] = urls_df.site + 'description/'\n",
    "urls_df['faq'] = urls_df.site + 'faq/'\n",
    "urls_df['updates'] = urls_df.site + 'posts/'\n",
    "urls_df['comments'] = urls_df.site + 'comments/'\n",
    "urls_df['community'] = urls_df.site + 'community/'"
   ]
  },
  {
   "cell_type": "code",
   "execution_count": 64,
   "metadata": {
    "ExecuteTime": {
     "end_time": "2020-12-11T02:54:42.529606Z",
     "start_time": "2020-12-11T02:54:42.513812Z"
    }
   },
   "outputs": [
    {
     "data": {
      "text/html": [
       "<div>\n",
       "<style scoped>\n",
       "    .dataframe tbody tr th:only-of-type {\n",
       "        vertical-align: middle;\n",
       "    }\n",
       "\n",
       "    .dataframe tbody tr th {\n",
       "        vertical-align: top;\n",
       "    }\n",
       "\n",
       "    .dataframe thead th {\n",
       "        text-align: right;\n",
       "    }\n",
       "</style>\n",
       "<table border=\"1\" class=\"dataframe\">\n",
       "  <thead>\n",
       "    <tr style=\"text-align: right;\">\n",
       "      <th></th>\n",
       "      <th>site</th>\n",
       "      <th>successful</th>\n",
       "      <th>dollars_raised</th>\n",
       "      <th>description</th>\n",
       "      <th>faq</th>\n",
       "      <th>updates</th>\n",
       "      <th>comments</th>\n",
       "      <th>community</th>\n",
       "    </tr>\n",
       "  </thead>\n",
       "  <tbody>\n",
       "    <tr>\n",
       "      <th>0</th>\n",
       "      <td>https://www.kickstarter.com/projects/valentina...</td>\n",
       "      <td>1</td>\n",
       "      <td>4185.0</td>\n",
       "      <td>https://www.kickstarter.com/projects/valentina...</td>\n",
       "      <td>https://www.kickstarter.com/projects/valentina...</td>\n",
       "      <td>https://www.kickstarter.com/projects/valentina...</td>\n",
       "      <td>https://www.kickstarter.com/projects/valentina...</td>\n",
       "      <td>https://www.kickstarter.com/projects/valentina...</td>\n",
       "    </tr>\n",
       "    <tr>\n",
       "      <th>1</th>\n",
       "      <td>https://www.kickstarter.com/projects/GreenThin...</td>\n",
       "      <td>0</td>\n",
       "      <td>235.0</td>\n",
       "      <td>https://www.kickstarter.com/projects/GreenThin...</td>\n",
       "      <td>https://www.kickstarter.com/projects/GreenThin...</td>\n",
       "      <td>https://www.kickstarter.com/projects/GreenThin...</td>\n",
       "      <td>https://www.kickstarter.com/projects/GreenThin...</td>\n",
       "      <td>https://www.kickstarter.com/projects/GreenThin...</td>\n",
       "    </tr>\n",
       "    <tr>\n",
       "      <th>2</th>\n",
       "      <td>https://www.kickstarter.com/projects/oscabilly...</td>\n",
       "      <td>1</td>\n",
       "      <td>351.0</td>\n",
       "      <td>https://www.kickstarter.com/projects/oscabilly...</td>\n",
       "      <td>https://www.kickstarter.com/projects/oscabilly...</td>\n",
       "      <td>https://www.kickstarter.com/projects/oscabilly...</td>\n",
       "      <td>https://www.kickstarter.com/projects/oscabilly...</td>\n",
       "      <td>https://www.kickstarter.com/projects/oscabilly...</td>\n",
       "    </tr>\n",
       "    <tr>\n",
       "      <th>3</th>\n",
       "      <td>https://www.kickstarter.com/projects/279177780...</td>\n",
       "      <td>0</td>\n",
       "      <td>16636.0</td>\n",
       "      <td>https://www.kickstarter.com/projects/279177780...</td>\n",
       "      <td>https://www.kickstarter.com/projects/279177780...</td>\n",
       "      <td>https://www.kickstarter.com/projects/279177780...</td>\n",
       "      <td>https://www.kickstarter.com/projects/279177780...</td>\n",
       "      <td>https://www.kickstarter.com/projects/279177780...</td>\n",
       "    </tr>\n",
       "    <tr>\n",
       "      <th>4</th>\n",
       "      <td>https://www.kickstarter.com/projects/687632789...</td>\n",
       "      <td>0</td>\n",
       "      <td>3128.0</td>\n",
       "      <td>https://www.kickstarter.com/projects/687632789...</td>\n",
       "      <td>https://www.kickstarter.com/projects/687632789...</td>\n",
       "      <td>https://www.kickstarter.com/projects/687632789...</td>\n",
       "      <td>https://www.kickstarter.com/projects/687632789...</td>\n",
       "      <td>https://www.kickstarter.com/projects/687632789...</td>\n",
       "    </tr>\n",
       "  </tbody>\n",
       "</table>\n",
       "</div>"
      ],
      "text/plain": [
       "                                                site  successful  \\\n",
       "0  https://www.kickstarter.com/projects/valentina...           1   \n",
       "1  https://www.kickstarter.com/projects/GreenThin...           0   \n",
       "2  https://www.kickstarter.com/projects/oscabilly...           1   \n",
       "3  https://www.kickstarter.com/projects/279177780...           0   \n",
       "4  https://www.kickstarter.com/projects/687632789...           0   \n",
       "\n",
       "   dollars_raised                                        description  \\\n",
       "0          4185.0  https://www.kickstarter.com/projects/valentina...   \n",
       "1           235.0  https://www.kickstarter.com/projects/GreenThin...   \n",
       "2           351.0  https://www.kickstarter.com/projects/oscabilly...   \n",
       "3         16636.0  https://www.kickstarter.com/projects/279177780...   \n",
       "4          3128.0  https://www.kickstarter.com/projects/687632789...   \n",
       "\n",
       "                                                 faq  \\\n",
       "0  https://www.kickstarter.com/projects/valentina...   \n",
       "1  https://www.kickstarter.com/projects/GreenThin...   \n",
       "2  https://www.kickstarter.com/projects/oscabilly...   \n",
       "3  https://www.kickstarter.com/projects/279177780...   \n",
       "4  https://www.kickstarter.com/projects/687632789...   \n",
       "\n",
       "                                             updates  \\\n",
       "0  https://www.kickstarter.com/projects/valentina...   \n",
       "1  https://www.kickstarter.com/projects/GreenThin...   \n",
       "2  https://www.kickstarter.com/projects/oscabilly...   \n",
       "3  https://www.kickstarter.com/projects/279177780...   \n",
       "4  https://www.kickstarter.com/projects/687632789...   \n",
       "\n",
       "                                            comments  \\\n",
       "0  https://www.kickstarter.com/projects/valentina...   \n",
       "1  https://www.kickstarter.com/projects/GreenThin...   \n",
       "2  https://www.kickstarter.com/projects/oscabilly...   \n",
       "3  https://www.kickstarter.com/projects/279177780...   \n",
       "4  https://www.kickstarter.com/projects/687632789...   \n",
       "\n",
       "                                           community  \n",
       "0  https://www.kickstarter.com/projects/valentina...  \n",
       "1  https://www.kickstarter.com/projects/GreenThin...  \n",
       "2  https://www.kickstarter.com/projects/oscabilly...  \n",
       "3  https://www.kickstarter.com/projects/279177780...  \n",
       "4  https://www.kickstarter.com/projects/687632789...  "
      ]
     },
     "execution_count": 64,
     "metadata": {},
     "output_type": "execute_result"
    }
   ],
   "source": [
    "urls_df.head()"
   ]
  },
  {
   "cell_type": "code",
   "execution_count": null,
   "metadata": {},
   "outputs": [],
   "source": []
  }
 ],
 "metadata": {
  "kernelspec": {
   "display_name": "Python 3",
   "language": "python",
   "name": "python3"
  },
  "language_info": {
   "codemirror_mode": {
    "name": "ipython",
    "version": 3
   },
   "file_extension": ".py",
   "mimetype": "text/x-python",
   "name": "python",
   "nbconvert_exporter": "python",
   "pygments_lexer": "ipython3",
   "version": "3.8.3"
  },
  "toc": {
   "base_numbering": 1,
   "nav_menu": {},
   "number_sections": true,
   "sideBar": true,
   "skip_h1_title": false,
   "title_cell": "Table of Contents",
   "title_sidebar": "Contents",
   "toc_cell": false,
   "toc_position": {},
   "toc_section_display": true,
   "toc_window_display": false
  }
 },
 "nbformat": 4,
 "nbformat_minor": 4
}
