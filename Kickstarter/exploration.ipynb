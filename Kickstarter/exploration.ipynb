{
 "cells": [
  {
   "cell_type": "code",
   "execution_count": 3,
   "metadata": {
    "ExecuteTime": {
     "end_time": "2020-12-07T18:49:23.857156Z",
     "start_time": "2020-12-07T18:49:23.848180Z"
    }
   },
   "outputs": [],
   "source": [
    "import os\n",
    "from typing import Optional, Union\n",
    "import numpy as np\n",
    "import pandas as pd\n",
    "import seaborn as sns\n",
    "import matplotlib.pyplot as plt\n",
    "%matplotlib inline"
   ]
  },
  {
   "cell_type": "code",
   "execution_count": 56,
   "metadata": {
    "ExecuteTime": {
     "end_time": "2020-12-07T19:24:54.782932Z",
     "start_time": "2020-12-07T19:24:54.775920Z"
    }
   },
   "outputs": [],
   "source": [
    "def join_csv(search_path, max_tables:Optional[int]=None) -> pd.DataFrame:\n",
    "    out_table = pd.DataFrame()\n",
    "    if max_tables is None: max_tables = np.inf\n",
    "    num_tables = 0\n",
    "    for root, dirs, files in os.walk(search_path, topdown=True):\n",
    "        dirs.sort(reverse=True)\n",
    "        for name in files:\n",
    "            if num_tables > max_tables : return out_table\n",
    "            table_path = os.path.join(root, name)\n",
    "            current_table = pd.read_csv(table_path)\n",
    "            \n",
    "            if out_table.shape[0] == 0: \n",
    "                out_table = current_table\n",
    "                continue\n",
    "            \n",
    "            out_table = pd.join(current_table, out_table, on=)\n",
    "            \n",
    "            num_tables += 1\n",
    "        return out_table"
   ]
  },
  {
   "cell_type": "code",
   "execution_count": 57,
   "metadata": {
    "ExecuteTime": {
     "end_time": "2020-12-07T19:24:55.141834Z",
     "start_time": "2020-12-07T19:24:55.125877Z"
    }
   },
   "outputs": [
    {
     "name": "stdout",
     "output_type": "stream",
     "text": [
      "E:\\KickStarter\\input\\Kickstarter_2020-11\\Kickstarter.csv\n"
     ]
    }
   ],
   "source": [
    "join_csv('E:\\KickStarter\\input')"
   ]
  },
  {
   "cell_type": "code",
   "execution_count": 59,
   "metadata": {
    "ExecuteTime": {
     "end_time": "2020-12-07T19:30:05.497875Z",
     "start_time": "2020-12-07T19:30:05.481890Z"
    }
   },
   "outputs": [
    {
     "name": "stdout",
     "output_type": "stream",
     "text": [
      "pog\n"
     ]
    }
   ],
   "source": []
  },
  {
   "cell_type": "code",
   "execution_count": null,
   "metadata": {},
   "outputs": [],
   "source": []
  }
 ],
 "metadata": {
  "kernelspec": {
   "display_name": "Python 3",
   "language": "python",
   "name": "python3"
  },
  "language_info": {
   "codemirror_mode": {
    "name": "ipython",
    "version": 3
   },
   "file_extension": ".py",
   "mimetype": "text/x-python",
   "name": "python",
   "nbconvert_exporter": "python",
   "pygments_lexer": "ipython3",
   "version": "3.8.3"
  },
  "toc": {
   "base_numbering": 1,
   "nav_menu": {},
   "number_sections": true,
   "sideBar": true,
   "skip_h1_title": false,
   "title_cell": "Table of Contents",
   "title_sidebar": "Contents",
   "toc_cell": false,
   "toc_position": {},
   "toc_section_display": true,
   "toc_window_display": false
  }
 },
 "nbformat": 4,
 "nbformat_minor": 4
}
