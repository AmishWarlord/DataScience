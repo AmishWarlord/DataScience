{
 "cells": [
  {
   "cell_type": "code",
   "execution_count": 1,
   "metadata": {
    "id": "rXJVoQVQti8R"
   },
   "outputs": [],
   "source": [
    "# data scrape date: 2020-09-17\n",
    "\n",
    "# extract, transform, and load the data\n",
    "\n",
    "# first, import our essentials\n",
    "import numpy as np\n",
    "import pandas as pd\n",
    "from pandas.api.types import is_numeric_dtype\n",
    "import os\n",
    "import pickle\n",
    "from time import time\n",
    "import random\n",
    "import tensorflow as tf\n",
    "from time import time\n",
    "import datetime\n",
    "import ast"
   ]
  },
  {
   "cell_type": "code",
   "execution_count": 2,
   "metadata": {
    "id": "p93TbJ5ltzji"
   },
   "outputs": [],
   "source": [
    "def seed_everything(seed=0) :\n",
    "    random.seed(seed)\n",
    "    os.environ['PYTHONHASHSEED'] = str(seed)\n",
    "    np.random.seed(seed)\n",
    "    try :\n",
    "        tf.random.set_seed(seed)\n",
    "    except :\n",
    "        pass\n",
    "\n",
    "seed = 69\n",
    "seed_everything(seed=seed)"
   ]
  },
  {
   "cell_type": "code",
   "execution_count": 5,
   "metadata": {
    "colab": {
     "base_uri": "https://localhost:8080/",
     "height": 318
    },
    "id": "RCaD5edFt6DO",
    "outputId": "4531bb2d-7b22-44c8-b5f4-182c4ae76c01"
   },
   "outputs": [
    {
     "name": "stdout",
     "output_type": "stream",
     "text": [
      "(219688, 38)\n"
     ]
    },
    {
     "data": {
      "text/html": [
       "<div>\n",
       "<style scoped>\n",
       "    .dataframe tbody tr th:only-of-type {\n",
       "        vertical-align: middle;\n",
       "    }\n",
       "\n",
       "    .dataframe tbody tr th {\n",
       "        vertical-align: top;\n",
       "    }\n",
       "\n",
       "    .dataframe thead th {\n",
       "        text-align: right;\n",
       "    }\n",
       "</style>\n",
       "<table border=\"1\" class=\"dataframe\">\n",
       "  <thead>\n",
       "    <tr style=\"text-align: right;\">\n",
       "      <th></th>\n",
       "      <th>backers_count</th>\n",
       "      <th>blurb</th>\n",
       "      <th>category</th>\n",
       "      <th>converted_pledged_amount</th>\n",
       "      <th>country</th>\n",
       "      <th>country_displayable_name</th>\n",
       "      <th>created_at</th>\n",
       "      <th>creator</th>\n",
       "      <th>currency</th>\n",
       "      <th>currency_symbol</th>\n",
       "      <th>...</th>\n",
       "      <th>slug</th>\n",
       "      <th>source_url</th>\n",
       "      <th>spotlight</th>\n",
       "      <th>staff_pick</th>\n",
       "      <th>state</th>\n",
       "      <th>state_changed_at</th>\n",
       "      <th>static_usd_rate</th>\n",
       "      <th>urls</th>\n",
       "      <th>usd_pledged</th>\n",
       "      <th>usd_type</th>\n",
       "    </tr>\n",
       "  </thead>\n",
       "  <tbody>\n",
       "    <tr>\n",
       "      <th>0</th>\n",
       "      <td>61</td>\n",
       "      <td>Support great art! Join us as we re-stage the ...</td>\n",
       "      <td>{\"id\":254,\"name\":\"Performances\",\"slug\":\"dance/...</td>\n",
       "      <td>4618</td>\n",
       "      <td>US</td>\n",
       "      <td>the United States</td>\n",
       "      <td>1579292017</td>\n",
       "      <td>{\"id\":2092817311,\"name\":\"Brooklyn Ballet\",\"slu...</td>\n",
       "      <td>USD</td>\n",
       "      <td>$</td>\n",
       "      <td>...</td>\n",
       "      <td>revisionist-history-2</td>\n",
       "      <td>https://www.kickstarter.com/discover/categorie...</td>\n",
       "      <td>True</td>\n",
       "      <td>True</td>\n",
       "      <td>successful</td>\n",
       "      <td>1583025192</td>\n",
       "      <td>1.0</td>\n",
       "      <td>{\"web\":{\"project\":\"https://www.kickstarter.com...</td>\n",
       "      <td>4618.0</td>\n",
       "      <td>domestic</td>\n",
       "    </tr>\n",
       "    <tr>\n",
       "      <th>1</th>\n",
       "      <td>52</td>\n",
       "      <td>JinBucha is a new kind of Brewery in North Par...</td>\n",
       "      <td>{\"id\":307,\"name\":\"Drinks\",\"slug\":\"food/drinks\"...</td>\n",
       "      <td>3461</td>\n",
       "      <td>US</td>\n",
       "      <td>the United States</td>\n",
       "      <td>1446051515</td>\n",
       "      <td>{\"id\":1468694331,\"name\":\"Jing Chen\",\"slug\":\"ji...</td>\n",
       "      <td>USD</td>\n",
       "      <td>$</td>\n",
       "      <td>...</td>\n",
       "      <td>jinbucha-a-modern-kombucha-tasting-room-in-nor...</td>\n",
       "      <td>https://www.kickstarter.com/discover/categorie...</td>\n",
       "      <td>False</td>\n",
       "      <td>True</td>\n",
       "      <td>failed</td>\n",
       "      <td>1450118057</td>\n",
       "      <td>1.0</td>\n",
       "      <td>{\"web\":{\"project\":\"https://www.kickstarter.com...</td>\n",
       "      <td>3461.0</td>\n",
       "      <td>domestic</td>\n",
       "    </tr>\n",
       "  </tbody>\n",
       "</table>\n",
       "<p>2 rows × 38 columns</p>\n",
       "</div>"
      ],
      "text/plain": [
       "   backers_count                                              blurb  \\\n",
       "0             61  Support great art! Join us as we re-stage the ...   \n",
       "1             52  JinBucha is a new kind of Brewery in North Par...   \n",
       "\n",
       "                                            category  \\\n",
       "0  {\"id\":254,\"name\":\"Performances\",\"slug\":\"dance/...   \n",
       "1  {\"id\":307,\"name\":\"Drinks\",\"slug\":\"food/drinks\"...   \n",
       "\n",
       "   converted_pledged_amount country country_displayable_name  created_at  \\\n",
       "0                      4618      US        the United States  1579292017   \n",
       "1                      3461      US        the United States  1446051515   \n",
       "\n",
       "                                             creator currency currency_symbol  \\\n",
       "0  {\"id\":2092817311,\"name\":\"Brooklyn Ballet\",\"slu...      USD               $   \n",
       "1  {\"id\":1468694331,\"name\":\"Jing Chen\",\"slug\":\"ji...      USD               $   \n",
       "\n",
       "   ...                                               slug  \\\n",
       "0  ...                              revisionist-history-2   \n",
       "1  ...  jinbucha-a-modern-kombucha-tasting-room-in-nor...   \n",
       "\n",
       "                                          source_url  spotlight  staff_pick  \\\n",
       "0  https://www.kickstarter.com/discover/categorie...       True        True   \n",
       "1  https://www.kickstarter.com/discover/categorie...      False        True   \n",
       "\n",
       "        state  state_changed_at  static_usd_rate  \\\n",
       "0  successful        1583025192              1.0   \n",
       "1      failed        1450118057              1.0   \n",
       "\n",
       "                                                urls usd_pledged  usd_type  \n",
       "0  {\"web\":{\"project\":\"https://www.kickstarter.com...      4618.0  domestic  \n",
       "1  {\"web\":{\"project\":\"https://www.kickstarter.com...      3461.0  domestic  \n",
       "\n",
       "[2 rows x 38 columns]"
      ]
     },
     "execution_count": 5,
     "metadata": {},
     "output_type": "execute_result"
    }
   ],
   "source": [
    "data = pd.DataFrame()\n",
    "for root,dirs,files in os.walk('./input') :\n",
    "    for file in files :\n",
    "        if file.endswith('.csv') :\n",
    "            path = os.path.join(root,file)\n",
    "            data = data.append(pd.read_csv(path))\n",
    "\n",
    "df = data.copy()\n",
    "print(df.shape)\n",
    "df.head(2)"
   ]
  },
  {
   "cell_type": "code",
   "execution_count": 56,
   "metadata": {
    "id": "4h_e8Lmu0Ghl"
   },
   "outputs": [],
   "source": []
  },
  {
   "cell_type": "code",
   "execution_count": 6,
   "metadata": {
    "colab": {
     "base_uri": "https://localhost:8080/",
     "height": 153
    },
    "id": "j68p6kKpvJWI",
    "outputId": "990758b8-51b7-4f80-dee4-9e641b4079ea"
   },
   "outputs": [
    {
     "name": "stdout",
     "output_type": "stream",
     "text": [
      "['blurb', 'category', 'country', 'country_displayable_name', 'creator', 'location', 'name', 'photo', 'profile', 'slug', 'source_url', 'urls']\n",
      "\n"
     ]
    },
    {
     "data": {
      "text/plain": [
       "{'currency': array(['USD', 'AUD', 'CAD', 'DKK', 'GBP', 'EUR', 'MXN', 'SEK', 'HKD',\n",
       "        'NOK', 'SGD', 'JPY', 'NZD', 'CHF'], dtype=object),\n",
       " 'currency_symbol': array(['$', 'kr', '£', '€', '¥', 'Fr '], dtype=object),\n",
       " 'current_currency': array(['USD', 'AUD', 'CAD', 'EUR', 'NOK'], dtype=object),\n",
       " 'friends': array([nan, '[]',\n",
       "        '[{\"id\":891191024,\"name\":\"Roman Kotiv\",\"is_friend\":true,\"is_registered\":null,\"chosen_currency\":null,\"is_superbacker\":null,\"avatar\":{\"thumb\":\"https://ksr-ugc.imgix.net/assets/006/968/734/7c06f13b13aae2c0a1c641b5c7d81763_original.jpg?ixlib=rb-2.1.0&w=40&h=40&fit=crop&v=1461424750&auto=format&frame=1&q=92&s=cc28cbfe597926dcb69288efb94db69c\",\"small\":\"https://ksr-ugc.imgix.net/assets/006/968/734/7c06f13b13aae2c0a1c641b5c7d81763_original.jpg?ixlib=rb-2.1.0&w=80&h=80&fit=crop&v=1461424750&auto=format&frame=1&q=92&s=02d246bff97c93b1f586464b698946b2\",\"medium\":\"https://ksr-ugc.imgix.net/assets/006/968/734/7c06f13b13aae2c0a1c641b5c7d81763_original.jpg?ixlib=rb-2.1.0&w=160&h=160&fit=crop&v=1461424750&auto=format&frame=1&q=92&s=30b6cc2f967c9d2c4eb7bf4f5215c1ea\"},\"urls\":{\"web\":{\"user\":\"https://www.kickstarter.com/profile/891191024\"},\"api\":{\"user\":\"https://api.kickstarter.com/v1/users/891191024?signature=1600388729.0088fc345996d170c592048e1e61c03897eaaaed\"}}}]'],\n",
       "       dtype=object),\n",
       " 'is_backing': array([nan, False], dtype=object),\n",
       " 'is_starred': array([nan, False, True], dtype=object),\n",
       " 'permissions': array([nan, '[]'], dtype=object),\n",
       " 'state': array(['successful', 'failed', 'live', 'canceled'], dtype=object),\n",
       " 'usd_type': array(['domestic', nan, 'international'], dtype=object)}"
      ]
     },
     "execution_count": 6,
     "metadata": {},
     "output_type": "execute_result"
    }
   ],
   "source": [
    "big_cats = []\n",
    "unique_values = {}\n",
    "for col in df.keys() :\n",
    "    if is_numeric_dtype(df[col]) : continue\n",
    "    if df[col].nunique() > 15 : \n",
    "        big_cats.append(col)\n",
    "        continue\n",
    "    unique_values[col] = df[col].unique()\n",
    "\n",
    "print(f'{big_cats}\\n')\n",
    "unique_values"
   ]
  },
  {
   "cell_type": "code",
   "execution_count": 11,
   "metadata": {
    "id": "M9twa5H85tq5"
   },
   "outputs": [],
   "source": [
    "def clean_columns(df) :\n",
    "    df = df.copy()\n",
    "    df['main_category'] = df['category'].apply(\n",
    "        lambda x: ast.literal_eval(x)['slug'].split('/')[0]\n",
    "    )\n",
    "\n",
    "    df['successful'] = pd.Series(df['goal'] <= df['converted_pledged_amount'],dtype=np.int8)\n",
    "    df.drop(columns=['goal','converted_pledged_amount'],inplace=True)\n",
    "\n",
    "    unix_cols = ['launched_at','deadline','state_changed_at']\n",
    "    for col in unix_cols :\n",
    "        df[col] = pd.to_datetime(df[col],origin='unix')\n",
    "\n",
    "    scrape_date = datetime.datetime(2020,9,17)\n",
    "    df = df[df['deadline'] < scrape_date]\n",
    "    df['deadline'] = (df['deadline'] - df['launched_at']).dt.days\n",
    "\n",
    "    drop_cols = ['blurb','country','creator','currency_symbol','current_currency',\n",
    "                'country_displayable_name','creator','location','name','photo',\n",
    "                'profile','slug','source_url','urls','id','is_backing','is_starred',\n",
    "                'static_usd_rate','usd_pledged','usd_type','category','friends','permissions']\n",
    "    to_datetime_cols = ['created_at']\n",
    "    to_ord_cols = []\n",
    "    to_one_hot_cols = ['currency']\n",
    "\n",
    "    df.drop(columns=drop_cols,inplace=True)\n",
    "\n",
    "    \n",
    "    \n",
    "    for col in to_datetime_cols :\n",
    "        df[col] = pd.to_datetime(df[col],origin='unix')\n",
    "    \n",
    "    for col in to_one_hot_cols:\n",
    "        pd.get_dummies(df[col],prefix=col,drop_first=True)\n",
    "        df.drop(columns=[col],inplace=True)\n",
    "\n",
    "    return df"
   ]
  },
  {
   "cell_type": "code",
   "execution_count": 12,
   "metadata": {
    "id": "J3ZJXZ57uEVI"
   },
   "outputs": [],
   "source": [
    "df_clean = clean_columns(df)"
   ]
  },
  {
   "cell_type": "code",
   "execution_count": 13,
   "metadata": {
    "colab": {
     "base_uri": "https://localhost:8080/",
     "height": 68
    },
    "id": "-E6mF_gb1ito",
    "outputId": "d8591199-eee3-4537-92c7-b7a367749f9f"
   },
   "outputs": [
    {
     "data": {
      "text/plain": [
       "array(['dance', 'food', 'design', 'fashion', 'publishing', 'music', 'art',\n",
       "       'theater', 'journalism', 'photography', 'technology',\n",
       "       'film & video', 'games', 'comics', 'crafts'], dtype=object)"
      ]
     },
     "execution_count": 13,
     "metadata": {},
     "output_type": "execute_result"
    }
   ],
   "source": [
    "df_clean['main_category'].unique()"
   ]
  },
  {
   "cell_type": "code",
   "execution_count": 15,
   "metadata": {
    "id": "ZdRdNEhJyw27"
   },
   "outputs": [
    {
     "data": {
      "text/html": [
       "<div>\n",
       "<style scoped>\n",
       "    .dataframe tbody tr th:only-of-type {\n",
       "        vertical-align: middle;\n",
       "    }\n",
       "\n",
       "    .dataframe tbody tr th {\n",
       "        vertical-align: top;\n",
       "    }\n",
       "\n",
       "    .dataframe thead th {\n",
       "        text-align: right;\n",
       "    }\n",
       "</style>\n",
       "<table border=\"1\" class=\"dataframe\">\n",
       "  <thead>\n",
       "    <tr style=\"text-align: right;\">\n",
       "      <th></th>\n",
       "      <th>backers_count</th>\n",
       "      <th>created_at</th>\n",
       "      <th>currency_trailing_code</th>\n",
       "      <th>deadline</th>\n",
       "      <th>disable_communication</th>\n",
       "      <th>fx_rate</th>\n",
       "      <th>is_starrable</th>\n",
       "      <th>launched_at</th>\n",
       "      <th>pledged</th>\n",
       "      <th>spotlight</th>\n",
       "      <th>staff_pick</th>\n",
       "      <th>state</th>\n",
       "      <th>state_changed_at</th>\n",
       "      <th>main_category</th>\n",
       "      <th>successful</th>\n",
       "    </tr>\n",
       "  </thead>\n",
       "  <tbody>\n",
       "    <tr>\n",
       "      <th>0</th>\n",
       "      <td>61</td>\n",
       "      <td>1970-01-01 00:00:01.579292017</td>\n",
       "      <td>True</td>\n",
       "      <td>0</td>\n",
       "      <td>False</td>\n",
       "      <td>1.0</td>\n",
       "      <td>False</td>\n",
       "      <td>1970-01-01 00:00:01.580433192</td>\n",
       "      <td>4618.0</td>\n",
       "      <td>True</td>\n",
       "      <td>True</td>\n",
       "      <td>successful</td>\n",
       "      <td>1970-01-01 00:00:01.583025192</td>\n",
       "      <td>dance</td>\n",
       "      <td>1</td>\n",
       "    </tr>\n",
       "    <tr>\n",
       "      <th>1</th>\n",
       "      <td>52</td>\n",
       "      <td>1970-01-01 00:00:01.446051515</td>\n",
       "      <td>True</td>\n",
       "      <td>0</td>\n",
       "      <td>False</td>\n",
       "      <td>1.0</td>\n",
       "      <td>False</td>\n",
       "      <td>1970-01-01 00:00:01.447526057</td>\n",
       "      <td>3461.0</td>\n",
       "      <td>False</td>\n",
       "      <td>True</td>\n",
       "      <td>failed</td>\n",
       "      <td>1970-01-01 00:00:01.450118057</td>\n",
       "      <td>food</td>\n",
       "      <td>0</td>\n",
       "    </tr>\n",
       "    <tr>\n",
       "      <th>2</th>\n",
       "      <td>0</td>\n",
       "      <td>1970-01-01 00:00:01.518159717</td>\n",
       "      <td>True</td>\n",
       "      <td>0</td>\n",
       "      <td>False</td>\n",
       "      <td>1.0</td>\n",
       "      <td>False</td>\n",
       "      <td>1970-01-01 00:00:01.518208887</td>\n",
       "      <td>0.0</td>\n",
       "      <td>False</td>\n",
       "      <td>False</td>\n",
       "      <td>failed</td>\n",
       "      <td>1970-01-01 00:00:01.520233260</td>\n",
       "      <td>food</td>\n",
       "      <td>0</td>\n",
       "    </tr>\n",
       "    <tr>\n",
       "      <th>3</th>\n",
       "      <td>2</td>\n",
       "      <td>1970-01-01 00:00:01.454217596</td>\n",
       "      <td>True</td>\n",
       "      <td>0</td>\n",
       "      <td>False</td>\n",
       "      <td>1.0</td>\n",
       "      <td>False</td>\n",
       "      <td>1970-01-01 00:00:01.454705444</td>\n",
       "      <td>25.0</td>\n",
       "      <td>False</td>\n",
       "      <td>False</td>\n",
       "      <td>failed</td>\n",
       "      <td>1970-01-01 00:00:01.459885844</td>\n",
       "      <td>food</td>\n",
       "      <td>0</td>\n",
       "    </tr>\n",
       "    <tr>\n",
       "      <th>4</th>\n",
       "      <td>150</td>\n",
       "      <td>1970-01-01 00:00:01.571342290</td>\n",
       "      <td>True</td>\n",
       "      <td>0</td>\n",
       "      <td>False</td>\n",
       "      <td>1.0</td>\n",
       "      <td>False</td>\n",
       "      <td>1970-01-01 00:00:01.573236000</td>\n",
       "      <td>3275.0</td>\n",
       "      <td>True</td>\n",
       "      <td>False</td>\n",
       "      <td>successful</td>\n",
       "      <td>1970-01-01 00:00:01.574445600</td>\n",
       "      <td>design</td>\n",
       "      <td>1</td>\n",
       "    </tr>\n",
       "  </tbody>\n",
       "</table>\n",
       "</div>"
      ],
      "text/plain": [
       "   backers_count                    created_at  currency_trailing_code  \\\n",
       "0             61 1970-01-01 00:00:01.579292017                    True   \n",
       "1             52 1970-01-01 00:00:01.446051515                    True   \n",
       "2              0 1970-01-01 00:00:01.518159717                    True   \n",
       "3              2 1970-01-01 00:00:01.454217596                    True   \n",
       "4            150 1970-01-01 00:00:01.571342290                    True   \n",
       "\n",
       "   deadline  disable_communication  fx_rate  is_starrable  \\\n",
       "0         0                  False      1.0         False   \n",
       "1         0                  False      1.0         False   \n",
       "2         0                  False      1.0         False   \n",
       "3         0                  False      1.0         False   \n",
       "4         0                  False      1.0         False   \n",
       "\n",
       "                    launched_at  pledged  spotlight  staff_pick       state  \\\n",
       "0 1970-01-01 00:00:01.580433192   4618.0       True        True  successful   \n",
       "1 1970-01-01 00:00:01.447526057   3461.0      False        True      failed   \n",
       "2 1970-01-01 00:00:01.518208887      0.0      False       False      failed   \n",
       "3 1970-01-01 00:00:01.454705444     25.0      False       False      failed   \n",
       "4 1970-01-01 00:00:01.573236000   3275.0       True       False  successful   \n",
       "\n",
       "               state_changed_at main_category  successful  \n",
       "0 1970-01-01 00:00:01.583025192         dance           1  \n",
       "1 1970-01-01 00:00:01.450118057          food           0  \n",
       "2 1970-01-01 00:00:01.520233260          food           0  \n",
       "3 1970-01-01 00:00:01.459885844          food           0  \n",
       "4 1970-01-01 00:00:01.574445600        design           1  "
      ]
     },
     "execution_count": 15,
     "metadata": {},
     "output_type": "execute_result"
    }
   ],
   "source": [
    "df_clean.head()"
   ]
  },
  {
   "cell_type": "code",
   "execution_count": 82,
   "metadata": {
    "id": "ME6xJ3xN-tuj"
   },
   "outputs": [],
   "source": []
  },
  {
   "cell_type": "code",
   "execution_count": null,
   "metadata": {
    "id": "NDLfycIV_R1r"
   },
   "outputs": [],
   "source": []
  }
 ],
 "metadata": {
  "colab": {
   "name": "Kickstarter.ipynb",
   "provenance": []
  },
  "kernelspec": {
   "display_name": "Python 3",
   "language": "python",
   "name": "python3"
  },
  "language_info": {
   "codemirror_mode": {
    "name": "ipython",
    "version": 3
   },
   "file_extension": ".py",
   "mimetype": "text/x-python",
   "name": "python",
   "nbconvert_exporter": "python",
   "pygments_lexer": "ipython3",
   "version": "3.8.6"
  }
 },
 "nbformat": 4,
 "nbformat_minor": 1
}
