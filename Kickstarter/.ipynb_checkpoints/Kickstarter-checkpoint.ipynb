{
 "cells": [
  {
   "cell_type": "code",
   "execution_count": 1,
   "metadata": {
    "id": "rXJVoQVQti8R"
   },
   "outputs": [],
   "source": [
    "# data scrape date: 2020-09-17\n",
    "\n",
    "# extract, transform, and load the data\n",
    "\n",
    "# first, import our essentials\n",
    "import numpy as np\n",
    "import pandas as pd\n",
    "from pandas.api.types import is_numeric_dtype\n",
    "import os\n",
    "import pickle\n",
    "from time import time\n",
    "import random\n",
    "import tensorflow as tf\n",
    "from time import time\n",
    "import datetime\n",
    "import ast"
   ]
  },
  {
   "cell_type": "code",
   "execution_count": 2,
   "metadata": {
    "id": "p93TbJ5ltzji"
   },
   "outputs": [],
   "source": [
    "def seed_everything(seed=0) :\n",
    "    random.seed(seed)\n",
    "    os.environ['PYTHONHASHSEED'] = str(seed)\n",
    "    np.random.seed(seed)\n",
    "    try :\n",
    "        tf.random.set_seed(seed)\n",
    "    except :\n",
    "        pass\n",
    "\n",
    "seed = 69\n",
    "seed_everything(seed=seed)"
   ]
  },
  {
   "cell_type": "code",
   "execution_count": 5,
   "metadata": {
    "colab": {
     "base_uri": "https://localhost:8080/",
     "height": 318
    },
    "id": "RCaD5edFt6DO",
    "outputId": "4531bb2d-7b22-44c8-b5f4-182c4ae76c01"
   },
   "outputs": [
    {
     "name": "stdout",
     "output_type": "stream",
     "text": [
      "(219688, 38)\n"
     ]
    },
    {
     "data": {
      "text/html": [
       "<div>\n",
       "<style scoped>\n",
       "    .dataframe tbody tr th:only-of-type {\n",
       "        vertical-align: middle;\n",
       "    }\n",
       "\n",
       "    .dataframe tbody tr th {\n",
       "        vertical-align: top;\n",
       "    }\n",
       "\n",
       "    .dataframe thead th {\n",
       "        text-align: right;\n",
       "    }\n",
       "</style>\n",
       "<table border=\"1\" class=\"dataframe\">\n",
       "  <thead>\n",
       "    <tr style=\"text-align: right;\">\n",
       "      <th></th>\n",
       "      <th>backers_count</th>\n",
       "      <th>blurb</th>\n",
       "      <th>category</th>\n",
       "      <th>converted_pledged_amount</th>\n",
       "      <th>country</th>\n",
       "      <th>country_displayable_name</th>\n",
       "      <th>created_at</th>\n",
       "      <th>creator</th>\n",
       "      <th>currency</th>\n",
       "      <th>currency_symbol</th>\n",
       "      <th>...</th>\n",
       "      <th>slug</th>\n",
       "      <th>source_url</th>\n",
       "      <th>spotlight</th>\n",
       "      <th>staff_pick</th>\n",
       "      <th>state</th>\n",
       "      <th>state_changed_at</th>\n",
       "      <th>static_usd_rate</th>\n",
       "      <th>urls</th>\n",
       "      <th>usd_pledged</th>\n",
       "      <th>usd_type</th>\n",
       "    </tr>\n",
       "  </thead>\n",
       "  <tbody>\n",
       "    <tr>\n",
       "      <th>0</th>\n",
       "      <td>61</td>\n",
       "      <td>Support great art! Join us as we re-stage the ...</td>\n",
       "      <td>{\"id\":254,\"name\":\"Performances\",\"slug\":\"dance/...</td>\n",
       "      <td>4618</td>\n",
       "      <td>US</td>\n",
       "      <td>the United States</td>\n",
       "      <td>1579292017</td>\n",
       "      <td>{\"id\":2092817311,\"name\":\"Brooklyn Ballet\",\"slu...</td>\n",
       "      <td>USD</td>\n",
       "      <td>$</td>\n",
       "      <td>...</td>\n",
       "      <td>revisionist-history-2</td>\n",
       "      <td>https://www.kickstarter.com/discover/categorie...</td>\n",
       "      <td>True</td>\n",
       "      <td>True</td>\n",
       "      <td>successful</td>\n",
       "      <td>1583025192</td>\n",
       "      <td>1.0</td>\n",
       "      <td>{\"web\":{\"project\":\"https://www.kickstarter.com...</td>\n",
       "      <td>4618.0</td>\n",
       "      <td>domestic</td>\n",
       "    </tr>\n",
       "    <tr>\n",
       "      <th>1</th>\n",
       "      <td>52</td>\n",
       "      <td>JinBucha is a new kind of Brewery in North Par...</td>\n",
       "      <td>{\"id\":307,\"name\":\"Drinks\",\"slug\":\"food/drinks\"...</td>\n",
       "      <td>3461</td>\n",
       "      <td>US</td>\n",
       "      <td>the United States</td>\n",
       "      <td>1446051515</td>\n",
       "      <td>{\"id\":1468694331,\"name\":\"Jing Chen\",\"slug\":\"ji...</td>\n",
       "      <td>USD</td>\n",
       "      <td>$</td>\n",
       "      <td>...</td>\n",
       "      <td>jinbucha-a-modern-kombucha-tasting-room-in-nor...</td>\n",
       "      <td>https://www.kickstarter.com/discover/categorie...</td>\n",
       "      <td>False</td>\n",
       "      <td>True</td>\n",
       "      <td>failed</td>\n",
       "      <td>1450118057</td>\n",
       "      <td>1.0</td>\n",
       "      <td>{\"web\":{\"project\":\"https://www.kickstarter.com...</td>\n",
       "      <td>3461.0</td>\n",
       "      <td>domestic</td>\n",
       "    </tr>\n",
       "  </tbody>\n",
       "</table>\n",
       "<p>2 rows × 38 columns</p>\n",
       "</div>"
      ],
      "text/plain": [
       "   backers_count                                              blurb  \\\n",
       "0             61  Support great art! Join us as we re-stage the ...   \n",
       "1             52  JinBucha is a new kind of Brewery in North Par...   \n",
       "\n",
       "                                            category  \\\n",
       "0  {\"id\":254,\"name\":\"Performances\",\"slug\":\"dance/...   \n",
       "1  {\"id\":307,\"name\":\"Drinks\",\"slug\":\"food/drinks\"...   \n",
       "\n",
       "   converted_pledged_amount country country_displayable_name  created_at  \\\n",
       "0                      4618      US        the United States  1579292017   \n",
       "1                      3461      US        the United States  1446051515   \n",
       "\n",
       "                                             creator currency currency_symbol  \\\n",
       "0  {\"id\":2092817311,\"name\":\"Brooklyn Ballet\",\"slu...      USD               $   \n",
       "1  {\"id\":1468694331,\"name\":\"Jing Chen\",\"slug\":\"ji...      USD               $   \n",
       "\n",
       "   ...                                               slug  \\\n",
       "0  ...                              revisionist-history-2   \n",
       "1  ...  jinbucha-a-modern-kombucha-tasting-room-in-nor...   \n",
       "\n",
       "                                          source_url  spotlight  staff_pick  \\\n",
       "0  https://www.kickstarter.com/discover/categorie...       True        True   \n",
       "1  https://www.kickstarter.com/discover/categorie...      False        True   \n",
       "\n",
       "        state  state_changed_at  static_usd_rate  \\\n",
       "0  successful        1583025192              1.0   \n",
       "1      failed        1450118057              1.0   \n",
       "\n",
       "                                                urls usd_pledged  usd_type  \n",
       "0  {\"web\":{\"project\":\"https://www.kickstarter.com...      4618.0  domestic  \n",
       "1  {\"web\":{\"project\":\"https://www.kickstarter.com...      3461.0  domestic  \n",
       "\n",
       "[2 rows x 38 columns]"
      ]
     },
     "execution_count": 5,
     "metadata": {},
     "output_type": "execute_result"
    }
   ],
   "source": [
    "data = pd.DataFrame()\n",
    "for root,dirs,files in os.walk('./input') :\n",
    "    for file in files :\n",
    "        if file.endswith('.csv') :\n",
    "            path = os.path.join(root,file)\n",
    "            data = data.append(pd.read_csv(path))\n",
    "\n",
    "df = data.copy()\n",
    "print(df.shape)\n",
    "df.head(2)"
   ]
  },
  {
   "cell_type": "markdown",
   "metadata": {
    "id": "TWFqTFStQDwj"
   },
   "source": [
    "# New Section"
   ]
  },
  {
   "cell_type": "code",
   "execution_count": 56,
   "metadata": {
    "id": "4h_e8Lmu0Ghl"
   },
   "outputs": [],
   "source": []
  },
  {
   "cell_type": "code",
   "execution_count": 57,
   "metadata": {
    "colab": {
     "base_uri": "https://localhost:8080/",
     "height": 153
    },
    "id": "j68p6kKpvJWI",
    "outputId": "990758b8-51b7-4f80-dee4-9e641b4079ea"
   },
   "outputs": [
    {
     "name": "stdout",
     "output_type": "stream",
     "text": [
      "['blurb', 'category', 'country', 'country_displayable_name', 'creator', 'location', 'name', 'photo', 'profile', 'slug', 'source_url', 'urls']\n",
      "\n"
     ]
    },
    {
     "data": {
      "text/plain": [
       "{'currency': array(['USD', 'AUD', 'CAD', 'DKK', 'GBP', 'EUR', 'MXN', 'SEK', 'HKD',\n",
       "        'NOK', 'SGD', 'JPY', 'NZD', 'CHF'], dtype=object),\n",
       " 'currency_symbol': array(['$', 'kr', '£', '€', '¥', 'Fr '], dtype=object),\n",
       " 'current_currency': array(['USD', 'AUD'], dtype=object),\n",
       " 'state': array(['successful', 'failed', 'live', 'canceled'], dtype=object),\n",
       " 'usd_type': array(['domestic', nan], dtype=object)}"
      ]
     },
     "execution_count": 57,
     "metadata": {
      "tags": []
     },
     "output_type": "execute_result"
    }
   ],
   "source": [
    "big_cats = []\n",
    "unique_values = {}\n",
    "for col in df.keys() :\n",
    "    if is_numeric_dtype(df[col]) : continue\n",
    "    if df[col].nunique() > 15 : \n",
    "        big_cats.append(col)\n",
    "        continue\n",
    "    unique_values[col] = df[col].unique()\n",
    "\n",
    "print(f'{big_cats}\\n')\n",
    "unique_values"
   ]
  },
  {
   "cell_type": "code",
   "execution_count": 79,
   "metadata": {
    "id": "M9twa5H85tq5"
   },
   "outputs": [],
   "source": [
    "def clean_columns(df) :\n",
    "    df = df.copy()\n",
    "    df['main_category'] = df['category'].apply(\n",
    "        lambda x: ast.literal_eval(x)['slug'].split('/')[0]\n",
    "    )\n",
    "\n",
    "    df['successful'] = pd.Series(df['goal'] <= df['converted_pledged_amount'],dtype=np.int8)\n",
    "    df.drop(columns=['goal','converted_pledged_amount'],inplace=True)\n",
    "\n",
    "    unix_cols = ['launched_at','deadline','state_changed_at']\n",
    "    for col in unix_cols :\n",
    "        df[col] = pd.to_datetime(df[col],origin='unix')\n",
    "\n",
    "    scrape_date = datetime.datetime(2020,9,17)\n",
    "    df = df[df['deadline'] < scrape_date]\n",
    "    df['deadline'] = (df['deadline'] - df['launched_at']).dt.days\n",
    "\n",
    "    drop_cols = ['blurb','country','creator','currency_symbol','current_currency',\n",
    "                'country_displayable_name','creator','location','name','photo',\n",
    "                'profile','slug','source_url','urls','id','is_backing','is_starred',\n",
    "                'static_usd_rate','usd_pledged','usd_type','category','friends','permissions']\n",
    "    to_datetime_cols = ['created_at']\n",
    "    to_ord_cols = []\n",
    "    to_one_hot_cols = ['currency']\n",
    "\n",
    "    df.drop(columns=drop_cols,inplace=True)\n",
    "\n",
    "    \n",
    "    \n",
    "    for col in to_datetime_cols :\n",
    "        df[col] = pd.to_datetime(df[col],origin='unix')\n",
    "\n",
    "    return df"
   ]
  },
  {
   "cell_type": "code",
   "execution_count": 80,
   "metadata": {
    "id": "J3ZJXZ57uEVI"
   },
   "outputs": [],
   "source": [
    "df_clean = clean_columns(df)"
   ]
  },
  {
   "cell_type": "code",
   "execution_count": 83,
   "metadata": {
    "colab": {
     "base_uri": "https://localhost:8080/",
     "height": 68
    },
    "id": "-E6mF_gb1ito",
    "outputId": "d8591199-eee3-4537-92c7-b7a367749f9f"
   },
   "outputs": [
    {
     "data": {
      "text/plain": [
       "array(['dance', 'food', 'design', 'fashion', 'publishing', 'music', 'art',\n",
       "       'theater', 'journalism', 'photography', 'technology',\n",
       "       'film & video', 'games', 'comics', 'crafts'], dtype=object)"
      ]
     },
     "execution_count": 83,
     "metadata": {
      "tags": []
     },
     "output_type": "execute_result"
    }
   ],
   "source": [
    "df_clean['main_category'].unique()"
   ]
  },
  {
   "cell_type": "code",
   "execution_count": 82,
   "metadata": {
    "id": "ZdRdNEhJyw27"
   },
   "outputs": [],
   "source": []
  },
  {
   "cell_type": "code",
   "execution_count": 82,
   "metadata": {
    "id": "ME6xJ3xN-tuj"
   },
   "outputs": [],
   "source": []
  },
  {
   "cell_type": "code",
   "execution_count": null,
   "metadata": {
    "id": "NDLfycIV_R1r"
   },
   "outputs": [],
   "source": []
  }
 ],
 "metadata": {
  "colab": {
   "name": "Kickstarter.ipynb",
   "provenance": []
  },
  "kernelspec": {
   "display_name": "Python 3",
   "language": "python",
   "name": "python3"
  },
  "language_info": {
   "codemirror_mode": {
    "name": "ipython",
    "version": 3
   },
   "file_extension": ".py",
   "mimetype": "text/x-python",
   "name": "python",
   "nbconvert_exporter": "python",
   "pygments_lexer": "ipython3",
   "version": "3.8.6"
  }
 },
 "nbformat": 4,
 "nbformat_minor": 1
}
