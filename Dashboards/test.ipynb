{
 "metadata": {
  "language_info": {
   "codemirror_mode": {
    "name": "ipython",
    "version": 3
   },
   "file_extension": ".py",
   "mimetype": "text/x-python",
   "name": "python",
   "nbconvert_exporter": "python",
   "pygments_lexer": "ipython3",
   "version": "3.8.5-final"
  },
  "orig_nbformat": 2,
  "kernelspec": {
   "name": "python3",
   "display_name": "Python 3",
   "language": "python"
  }
 },
 "nbformat": 4,
 "nbformat_minor": 2,
 "cells": [
  {
   "cell_type": "code",
   "execution_count": 7,
   "metadata": {},
   "outputs": [],
   "source": [
    "import os\n",
    "import sys\n",
    "import fastai\n",
    "import numpy as np\n",
    "import pandas as pd\n",
    "import torch\n",
    "from torch import nn\n",
    "from torch import functional as f"
   ]
  },
  {
   "cell_type": "code",
   "execution_count": 8,
   "metadata": {},
   "outputs": [
    {
     "output_type": "stream",
     "name": "stdout",
     "text": [
      "Help on package fastbook:\n\nNAME\n    fastbook\n\nPACKAGE CONTENTS\n    _nbdev\n\nFUNCTIONS\n    array(...)\n        array(object, dtype=None, copy=True, order='K', subok=False, ndmin=0)\n        \n        Create an array.\n        \n        Parameters\n        ----------\n        object : array_like\n            An array, any object exposing the array interface, an object whose\n            __array__ method returns an array, or any (nested) sequence.\n        dtype : data-type, optional\n            The desired data-type for the array.  If not given, then the type will\n            be determined as the minimum type required to hold the objects in the\n            sequence.\n        copy : bool, optional\n            If true (default), then the object is copied.  Otherwise, a copy will\n            only be made if __array__ returns a copy, if obj is a nested sequence,\n            or if a copy is needed to satisfy any of the other requirements\n            (`dtype`, `order`, etc.).\n        order : {'K', 'A', 'C', 'F'}, optional\n            Specify the memory layout of the array. If object is not an array, the\n            newly created array will be in C order (row major) unless 'F' is\n            specified, in which case it will be in Fortran order (column major).\n            If object is an array the following holds.\n        \n            ===== ========= ===================================================\n            order  no copy                     copy=True\n            ===== ========= ===================================================\n            'K'   unchanged F & C order preserved, otherwise most similar order\n            'A'   unchanged F order if input is F and not C, otherwise C order\n            'C'   C order   C order\n            'F'   F order   F order\n            ===== ========= ===================================================\n        \n            When ``copy=False`` and a copy is made for other reasons, the result is\n            the same as if ``copy=True``, with some exceptions for `A`, see the\n            Notes section. The default order is 'K'.\n        subok : bool, optional\n            If True, then sub-classes will be passed-through, otherwise\n            the returned array will be forced to be a base-class array (default).\n        ndmin : int, optional\n            Specifies the minimum number of dimensions that the resulting\n            array should have.  Ones will be pre-pended to the shape as\n            needed to meet this requirement.\n        \n        Returns\n        -------\n        out : ndarray\n            An array object satisfying the specified requirements.\n        \n        See Also\n        --------\n        empty_like : Return an empty array with shape and type of input.\n        ones_like : Return an array of ones with shape and type of input.\n        zeros_like : Return an array of zeros with shape and type of input.\n        full_like : Return a new array with shape of input filled with value.\n        empty : Return a new uninitialized array.\n        ones : Return a new array setting values to one.\n        zeros : Return a new array setting values to zero.\n        full : Return a new array of given shape filled with value.\n        \n        \n        Notes\n        -----\n        When order is 'A' and `object` is an array in neither 'C' nor 'F' order,\n        and a copy is forced by a change in dtype, then the order of the result is\n        not necessarily 'C' as expected. This is likely a bug.\n        \n        Examples\n        --------\n        >>> np.array([1, 2, 3])\n        array([1, 2, 3])\n        \n        Upcasting:\n        \n        >>> np.array([1, 2, 3.0])\n        array([ 1.,  2.,  3.])\n        \n        More than one dimension:\n        \n        >>> np.array([[1, 2], [3, 4]])\n        array([[1, 2],\n               [3, 4]])\n        \n        Minimum dimensions 2:\n        \n        >>> np.array([1, 2, 3], ndmin=2)\n        array([[1, 2, 3]])\n        \n        Type provided:\n        \n        >>> np.array([1, 2, 3], dtype=complex)\n        array([ 1.+0.j,  2.+0.j,  3.+0.j])\n        \n        Data-type consisting of more than one element:\n        \n        >>> x = np.array([(1,2),(3,4)],dtype=[('a','<i4'),('b','<i4')])\n        >>> x['a']\n        array([1, 3])\n        \n        Creating an array from sub-classes:\n        \n        >>> np.array(np.mat('1 2; 3 4'))\n        array([[1, 2],\n               [3, 4]])\n        \n        >>> np.array(np.mat('1 2; 3 4'), subok=True)\n        matrix([[1, 2],\n                [3, 4]])\n    \n    as_tensor(...)\n        as_tensor(data, dtype=None, device=None) -> Tensor\n        \n        Convert the data into a `torch.Tensor`. If the data is already a `Tensor` with the same `dtype` and `device`,\n        no copy will be performed, otherwise a new `Tensor` will be returned with computational graph retained if data\n        `Tensor` has ``requires_grad=True``. Similarly, if the data is an ``ndarray`` of the corresponding `dtype` and\n        the `device` is the cpu, no copy will be performed.\n        \n        Args:\n            data (array_like): Initial data for the tensor. Can be a list, tuple,\n                NumPy ``ndarray``, scalar, and other types.\n            dtype (:class:`torch.dtype`, optional): the desired data type of returned tensor.\n                Default: if ``None``, infers data type from :attr:`data`.\n            device (:class:`torch.device`, optional): the desired device of returned tensor.\n                Default: if ``None``, uses the current device for the default tensor type\n                (see :func:`torch.set_default_tensor_type`). :attr:`device` will be the CPU\n                for CPU tensor types and the current CUDA device for CUDA tensor types.\n        \n        Example::\n        \n            >>> a = numpy.array([1, 2, 3])\n            >>> t = torch.as_tensor(a)\n            >>> t\n            tensor([ 1,  2,  3])\n            >>> t[0] = -1\n            >>> a\n            array([-1,  2,  3])\n        \n            >>> a = numpy.array([1, 2, 3])\n            >>> t = torch.as_tensor(a, device=torch.device('cuda'))\n            >>> t\n            tensor([ 1,  2,  3])\n            >>> t[0] = -1\n            >>> a\n            array([1,  2,  3])\n    \n    cluster_columns(df, figsize=(10, 6), font_size=12)\n    \n    draw_tree(t, df, size=10, ratio=0.6, precision=0, **kwargs)\n    \n    get_image_files_sorted(path, recurse=True, folders=None)\n    \n    gv(s)\n    \n    image_bear()\n    \n    image_cat()\n    \n    plot_function(f, tx=None, ty=None, title=None, min=-2, max=2, figsize=(6, 4))\n    \n    reduce(...)\n        reduce(function, sequence[, initial]) -> value\n        \n        Apply a function of two arguments cumulatively to the items of a sequence,\n        from left to right, so as to reduce the sequence to a single value.\n        For example, reduce(lambda x, y: x+y, [1, 2, 3, 4, 5]) calculates\n        ((((1+2)+3)+4)+5).  If initial is present, it is placed before the items\n        of the sequence in the calculation, and serves as a default when the\n        sequence is empty.\n    \n    search_images_bing(key, term, min_sz=128, max_images=150)\n    \n    search_images_ddg(term, max_images=200)\n        Search for `term` with DuckDuckGo and return a unique urls of about `max_images` images\n    \n    setup_book()\n    \n    setup_colab()\n        Sets up Colab. First run `!pip install -Uqq fastbook` in a cell\n    \n    warn(message, category=None, stacklevel=1, source=None)\n        Issue a warning, or maybe ignore it or raise an exception.\n\nDATA\n    BBoxBlock = <fastai.data.block.TransformBlock object>\n    ExceptionsHTTP = {400: <class 'fastcore.basics.HTTP400BadRequestError'...\n    Generator = typing.Generator\n    IN_COLAB = False\n    IN_IPYTHON = True\n    IN_JUPYTER = True\n    IN_NOTEBOOK = True\n    Iterable = typing.Iterable\n    Iterator = typing.Iterator\n    OpenMask = PILBase.create:\n    encodes: (Path,object) -> create...ject) ->...\n    Optional = typing.Optional\n    PointBlock = <fastai.data.block.TransformBlock object>\n    SCRIPT_INFO = namespace(func=None)\n    Self = <fastcore.basics._SelfCls object>\n    Sequence = typing.Sequence\n    Sig = <fastcore.transform._Sig object>\n    TEST_IMAGE = 'images/puppy.jpg'\n    TEST_IMAGE_BW = 'images/mnist3.png'\n    TensorPointCreate = TensorPoint.create:\n    encodes: (object,object) -> cr...\n    TensorTypes = (<class 'fastai.torch_core.TensorImage'>, <class 'fastai...\n    Union = typing.Union\n    arg0 = <fastcore.basics._Arg object>\n    arg1 = <fastcore.basics._Arg object>\n    arg2 = <fastcore.basics._Arg object>\n    arg3 = <fastcore.basics._Arg object>\n    arg4 = <fastcore.basics._Arg object>\n    aspect = None\n    bn_types = (<class 'torch.nn.modules.batchnorm.BatchNorm1d'>, <class '...\n    cifar_stats = ([0.491, 0.482, 0.447], [0.247, 0.243, 0.261])\n    defaults = namespace(activation=<class 'torch.nn.modules.ac...ressCall...\n    exception = <fastcore.test.ExceptionExpected object>\n    exp_rmspe = <fastai.metrics.AccumMetric object>\n    g0 = [2, 2, 2, 2]\n    g1 = [3, 4, 6, 3]\n    g2 = [3, 4, 23, 3]\n    g3 = [3, 8, 36, 3]\n    image_extensions = {'.3fr', '.ari', '.arw', '.bay', '.bmp', '.cap', .....\n    imagenet_stats = ([0.485, 0.456, 0.406], [0.229, 0.224, 0.225])\n    inplace_relu = functools.partial(<class 'torch.nn.modules.activation.R...\n    inum_methods = ['__iadd__', '__isub__', '__imul__', '__imatmul__', '__...\n    mnist_stats = ([0.131], [0.308])\n    model_meta = {<function xresnet18>: {'cut': -4, 'split': <function _xr...\n    n_px = None\n    norm_types = (<class 'torch.nn.modules.batchnorm.BatchNorm1d'>, <class...\n    null = <fastcore.basics.NullType object>\n    num_methods = ['__add__', '__sub__', '__mul__', '__matmul__', '__trued...\n    perplexity = <fastai.metrics.Perplexity object>\n    pytorch_hp_map = {'alpha': 'sqr_mom', 'betas__0': 'mom', 'betas__1': '...\n    re_digits_first = re.compile('^[0-9]+[a-z]*_')\n    rmse = <fastai.metrics.AccumMetric object>\n    rnum_methods = ['__radd__', '__rsub__', '__rmul__', '__rmatmul__', '__...\n    se_kwargs1 = {'groups': 1, 'reduction': 16}\n    se_kwargs2 = {'groups': 32, 'reduction': 16}\n    se_kwargs3 = {'groups': 32, 'reduction': 0}\n    shape = None\n    spark_chars = '▁▂▃▅▆▇'\n    string_classes = (<class 'str'>, <class 'bytes'>)\n    typedispatch = <fastcore.dispatch.DispatchReg object>\n    url_default_headers = {'Accept': 'text/html,application/xhtml+xml,appl...\n\nVERSION\n    0.0.16\n\nFILE\n    c:\\programdata\\miniconda3\\lib\\site-packages\\fastbook\\__init__.py\n\n\n"
     ]
    }
   ],
   "source": []
  },
  {
   "cell_type": "code",
   "execution_count": null,
   "metadata": {},
   "outputs": [],
   "source": []
  }
 ]
}